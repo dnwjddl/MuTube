{
  "nbformat": 4,
  "nbformat_minor": 0,
  "metadata": {
    "colab": {
      "name": "clustering_tuning",
      "provenance": [],
      "collapsed_sections": [
        "IHCXgn50r9_z",
        "Zbnigt1u2EtO",
        "2gYwh1NS-Odx",
        "LjdpbQtp-Q7Y"
      ],
      "mount_file_id": "1-mMgLoo9id_H8gN5b0HBe-jcCB0onHL4",
      "authorship_tag": "ABX9TyP/6WzzhC/557Z4ZED1wXUZ",
      "include_colab_link": true
    },
    "kernelspec": {
      "name": "python3",
      "display_name": "Python 3"
    },
    "accelerator": "GPU"
  },
  "cells": [
    {
      "cell_type": "markdown",
      "metadata": {
        "id": "view-in-github",
        "colab_type": "text"
      },
      "source": [
        "<a href=\"https://colab.research.google.com/github/gyeoldere/MuTube/blob/master/clustering_tuning.ipynb\" target=\"_parent\"><img src=\"https://colab.research.google.com/assets/colab-badge.svg\" alt=\"Open In Colab\"/></a>"
      ]
    },
    {
      "cell_type": "code",
      "metadata": {
        "id": "r-7_sWkYZZCj",
        "colab": {
          "base_uri": "https://localhost:8080/"
        },
        "outputId": "0b4d402b-0395-49e9-9f67-a07ab4dad9c7"
      },
      "source": [
        "!pip install konlpy\n",
        "!pip install mglearn\n",
        "!pip install gluonnlp\n",
        "!pip install mxnet\n",
        "!pip install transformers==2.4.1"
      ],
      "execution_count": 1,
      "outputs": [
        {
          "output_type": "stream",
          "text": [
            "Collecting konlpy\n",
            "\u001b[?25l  Downloading https://files.pythonhosted.org/packages/85/0e/f385566fec837c0b83f216b2da65db9997b35dd675e107752005b7d392b1/konlpy-0.5.2-py2.py3-none-any.whl (19.4MB)\n",
            "\u001b[K     |████████████████████████████████| 19.4MB 1.4MB/s \n",
            "\u001b[?25hCollecting beautifulsoup4==4.6.0\n",
            "\u001b[?25l  Downloading https://files.pythonhosted.org/packages/9e/d4/10f46e5cfac773e22707237bfcd51bbffeaf0a576b0a847ec7ab15bd7ace/beautifulsoup4-4.6.0-py3-none-any.whl (86kB)\n",
            "\u001b[K     |████████████████████████████████| 92kB 11.5MB/s \n",
            "\u001b[?25hCollecting tweepy>=3.7.0\n",
            "  Downloading https://files.pythonhosted.org/packages/bb/7c/99d51f80f3b77b107ebae2634108717362c059a41384a1810d13e2429a81/tweepy-3.9.0-py2.py3-none-any.whl\n",
            "Collecting JPype1>=0.7.0\n",
            "\u001b[?25l  Downloading https://files.pythonhosted.org/packages/fd/96/1030895dea70855a2e1078e3fe0d6a63dcb7c212309e07dc9ee39d33af54/JPype1-1.1.2-cp36-cp36m-manylinux2010_x86_64.whl (450kB)\n",
            "\u001b[K     |████████████████████████████████| 460kB 51.7MB/s \n",
            "\u001b[?25hRequirement already satisfied: lxml>=4.1.0 in /usr/local/lib/python3.6/dist-packages (from konlpy) (4.2.6)\n",
            "Requirement already satisfied: numpy>=1.6 in /usr/local/lib/python3.6/dist-packages (from konlpy) (1.18.5)\n",
            "Collecting colorama\n",
            "  Downloading https://files.pythonhosted.org/packages/44/98/5b86278fbbf250d239ae0ecb724f8572af1c91f4a11edf4d36a206189440/colorama-0.4.4-py2.py3-none-any.whl\n",
            "Requirement already satisfied: requests[socks]>=2.11.1 in /usr/local/lib/python3.6/dist-packages (from tweepy>=3.7.0->konlpy) (2.23.0)\n",
            "Requirement already satisfied: requests-oauthlib>=0.7.0 in /usr/local/lib/python3.6/dist-packages (from tweepy>=3.7.0->konlpy) (1.3.0)\n",
            "Requirement already satisfied: six>=1.10.0 in /usr/local/lib/python3.6/dist-packages (from tweepy>=3.7.0->konlpy) (1.15.0)\n",
            "Requirement already satisfied: typing-extensions; python_version < \"3.8\" in /usr/local/lib/python3.6/dist-packages (from JPype1>=0.7.0->konlpy) (3.7.4.3)\n",
            "Requirement already satisfied: chardet<4,>=3.0.2 in /usr/local/lib/python3.6/dist-packages (from requests[socks]>=2.11.1->tweepy>=3.7.0->konlpy) (3.0.4)\n",
            "Requirement already satisfied: urllib3!=1.25.0,!=1.25.1,<1.26,>=1.21.1 in /usr/local/lib/python3.6/dist-packages (from requests[socks]>=2.11.1->tweepy>=3.7.0->konlpy) (1.24.3)\n",
            "Requirement already satisfied: idna<3,>=2.5 in /usr/local/lib/python3.6/dist-packages (from requests[socks]>=2.11.1->tweepy>=3.7.0->konlpy) (2.10)\n",
            "Requirement already satisfied: certifi>=2017.4.17 in /usr/local/lib/python3.6/dist-packages (from requests[socks]>=2.11.1->tweepy>=3.7.0->konlpy) (2020.11.8)\n",
            "Requirement already satisfied: PySocks!=1.5.7,>=1.5.6; extra == \"socks\" in /usr/local/lib/python3.6/dist-packages (from requests[socks]>=2.11.1->tweepy>=3.7.0->konlpy) (1.7.1)\n",
            "Requirement already satisfied: oauthlib>=3.0.0 in /usr/local/lib/python3.6/dist-packages (from requests-oauthlib>=0.7.0->tweepy>=3.7.0->konlpy) (3.1.0)\n",
            "Installing collected packages: beautifulsoup4, tweepy, JPype1, colorama, konlpy\n",
            "  Found existing installation: beautifulsoup4 4.6.3\n",
            "    Uninstalling beautifulsoup4-4.6.3:\n",
            "      Successfully uninstalled beautifulsoup4-4.6.3\n",
            "  Found existing installation: tweepy 3.6.0\n",
            "    Uninstalling tweepy-3.6.0:\n",
            "      Successfully uninstalled tweepy-3.6.0\n",
            "Successfully installed JPype1-1.1.2 beautifulsoup4-4.6.0 colorama-0.4.4 konlpy-0.5.2 tweepy-3.9.0\n",
            "Collecting mglearn\n",
            "\u001b[?25l  Downloading https://files.pythonhosted.org/packages/65/38/8aced26fce0b2ae82c3c87cd3b6105f38ca6d9d51704ecc44aa54473e6b9/mglearn-0.1.9.tar.gz (540kB)\n",
            "\u001b[K     |████████████████████████████████| 542kB 9.0MB/s \n",
            "\u001b[?25hRequirement already satisfied: numpy in /usr/local/lib/python3.6/dist-packages (from mglearn) (1.18.5)\n",
            "Requirement already satisfied: matplotlib in /usr/local/lib/python3.6/dist-packages (from mglearn) (3.2.2)\n",
            "Requirement already satisfied: scikit-learn in /usr/local/lib/python3.6/dist-packages (from mglearn) (0.22.2.post1)\n",
            "Requirement already satisfied: pandas in /usr/local/lib/python3.6/dist-packages (from mglearn) (1.1.4)\n",
            "Requirement already satisfied: pillow in /usr/local/lib/python3.6/dist-packages (from mglearn) (7.0.0)\n",
            "Requirement already satisfied: cycler in /usr/local/lib/python3.6/dist-packages (from mglearn) (0.10.0)\n",
            "Requirement already satisfied: imageio in /usr/local/lib/python3.6/dist-packages (from mglearn) (2.4.1)\n",
            "Requirement already satisfied: joblib in /usr/local/lib/python3.6/dist-packages (from mglearn) (0.17.0)\n",
            "Requirement already satisfied: kiwisolver>=1.0.1 in /usr/local/lib/python3.6/dist-packages (from matplotlib->mglearn) (1.3.1)\n",
            "Requirement already satisfied: python-dateutil>=2.1 in /usr/local/lib/python3.6/dist-packages (from matplotlib->mglearn) (2.8.1)\n",
            "Requirement already satisfied: pyparsing!=2.0.4,!=2.1.2,!=2.1.6,>=2.0.1 in /usr/local/lib/python3.6/dist-packages (from matplotlib->mglearn) (2.4.7)\n",
            "Requirement already satisfied: scipy>=0.17.0 in /usr/local/lib/python3.6/dist-packages (from scikit-learn->mglearn) (1.4.1)\n",
            "Requirement already satisfied: pytz>=2017.2 in /usr/local/lib/python3.6/dist-packages (from pandas->mglearn) (2018.9)\n",
            "Requirement already satisfied: six in /usr/local/lib/python3.6/dist-packages (from cycler->mglearn) (1.15.0)\n",
            "Building wheels for collected packages: mglearn\n",
            "  Building wheel for mglearn (setup.py) ... \u001b[?25l\u001b[?25hdone\n",
            "  Created wheel for mglearn: filename=mglearn-0.1.9-py2.py3-none-any.whl size=582639 sha256=72beea14fac173117dd739f67ce016c8e28cc0eaa06b3d4f724d387ed7b542e3\n",
            "  Stored in directory: /root/.cache/pip/wheels/eb/a6/ea/a6a3716233fa62fc561259b5cb1e28f79e9ff3592c0adac5f0\n",
            "Successfully built mglearn\n",
            "Installing collected packages: mglearn\n",
            "Successfully installed mglearn-0.1.9\n",
            "Collecting gluonnlp\n",
            "\u001b[?25l  Downloading https://files.pythonhosted.org/packages/9c/81/a238e47ccba0d7a61dcef4e0b4a7fd4473cb86bed3d84dd4fe28d45a0905/gluonnlp-0.10.0.tar.gz (344kB)\n",
            "\u001b[K     |████████████████████████████████| 348kB 8.1MB/s \n",
            "\u001b[?25hRequirement already satisfied: numpy>=1.16.0 in /usr/local/lib/python3.6/dist-packages (from gluonnlp) (1.18.5)\n",
            "Requirement already satisfied: cython in /usr/local/lib/python3.6/dist-packages (from gluonnlp) (0.29.21)\n",
            "Requirement already satisfied: packaging in /usr/local/lib/python3.6/dist-packages (from gluonnlp) (20.4)\n",
            "Requirement already satisfied: pyparsing>=2.0.2 in /usr/local/lib/python3.6/dist-packages (from packaging->gluonnlp) (2.4.7)\n",
            "Requirement already satisfied: six in /usr/local/lib/python3.6/dist-packages (from packaging->gluonnlp) (1.15.0)\n",
            "Building wheels for collected packages: gluonnlp\n",
            "  Building wheel for gluonnlp (setup.py) ... \u001b[?25l\u001b[?25hdone\n",
            "  Created wheel for gluonnlp: filename=gluonnlp-0.10.0-cp36-cp36m-linux_x86_64.whl size=588505 sha256=ced947df3c61543510cfc1d23fbea9ef088817d704e450441417121c7aa9e3d5\n",
            "  Stored in directory: /root/.cache/pip/wheels/37/65/52/63032864a0f31a08b9a88569f803b5bafac8abd207fd7f7534\n",
            "Successfully built gluonnlp\n",
            "Installing collected packages: gluonnlp\n",
            "Successfully installed gluonnlp-0.10.0\n",
            "Collecting mxnet\n",
            "\u001b[?25l  Downloading https://files.pythonhosted.org/packages/29/bb/54cbabe428351c06d10903c658878d29ee7026efbe45133fd133598d6eb6/mxnet-1.7.0.post1-py2.py3-none-manylinux2014_x86_64.whl (55.0MB)\n",
            "\u001b[K     |████████████████████████████████| 55.0MB 73kB/s \n",
            "\u001b[?25hCollecting graphviz<0.9.0,>=0.8.1\n",
            "  Downloading https://files.pythonhosted.org/packages/53/39/4ab213673844e0c004bed8a0781a0721a3f6bb23eb8854ee75c236428892/graphviz-0.8.4-py2.py3-none-any.whl\n",
            "Requirement already satisfied: numpy<2.0.0,>1.16.0 in /usr/local/lib/python3.6/dist-packages (from mxnet) (1.18.5)\n",
            "Requirement already satisfied: requests<3,>=2.20.0 in /usr/local/lib/python3.6/dist-packages (from mxnet) (2.23.0)\n",
            "Requirement already satisfied: certifi>=2017.4.17 in /usr/local/lib/python3.6/dist-packages (from requests<3,>=2.20.0->mxnet) (2020.11.8)\n",
            "Requirement already satisfied: chardet<4,>=3.0.2 in /usr/local/lib/python3.6/dist-packages (from requests<3,>=2.20.0->mxnet) (3.0.4)\n",
            "Requirement already satisfied: idna<3,>=2.5 in /usr/local/lib/python3.6/dist-packages (from requests<3,>=2.20.0->mxnet) (2.10)\n",
            "Requirement already satisfied: urllib3!=1.25.0,!=1.25.1,<1.26,>=1.21.1 in /usr/local/lib/python3.6/dist-packages (from requests<3,>=2.20.0->mxnet) (1.24.3)\n",
            "Installing collected packages: graphviz, mxnet\n",
            "  Found existing installation: graphviz 0.10.1\n",
            "    Uninstalling graphviz-0.10.1:\n",
            "      Successfully uninstalled graphviz-0.10.1\n",
            "Successfully installed graphviz-0.8.4 mxnet-1.7.0.post1\n",
            "Collecting transformers==2.4.1\n",
            "\u001b[?25l  Downloading https://files.pythonhosted.org/packages/ee/fc/bd726a15ab2c66dc09306689d04da07a3770dad724f0883f0a4bfb745087/transformers-2.4.1-py3-none-any.whl (475kB)\n",
            "\u001b[K     |████████████████████████████████| 481kB 8.7MB/s \n",
            "\u001b[?25hRequirement already satisfied: numpy in /usr/local/lib/python3.6/dist-packages (from transformers==2.4.1) (1.18.5)\n",
            "Collecting sacremoses\n",
            "\u001b[?25l  Downloading https://files.pythonhosted.org/packages/7d/34/09d19aff26edcc8eb2a01bed8e98f13a1537005d31e95233fd48216eed10/sacremoses-0.0.43.tar.gz (883kB)\n",
            "\u001b[K     |████████████████████████████████| 890kB 17.8MB/s \n",
            "\u001b[?25hRequirement already satisfied: filelock in /usr/local/lib/python3.6/dist-packages (from transformers==2.4.1) (3.0.12)\n",
            "Collecting boto3\n",
            "\u001b[?25l  Downloading https://files.pythonhosted.org/packages/81/a1/d8b9be4f3996265cb4e42dcd0ba72d61d68062ed6d8ce7e26b37cc399455/boto3-1.16.24-py2.py3-none-any.whl (129kB)\n",
            "\u001b[K     |████████████████████████████████| 133kB 29.7MB/s \n",
            "\u001b[?25hCollecting tokenizers==0.0.11\n",
            "\u001b[?25l  Downloading https://files.pythonhosted.org/packages/5e/36/7af38d572c935f8e0462ec7b4f7a46d73a2b3b1a938f50a5e8132d5b2dc5/tokenizers-0.0.11-cp36-cp36m-manylinux1_x86_64.whl (3.1MB)\n",
            "\u001b[K     |████████████████████████████████| 3.1MB 16.7MB/s \n",
            "\u001b[?25hRequirement already satisfied: tqdm>=4.27 in /usr/local/lib/python3.6/dist-packages (from transformers==2.4.1) (4.41.1)\n",
            "Requirement already satisfied: regex!=2019.12.17 in /usr/local/lib/python3.6/dist-packages (from transformers==2.4.1) (2019.12.20)\n",
            "Requirement already satisfied: requests in /usr/local/lib/python3.6/dist-packages (from transformers==2.4.1) (2.23.0)\n",
            "Collecting sentencepiece\n",
            "\u001b[?25l  Downloading https://files.pythonhosted.org/packages/e5/2d/6d4ca4bef9a67070fa1cac508606328329152b1df10bdf31fb6e4e727894/sentencepiece-0.1.94-cp36-cp36m-manylinux2014_x86_64.whl (1.1MB)\n",
            "\u001b[K     |████████████████████████████████| 1.1MB 58.9MB/s \n",
            "\u001b[?25hRequirement already satisfied: six in /usr/local/lib/python3.6/dist-packages (from sacremoses->transformers==2.4.1) (1.15.0)\n",
            "Requirement already satisfied: click in /usr/local/lib/python3.6/dist-packages (from sacremoses->transformers==2.4.1) (7.1.2)\n",
            "Requirement already satisfied: joblib in /usr/local/lib/python3.6/dist-packages (from sacremoses->transformers==2.4.1) (0.17.0)\n",
            "Collecting jmespath<1.0.0,>=0.7.1\n",
            "  Downloading https://files.pythonhosted.org/packages/07/cb/5f001272b6faeb23c1c9e0acc04d48eaaf5c862c17709d20e3469c6e0139/jmespath-0.10.0-py2.py3-none-any.whl\n",
            "Collecting s3transfer<0.4.0,>=0.3.0\n",
            "\u001b[?25l  Downloading https://files.pythonhosted.org/packages/69/79/e6afb3d8b0b4e96cefbdc690f741d7dd24547ff1f94240c997a26fa908d3/s3transfer-0.3.3-py2.py3-none-any.whl (69kB)\n",
            "\u001b[K     |████████████████████████████████| 71kB 10.1MB/s \n",
            "\u001b[?25hCollecting botocore<1.20.0,>=1.19.24\n",
            "\u001b[?25l  Downloading https://files.pythonhosted.org/packages/08/16/8afd6474045f41bd51002e65862e2066ea2c5de34d0a942e1c4e86098d9a/botocore-1.19.24-py2.py3-none-any.whl (6.9MB)\n",
            "\u001b[K     |████████████████████████████████| 6.9MB 58.2MB/s \n",
            "\u001b[?25hRequirement already satisfied: urllib3!=1.25.0,!=1.25.1,<1.26,>=1.21.1 in /usr/local/lib/python3.6/dist-packages (from requests->transformers==2.4.1) (1.24.3)\n",
            "Requirement already satisfied: chardet<4,>=3.0.2 in /usr/local/lib/python3.6/dist-packages (from requests->transformers==2.4.1) (3.0.4)\n",
            "Requirement already satisfied: certifi>=2017.4.17 in /usr/local/lib/python3.6/dist-packages (from requests->transformers==2.4.1) (2020.11.8)\n",
            "Requirement already satisfied: idna<3,>=2.5 in /usr/local/lib/python3.6/dist-packages (from requests->transformers==2.4.1) (2.10)\n",
            "Requirement already satisfied: python-dateutil<3.0.0,>=2.1 in /usr/local/lib/python3.6/dist-packages (from botocore<1.20.0,>=1.19.24->boto3->transformers==2.4.1) (2.8.1)\n",
            "Building wheels for collected packages: sacremoses\n",
            "  Building wheel for sacremoses (setup.py) ... \u001b[?25l\u001b[?25hdone\n",
            "  Created wheel for sacremoses: filename=sacremoses-0.0.43-cp36-none-any.whl size=893257 sha256=65f8a6de9cd65a6d34206c811c00e9c2fb3ee3a69ef41374cdb1adb633a22f0d\n",
            "  Stored in directory: /root/.cache/pip/wheels/29/3c/fd/7ce5c3f0666dab31a50123635e6fb5e19ceb42ce38d4e58f45\n",
            "Successfully built sacremoses\n",
            "\u001b[31mERROR: botocore 1.19.24 has requirement urllib3<1.27,>=1.25.4; python_version != \"3.4\", but you'll have urllib3 1.24.3 which is incompatible.\u001b[0m\n",
            "Installing collected packages: sacremoses, jmespath, botocore, s3transfer, boto3, tokenizers, sentencepiece, transformers\n",
            "Successfully installed boto3-1.16.24 botocore-1.19.24 jmespath-0.10.0 s3transfer-0.3.3 sacremoses-0.0.43 sentencepiece-0.1.94 tokenizers-0.0.11 transformers-2.4.1\n"
          ],
          "name": "stdout"
        }
      ]
    },
    {
      "cell_type": "code",
      "metadata": {
        "id": "TIvnAgOhsKJw"
      },
      "source": [
        ""
      ],
      "execution_count": null,
      "outputs": []
    },
    {
      "cell_type": "code",
      "metadata": {
        "id": "f43fS9APNWGe"
      },
      "source": [
        "import pandas as pd\n",
        "import urllib.request\n",
        "import matplotlib.pyplot as plt\n",
        "import re\n",
        "from konlpy.tag import Okt\n",
        "from tensorflow.keras.preprocessing.text import Tokenizer\n",
        "import numpy as np\n",
        "from tensorflow.keras.preprocessing.sequence import pad_sequences\n",
        "from sklearn.cluster import KMeans\n",
        "from gensim.models.doc2vec import Doc2Vec, TaggedDocument\n",
        "import mglearn\n",
        "from sklearn.cluster import AgglomerativeClustering\n",
        "import sys\n",
        "from scipy.cluster.hierarchy import dendrogram, linkage\n",
        "from matplotlib import pyplot as plt\n",
        "import random"
      ],
      "execution_count": 2,
      "outputs": []
    },
    {
      "cell_type": "code",
      "metadata": {
        "id": "hS4GE-7eerTl",
        "colab": {
          "base_uri": "https://localhost:8080/"
        },
        "outputId": "98e6c908-fd4e-41d9-c706-617cf4d51104"
      },
      "source": [
        "!gdown --id 1CKmd6EheRX_o1_wHm32GoHMQlUkxTD3E"
      ],
      "execution_count": 3,
      "outputs": [
        {
          "output_type": "stream",
          "text": [
            "Downloading...\n",
            "From: https://drive.google.com/uc?id=1CKmd6EheRX_o1_wHm32GoHMQlUkxTD3E\n",
            "To: /content/JAM.csv\n",
            "8.12MB [00:00, 71.4MB/s]\n"
          ],
          "name": "stdout"
        }
      ]
    },
    {
      "cell_type": "code",
      "metadata": {
        "id": "gltg5EiferNF"
      },
      "source": [
        "data = pd.read_csv(\"JAM.csv\", engine='python',encoding='CP949')"
      ],
      "execution_count": 4,
      "outputs": []
    },
    {
      "cell_type": "code",
      "metadata": {
        "colab": {
          "base_uri": "https://localhost:8080/"
        },
        "id": "HADxfNuQr5xk",
        "outputId": "dd502aff-f772-4477-a87d-d34671a20b0c"
      },
      "source": [
        "from google.colab import drive\n",
        "drive.mount('/content/drive')"
      ],
      "execution_count": 186,
      "outputs": [
        {
          "output_type": "stream",
          "text": [
            "Mounted at /content/drive\n"
          ],
          "name": "stdout"
        }
      ]
    },
    {
      "cell_type": "markdown",
      "metadata": {
        "id": "6yVgIv8BhtlF"
      },
      "source": [
        "# 데이터 분석"
      ]
    },
    {
      "cell_type": "code",
      "metadata": {
        "id": "YCPqJDhggn1-"
      },
      "source": [
        "train_data = pd.DataFrame(data)"
      ],
      "execution_count": 5,
      "outputs": []
    },
    {
      "cell_type": "code",
      "metadata": {
        "id": "43zEkU8MgwYf",
        "colab": {
          "base_uri": "https://localhost:8080/",
          "height": 0
        },
        "outputId": "a1cdd558-ed9b-495a-9f5c-a8785e3ef50f"
      },
      "source": [
        "train_data.head(3) # 데이터 구성요소"
      ],
      "execution_count": 6,
      "outputs": [
        {
          "output_type": "execute_result",
          "data": {
            "text/html": [
              "<div>\n",
              "<style scoped>\n",
              "    .dataframe tbody tr th:only-of-type {\n",
              "        vertical-align: middle;\n",
              "    }\n",
              "\n",
              "    .dataframe tbody tr th {\n",
              "        vertical-align: top;\n",
              "    }\n",
              "\n",
              "    .dataframe thead th {\n",
              "        text-align: right;\n",
              "    }\n",
              "</style>\n",
              "<table border=\"1\" class=\"dataframe\">\n",
              "  <thead>\n",
              "    <tr style=\"text-align: right;\">\n",
              "      <th></th>\n",
              "      <th>년도</th>\n",
              "      <th>가수</th>\n",
              "      <th>제목</th>\n",
              "      <th>성별</th>\n",
              "      <th>장르</th>\n",
              "      <th>최고순위</th>\n",
              "      <th>작사</th>\n",
              "      <th>작곡</th>\n",
              "      <th>소속사</th>\n",
              "      <th>가사</th>\n",
              "    </tr>\n",
              "  </thead>\n",
              "  <tbody>\n",
              "    <tr>\n",
              "      <th>0</th>\n",
              "      <td>19920000</td>\n",
              "      <td>잼</td>\n",
              "      <td>난 멈추지 않는다</td>\n",
              "      <td>mixed</td>\n",
              "      <td>댄스</td>\n",
              "      <td>1</td>\n",
              "      <td>조진호</td>\n",
              "      <td>조진호</td>\n",
              "      <td>DSP 미디어</td>\n",
              "      <td>이제 모든걸 다시 시작해 내겐 아직도 시간이 있어 때론 상처가 좌절로 남아 돌이킬수...</td>\n",
              "    </tr>\n",
              "    <tr>\n",
              "      <th>1</th>\n",
              "      <td>19920000</td>\n",
              "      <td>잼</td>\n",
              "      <td>우리 모두 사랑하자</td>\n",
              "      <td>mixed</td>\n",
              "      <td>댄스</td>\n",
              "      <td>7</td>\n",
              "      <td>조진수</td>\n",
              "      <td>조진수</td>\n",
              "      <td>DSP 미디어</td>\n",
              "      <td>워 우리 모두 사랑하자 우리의 젊은날을 위하여 우리 모두 춤을 추자 가벼운 인스텝 ...</td>\n",
              "    </tr>\n",
              "    <tr>\n",
              "      <th>2</th>\n",
              "      <td>19920000</td>\n",
              "      <td>잼</td>\n",
              "      <td>이유</td>\n",
              "      <td>mixed</td>\n",
              "      <td>발라드</td>\n",
              "      <td>0</td>\n",
              "      <td>조진호</td>\n",
              "      <td>조진호</td>\n",
              "      <td>DSP 미디어</td>\n",
              "      <td>어둠은 드리워지고 이제는 우리들만의 시간이 지친듯이 내 가슴속에 밀려와 나를 재우고...</td>\n",
              "    </tr>\n",
              "  </tbody>\n",
              "</table>\n",
              "</div>"
            ],
            "text/plain": [
              "         년도 가수  ...      소속사                                                 가사\n",
              "0  19920000  잼  ...  DSP 미디어  이제 모든걸 다시 시작해 내겐 아직도 시간이 있어 때론 상처가 좌절로 남아 돌이킬수...\n",
              "1  19920000  잼  ...  DSP 미디어  워 우리 모두 사랑하자 우리의 젊은날을 위하여 우리 모두 춤을 추자 가벼운 인스텝 ...\n",
              "2  19920000  잼  ...  DSP 미디어  어둠은 드리워지고 이제는 우리들만의 시간이 지친듯이 내 가슴속에 밀려와 나를 재우고...\n",
              "\n",
              "[3 rows x 10 columns]"
            ]
          },
          "metadata": {
            "tags": []
          },
          "execution_count": 6
        }
      ]
    },
    {
      "cell_type": "code",
      "metadata": {
        "id": "4arshb14iFLe",
        "colab": {
          "base_uri": "https://localhost:8080/"
        },
        "outputId": "29fda4f5-49b6-4711-e377-2d5236edc457"
      },
      "source": [
        "train_data.shape[0] # 곡 수"
      ],
      "execution_count": 7,
      "outputs": [
        {
          "output_type": "execute_result",
          "data": {
            "text/plain": [
              "5619"
            ]
          },
          "metadata": {
            "tags": []
          },
          "execution_count": 7
        }
      ]
    },
    {
      "cell_type": "code",
      "metadata": {
        "id": "I0wYfgjfg0GQ",
        "colab": {
          "base_uri": "https://localhost:8080/"
        },
        "outputId": "8f55dd48-45c2-4431-b4b1-a826add5a65f"
      },
      "source": [
        "len(train_data['가수'].unique()) # 유니크한 가수의 수"
      ],
      "execution_count": 8,
      "outputs": [
        {
          "output_type": "execute_result",
          "data": {
            "text/plain": [
              "454"
            ]
          },
          "metadata": {
            "tags": []
          },
          "execution_count": 8
        }
      ]
    },
    {
      "cell_type": "code",
      "metadata": {
        "id": "fFmxQm3djJH3",
        "colab": {
          "base_uri": "https://localhost:8080/"
        },
        "outputId": "bf8a869b-de61-4473-8cbc-fb9968145072"
      },
      "source": [
        "train_data.columns # 특성 목록"
      ],
      "execution_count": 9,
      "outputs": [
        {
          "output_type": "execute_result",
          "data": {
            "text/plain": [
              "Index(['년도', '가수', '제목', '성별', '장르', '최고순위', '작사', '작곡', '소속사', '가사'], dtype='object')"
            ]
          },
          "metadata": {
            "tags": []
          },
          "execution_count": 9
        }
      ]
    },
    {
      "cell_type": "code",
      "metadata": {
        "id": "6WeRujLciXG9",
        "colab": {
          "base_uri": "https://localhost:8080/"
        },
        "outputId": "19adf432-f5b0-487e-ecc8-65570894fbee"
      },
      "source": [
        "# 각 attribute에 따른 N/A값의 수\n",
        "for attribute in train_data.columns:\n",
        "    print(train_data[attribute].isnull().sum())\n",
        "    "
      ],
      "execution_count": 10,
      "outputs": [
        {
          "output_type": "stream",
          "text": [
            "0\n",
            "0\n",
            "0\n",
            "0\n",
            "0\n",
            "0\n",
            "41\n",
            "52\n",
            "99\n",
            "1\n"
          ],
          "name": "stdout"
        }
      ]
    },
    {
      "cell_type": "markdown",
      "metadata": {
        "id": "ek8FSMeHjZru"
      },
      "source": [
        "위 셀에서 소속사가 없는 가수에 대한 정보가 다수 포함되어 있음을 알 수 있음.\n",
        "\n"
      ]
    },
    {
      "cell_type": "markdown",
      "metadata": {
        "id": "kFPrNqFujzwm"
      },
      "source": [
        "클러스터링 단계에서는 가사만 사용되므로, 가사가 N/A값인 데이터만 삭제."
      ]
    },
    {
      "cell_type": "code",
      "metadata": {
        "id": "dV6qmocSyPCC"
      },
      "source": [
        "train_data = train_data[train_data['가사'].notnull()]"
      ],
      "execution_count": 11,
      "outputs": []
    },
    {
      "cell_type": "code",
      "metadata": {
        "id": "dwkND7rQxj6Y",
        "colab": {
          "base_uri": "https://localhost:8080/",
          "height": 0
        },
        "outputId": "7341ea20-1c47-4575-c010-32c8ee9748cf"
      },
      "source": [
        "train_data.head(3)"
      ],
      "execution_count": 12,
      "outputs": [
        {
          "output_type": "execute_result",
          "data": {
            "text/html": [
              "<div>\n",
              "<style scoped>\n",
              "    .dataframe tbody tr th:only-of-type {\n",
              "        vertical-align: middle;\n",
              "    }\n",
              "\n",
              "    .dataframe tbody tr th {\n",
              "        vertical-align: top;\n",
              "    }\n",
              "\n",
              "    .dataframe thead th {\n",
              "        text-align: right;\n",
              "    }\n",
              "</style>\n",
              "<table border=\"1\" class=\"dataframe\">\n",
              "  <thead>\n",
              "    <tr style=\"text-align: right;\">\n",
              "      <th></th>\n",
              "      <th>년도</th>\n",
              "      <th>가수</th>\n",
              "      <th>제목</th>\n",
              "      <th>성별</th>\n",
              "      <th>장르</th>\n",
              "      <th>최고순위</th>\n",
              "      <th>작사</th>\n",
              "      <th>작곡</th>\n",
              "      <th>소속사</th>\n",
              "      <th>가사</th>\n",
              "    </tr>\n",
              "  </thead>\n",
              "  <tbody>\n",
              "    <tr>\n",
              "      <th>0</th>\n",
              "      <td>19920000</td>\n",
              "      <td>잼</td>\n",
              "      <td>난 멈추지 않는다</td>\n",
              "      <td>mixed</td>\n",
              "      <td>댄스</td>\n",
              "      <td>1</td>\n",
              "      <td>조진호</td>\n",
              "      <td>조진호</td>\n",
              "      <td>DSP 미디어</td>\n",
              "      <td>이제 모든걸 다시 시작해 내겐 아직도 시간이 있어 때론 상처가 좌절로 남아 돌이킬수...</td>\n",
              "    </tr>\n",
              "    <tr>\n",
              "      <th>1</th>\n",
              "      <td>19920000</td>\n",
              "      <td>잼</td>\n",
              "      <td>우리 모두 사랑하자</td>\n",
              "      <td>mixed</td>\n",
              "      <td>댄스</td>\n",
              "      <td>7</td>\n",
              "      <td>조진수</td>\n",
              "      <td>조진수</td>\n",
              "      <td>DSP 미디어</td>\n",
              "      <td>워 우리 모두 사랑하자 우리의 젊은날을 위하여 우리 모두 춤을 추자 가벼운 인스텝 ...</td>\n",
              "    </tr>\n",
              "    <tr>\n",
              "      <th>2</th>\n",
              "      <td>19920000</td>\n",
              "      <td>잼</td>\n",
              "      <td>이유</td>\n",
              "      <td>mixed</td>\n",
              "      <td>발라드</td>\n",
              "      <td>0</td>\n",
              "      <td>조진호</td>\n",
              "      <td>조진호</td>\n",
              "      <td>DSP 미디어</td>\n",
              "      <td>어둠은 드리워지고 이제는 우리들만의 시간이 지친듯이 내 가슴속에 밀려와 나를 재우고...</td>\n",
              "    </tr>\n",
              "  </tbody>\n",
              "</table>\n",
              "</div>"
            ],
            "text/plain": [
              "         년도 가수  ...      소속사                                                 가사\n",
              "0  19920000  잼  ...  DSP 미디어  이제 모든걸 다시 시작해 내겐 아직도 시간이 있어 때론 상처가 좌절로 남아 돌이킬수...\n",
              "1  19920000  잼  ...  DSP 미디어  워 우리 모두 사랑하자 우리의 젊은날을 위하여 우리 모두 춤을 추자 가벼운 인스텝 ...\n",
              "2  19920000  잼  ...  DSP 미디어  어둠은 드리워지고 이제는 우리들만의 시간이 지친듯이 내 가슴속에 밀려와 나를 재우고...\n",
              "\n",
              "[3 rows x 10 columns]"
            ]
          },
          "metadata": {
            "tags": []
          },
          "execution_count": 12
        }
      ]
    },
    {
      "cell_type": "code",
      "metadata": {
        "id": "lQ7aRtlVkVlo",
        "colab": {
          "base_uri": "https://localhost:8080/"
        },
        "outputId": "a8cc3fb7-9622-4bdc-9555-6058dd51d616"
      },
      "source": [
        "print(train_data['가사'].isnull().sum())"
      ],
      "execution_count": 13,
      "outputs": [
        {
          "output_type": "stream",
          "text": [
            "0\n"
          ],
          "name": "stdout"
        }
      ]
    },
    {
      "cell_type": "markdown",
      "metadata": {
        "id": "WEJgEYhbkdQP"
      },
      "source": [
        "# 데이터 정제"
      ]
    },
    {
      "cell_type": "code",
      "metadata": {
        "id": "qc-ErDmgk3zY",
        "colab": {
          "base_uri": "https://localhost:8080/"
        },
        "outputId": "1748e818-3398-4712-f395-4cde908328bd"
      },
      "source": [
        "# 중복된 가사 확인\n",
        "train_data.shape[0] - train_data['가사'].nunique()"
      ],
      "execution_count": 14,
      "outputs": [
        {
          "output_type": "execute_result",
          "data": {
            "text/plain": [
              "0"
            ]
          },
          "metadata": {
            "tags": []
          },
          "execution_count": 14
        }
      ]
    },
    {
      "cell_type": "markdown",
      "metadata": {
        "id": "jUpyLaiFlSMn"
      },
      "source": [
        "1605개 중복된 데이터가 있음을 확인\n"
      ]
    },
    {
      "cell_type": "code",
      "metadata": {
        "id": "NsEnw9chlR6Y"
      },
      "source": [
        "# 중복된 가사 제거\n",
        "train_data.drop_duplicates(subset=['가사'], inplace=True)"
      ],
      "execution_count": 15,
      "outputs": []
    },
    {
      "cell_type": "code",
      "metadata": {
        "id": "uq_juQktmBjw",
        "colab": {
          "base_uri": "https://localhost:8080/"
        },
        "outputId": "40d04494-43d1-4faf-d6b7-a74d665693c6"
      },
      "source": [
        "len(train_data) - train_data['가사'].nunique()"
      ],
      "execution_count": 16,
      "outputs": [
        {
          "output_type": "execute_result",
          "data": {
            "text/plain": [
              "0"
            ]
          },
          "metadata": {
            "tags": []
          },
          "execution_count": 16
        }
      ]
    },
    {
      "cell_type": "code",
      "metadata": {
        "id": "VKypFD_il_4q",
        "colab": {
          "base_uri": "https://localhost:8080/"
        },
        "outputId": "b76b2de3-18ed-4ac7-c24a-b0603bbaf36a"
      },
      "source": [
        "print('총 샘플의 수 :',len(train_data))"
      ],
      "execution_count": 17,
      "outputs": [
        {
          "output_type": "stream",
          "text": [
            "총 샘플의 수 : 5618\n"
          ],
          "name": "stdout"
        }
      ]
    },
    {
      "cell_type": "code",
      "metadata": {
        "id": "28mr71mp1_x4"
      },
      "source": [
        "'년도', '가수', '제목', '성별', '장르', '최고순위', '작사', '작곡', '소속사', '가사'\n",
        "titles = train_data['제목'].reset_index()\n",
        "groups = train_data['가수'].reset_index()\n",
        "\n",
        "titles_groups = pd.concat([titles, groups],axis=1)\n",
        "\n",
        "# 각 데이터를 따로 구하고 싶으면 다음 주석을 해제하여 사용\n",
        "'''\n",
        "groups = train_data['년도'].reset_index()\n",
        "groups = train_data['장르'].reset_index()\n",
        "groups = train_data['성별'].reset_index()\n",
        "groups = train_data['최고순위'].reset_index()\n",
        "groups = train_data['작사'].reset_index()\n",
        "groups = train_data['작곡'].reset_index()\n",
        "groups = train_data['소속사'].reset_index()\n",
        "'''\n",
        "\n",
        "# 전처리가 끝난 전체 dataframe을 사용하고 싶을 때\n",
        "train_data_all = train_data\n",
        "\n",
        "train_data = train_data['가사'].reset_index()"
      ],
      "execution_count": 18,
      "outputs": []
    },
    {
      "cell_type": "code",
      "metadata": {
        "id": "uzB568ukhf1q"
      },
      "source": [
        ""
      ],
      "execution_count": 18,
      "outputs": []
    },
    {
      "cell_type": "markdown",
      "metadata": {
        "id": "Jb7_pEWLmSi5"
      },
      "source": [
        "# 데이터 전처리"
      ]
    },
    {
      "cell_type": "markdown",
      "metadata": {
        "id": "RPY3eCRKnJus"
      },
      "source": [
        "이모티콘을 포함한 특수문자 모두 제거"
      ]
    },
    {
      "cell_type": "code",
      "metadata": {
        "id": "QaMf8pBUmT1S",
        "colab": {
          "base_uri": "https://localhost:8080/",
          "height": 0
        },
        "outputId": "7a530b75-1613-43c5-c479-a8aa3d273e2f"
      },
      "source": [
        "train_data['가사'] = train_data['가사'].str.replace(\"[^ㄱ-ㅎㅏ-ㅣ가-힣a-zA-Z ]\",\"\")\n",
        "train_data[:5]"
      ],
      "execution_count": 19,
      "outputs": [
        {
          "output_type": "execute_result",
          "data": {
            "text/html": [
              "<div>\n",
              "<style scoped>\n",
              "    .dataframe tbody tr th:only-of-type {\n",
              "        vertical-align: middle;\n",
              "    }\n",
              "\n",
              "    .dataframe tbody tr th {\n",
              "        vertical-align: top;\n",
              "    }\n",
              "\n",
              "    .dataframe thead th {\n",
              "        text-align: right;\n",
              "    }\n",
              "</style>\n",
              "<table border=\"1\" class=\"dataframe\">\n",
              "  <thead>\n",
              "    <tr style=\"text-align: right;\">\n",
              "      <th></th>\n",
              "      <th>index</th>\n",
              "      <th>가사</th>\n",
              "    </tr>\n",
              "  </thead>\n",
              "  <tbody>\n",
              "    <tr>\n",
              "      <th>0</th>\n",
              "      <td>0</td>\n",
              "      <td>이제 모든걸 다시 시작해 내겐 아직도 시간이 있어 때론 상처가 좌절로 남아 돌이킬수...</td>\n",
              "    </tr>\n",
              "    <tr>\n",
              "      <th>1</th>\n",
              "      <td>1</td>\n",
              "      <td>워 우리 모두 사랑하자 우리의 젊은날을 위하여 우리 모두 춤을 추자 가벼운 인스텝 ...</td>\n",
              "    </tr>\n",
              "    <tr>\n",
              "      <th>2</th>\n",
              "      <td>2</td>\n",
              "      <td>어둠은 드리워지고 이제는 우리들만의 시간이 지친듯이 내 가슴속에 밀려와 나를 재우고...</td>\n",
              "    </tr>\n",
              "    <tr>\n",
              "      <th>3</th>\n",
              "      <td>3</td>\n",
              "      <td>끝없는 어둠 속을 천천히 걷고 있어 어디서 본 듯한 야릇한 느낌이야 거리는 비에 젖...</td>\n",
              "    </tr>\n",
              "    <tr>\n",
              "      <th>4</th>\n",
              "      <td>4</td>\n",
              "      <td>요즘 친구들은 흥 정말 진정한 친구가 뭔지 잘 몰라 말로만 떠들고 자기들이 다만 그...</td>\n",
              "    </tr>\n",
              "  </tbody>\n",
              "</table>\n",
              "</div>"
            ],
            "text/plain": [
              "   index                                                 가사\n",
              "0      0  이제 모든걸 다시 시작해 내겐 아직도 시간이 있어 때론 상처가 좌절로 남아 돌이킬수...\n",
              "1      1  워 우리 모두 사랑하자 우리의 젊은날을 위하여 우리 모두 춤을 추자 가벼운 인스텝 ...\n",
              "2      2  어둠은 드리워지고 이제는 우리들만의 시간이 지친듯이 내 가슴속에 밀려와 나를 재우고...\n",
              "3      3  끝없는 어둠 속을 천천히 걷고 있어 어디서 본 듯한 야릇한 느낌이야 거리는 비에 젖...\n",
              "4      4  요즘 친구들은 흥 정말 진정한 친구가 뭔지 잘 몰라 말로만 떠들고 자기들이 다만 그..."
            ]
          },
          "metadata": {
            "tags": []
          },
          "execution_count": 19
        }
      ]
    },
    {
      "cell_type": "code",
      "metadata": {
        "id": "1cokMR9ym_cN",
        "colab": {
          "base_uri": "https://localhost:8080/"
        },
        "outputId": "0ca9a70d-b976-4e1a-b0cb-76002f0b3068"
      },
      "source": [
        "# 아무 것도 남지 않은 데이터 N/A로 변경\n",
        "train_data['가사'].replace('', np.nan, inplace=True)\n",
        "print(train_data.isnull().sum())"
      ],
      "execution_count": 20,
      "outputs": [
        {
          "output_type": "stream",
          "text": [
            "index    0\n",
            "가사       0\n",
            "dtype: int64\n"
          ],
          "name": "stdout"
        }
      ]
    },
    {
      "cell_type": "code",
      "metadata": {
        "id": "8aPJtY-wnGaR"
      },
      "source": [
        "# 문장부호들을 제거하는 것으로 생긴 N/A값들 모두 제거\n",
        "train_data = train_data.dropna(how = 'any')"
      ],
      "execution_count": 21,
      "outputs": []
    },
    {
      "cell_type": "code",
      "metadata": {
        "colab": {
          "base_uri": "https://localhost:8080/",
          "height": 0
        },
        "id": "jw29SCN3goWj",
        "outputId": "7ea52aa6-76eb-48cc-ba04-fdc0d9dd4219"
      },
      "source": [
        "train_data_all[:4]"
      ],
      "execution_count": 22,
      "outputs": [
        {
          "output_type": "execute_result",
          "data": {
            "text/html": [
              "<div>\n",
              "<style scoped>\n",
              "    .dataframe tbody tr th:only-of-type {\n",
              "        vertical-align: middle;\n",
              "    }\n",
              "\n",
              "    .dataframe tbody tr th {\n",
              "        vertical-align: top;\n",
              "    }\n",
              "\n",
              "    .dataframe thead th {\n",
              "        text-align: right;\n",
              "    }\n",
              "</style>\n",
              "<table border=\"1\" class=\"dataframe\">\n",
              "  <thead>\n",
              "    <tr style=\"text-align: right;\">\n",
              "      <th></th>\n",
              "      <th>년도</th>\n",
              "      <th>가수</th>\n",
              "      <th>제목</th>\n",
              "      <th>성별</th>\n",
              "      <th>장르</th>\n",
              "      <th>최고순위</th>\n",
              "      <th>작사</th>\n",
              "      <th>작곡</th>\n",
              "      <th>소속사</th>\n",
              "      <th>가사</th>\n",
              "    </tr>\n",
              "  </thead>\n",
              "  <tbody>\n",
              "    <tr>\n",
              "      <th>0</th>\n",
              "      <td>19920000</td>\n",
              "      <td>잼</td>\n",
              "      <td>난 멈추지 않는다</td>\n",
              "      <td>mixed</td>\n",
              "      <td>댄스</td>\n",
              "      <td>1</td>\n",
              "      <td>조진호</td>\n",
              "      <td>조진호</td>\n",
              "      <td>DSP 미디어</td>\n",
              "      <td>이제 모든걸 다시 시작해 내겐 아직도 시간이 있어 때론 상처가 좌절로 남아 돌이킬수...</td>\n",
              "    </tr>\n",
              "    <tr>\n",
              "      <th>1</th>\n",
              "      <td>19920000</td>\n",
              "      <td>잼</td>\n",
              "      <td>우리 모두 사랑하자</td>\n",
              "      <td>mixed</td>\n",
              "      <td>댄스</td>\n",
              "      <td>7</td>\n",
              "      <td>조진수</td>\n",
              "      <td>조진수</td>\n",
              "      <td>DSP 미디어</td>\n",
              "      <td>워 우리 모두 사랑하자 우리의 젊은날을 위하여 우리 모두 춤을 추자 가벼운 인스텝 ...</td>\n",
              "    </tr>\n",
              "    <tr>\n",
              "      <th>2</th>\n",
              "      <td>19920000</td>\n",
              "      <td>잼</td>\n",
              "      <td>이유</td>\n",
              "      <td>mixed</td>\n",
              "      <td>발라드</td>\n",
              "      <td>0</td>\n",
              "      <td>조진호</td>\n",
              "      <td>조진호</td>\n",
              "      <td>DSP 미디어</td>\n",
              "      <td>어둠은 드리워지고 이제는 우리들만의 시간이 지친듯이 내 가슴속에 밀려와 나를 재우고...</td>\n",
              "    </tr>\n",
              "    <tr>\n",
              "      <th>3</th>\n",
              "      <td>19920000</td>\n",
              "      <td>잼</td>\n",
              "      <td>18번가의 비밀</td>\n",
              "      <td>mixed</td>\n",
              "      <td>댄스</td>\n",
              "      <td>0</td>\n",
              "      <td>조진호</td>\n",
              "      <td>조진호</td>\n",
              "      <td>DSP 미디어</td>\n",
              "      <td>끝없는 어둠 속을 천천히 걷고 있어 어디서 본 듯한 야릇한 느낌이야 거리는 비에 젖...</td>\n",
              "    </tr>\n",
              "  </tbody>\n",
              "</table>\n",
              "</div>"
            ],
            "text/plain": [
              "         년도 가수  ...      소속사                                                 가사\n",
              "0  19920000  잼  ...  DSP 미디어  이제 모든걸 다시 시작해 내겐 아직도 시간이 있어 때론 상처가 좌절로 남아 돌이킬수...\n",
              "1  19920000  잼  ...  DSP 미디어  워 우리 모두 사랑하자 우리의 젊은날을 위하여 우리 모두 춤을 추자 가벼운 인스텝 ...\n",
              "2  19920000  잼  ...  DSP 미디어  어둠은 드리워지고 이제는 우리들만의 시간이 지친듯이 내 가슴속에 밀려와 나를 재우고...\n",
              "3  19920000  잼  ...  DSP 미디어  끝없는 어둠 속을 천천히 걷고 있어 어디서 본 듯한 야릇한 느낌이야 거리는 비에 젖...\n",
              "\n",
              "[4 rows x 10 columns]"
            ]
          },
          "metadata": {
            "tags": []
          },
          "execution_count": 22
        }
      ]
    },
    {
      "cell_type": "markdown",
      "metadata": {
        "id": "PqqPklXSoDmS"
      },
      "source": [
        "# 토크나이징\n"
      ]
    },
    {
      "cell_type": "markdown",
      "metadata": {
        "id": "oBELDZejo_x6"
      },
      "source": [
        "불용어 지정"
      ]
    },
    {
      "cell_type": "code",
      "metadata": {
        "id": "4zbIC8SRo-ui"
      },
      "source": [
        "stopwords = ['의','가','이','은','들','는','좀','잘','걍','과','도','를','으로','자','에','와','한','하다']"
      ],
      "execution_count": 23,
      "outputs": []
    },
    {
      "cell_type": "code",
      "metadata": {
        "id": "vK7eiCvFOBur"
      },
      "source": [
        "okt = Okt()"
      ],
      "execution_count": 24,
      "outputs": []
    },
    {
      "cell_type": "code",
      "metadata": {
        "colab": {
          "base_uri": "https://localhost:8080/",
          "height": 70
        },
        "id": "cF4w8irV0c_s",
        "outputId": "05be8a30-962b-47ac-a734-f338d9e57268"
      },
      "source": [
        " train_data['가사'][0]"
      ],
      "execution_count": 59,
      "outputs": [
        {
          "output_type": "execute_result",
          "data": {
            "application/vnd.google.colaboratory.intrinsic+json": {
              "type": "string"
            },
            "text/plain": [
              "'이제 모든걸 다시 시작해 내겐 아직도 시간이 있어 때론 상처가 좌절로 남아 돌이킬수 없는 후회도 하고  그러나 우리 잊어선 안돼 지금의 나는 내가 아닌걸 신문에 실려온 얘기들 헝클어진 우리들을 탓할순 없어  이제 모든걸 다시 시작해 이렇게 여기서 끝낼순 없어 내겐 아직도 시간이 있어 지금 이렇게 지금 멈출수는 없어  신문에 실려온 얘기들 헝클어진 우리들을 탓할순 없어  이제 모든걸 다시 시작해 이렇게 여기서 끝낼순 없어 내겐 아직도 시간이 있어 지금 이렇게 지금  나는 여기서 멈출순 없어 이제 모든걸 다시 시작해 나는 여기서 멈출순 없어 이제 모든걸 다시 시작해'"
            ]
          },
          "metadata": {
            "tags": []
          },
          "execution_count": 59
        }
      ]
    },
    {
      "cell_type": "markdown",
      "metadata": {
        "id": "mrqo0QIjpMFq"
      },
      "source": [
        "(1회용) Okt를 사용, 형태소 단위로 단어 분류, 일정 수준의 정규화 실행"
      ]
    },
    {
      "cell_type": "code",
      "metadata": {
        "id": "mp2KDL3BpWVn",
        "colab": {
          "base_uri": "https://localhost:8080/",
          "height": 53
        },
        "outputId": "adb2b728-40a9-42f4-f28d-9c7a340bb9ba"
      },
      "source": [
        "'''\n",
        "X_train = []\n",
        "for sentence in train_data['가사']:\n",
        "    temp_X = []\n",
        "    temp_X = okt.morphs(sentence, stem=True) # 토큰화\n",
        "    temp_X = [word for word in temp_X if not word in stopwords] # 불용어 제거\n",
        "    X_train.append(temp_X)\n",
        "'''"
      ],
      "execution_count": 25,
      "outputs": [
        {
          "output_type": "execute_result",
          "data": {
            "application/vnd.google.colaboratory.intrinsic+json": {
              "type": "string"
            },
            "text/plain": [
              "\"\\nX_train = []\\nfor sentence in train_data['가사']:\\n    temp_X = []\\n    temp_X = okt.morphs(sentence, stem=True) # 토큰화\\n    temp_X = [word for word in temp_X if not word in stopwords] # 불용어 제거\\n    X_train.append(temp_X)\\n\""
            ]
          },
          "metadata": {
            "tags": []
          },
          "execution_count": 25
        }
      ]
    },
    {
      "cell_type": "markdown",
      "metadata": {
        "id": "t7kSMiQqqr5g"
      },
      "source": [
        "(1회용) 토큰화한 X_test를 저장합니다."
      ]
    },
    {
      "cell_type": "code",
      "metadata": {
        "id": "yqNqE5UMqgGy",
        "colab": {
          "base_uri": "https://localhost:8080/",
          "height": 35
        },
        "outputId": "226e96d5-70b9-4bd0-fbd6-df26e77b5429"
      },
      "source": [
        "'''\n",
        "X_train_nparray = np.array(X_train)\n",
        "np.save('./X_train',X_train_nparray)\n",
        "'''"
      ],
      "execution_count": 26,
      "outputs": [
        {
          "output_type": "execute_result",
          "data": {
            "application/vnd.google.colaboratory.intrinsic+json": {
              "type": "string"
            },
            "text/plain": [
              "\"\\nX_train_nparray = np.array(X_train)\\nnp.save('./X_train',X_train_nparray)\\n\""
            ]
          },
          "metadata": {
            "tags": []
          },
          "execution_count": 26
        }
      ]
    },
    {
      "cell_type": "markdown",
      "metadata": {
        "id": "VGisw-gWrN86"
      },
      "source": [
        "X_train을 불러옵니다."
      ]
    },
    {
      "cell_type": "code",
      "metadata": {
        "id": "Fc9K51_WrJkK",
        "colab": {
          "base_uri": "https://localhost:8080/"
        },
        "outputId": "944652fe-1874-43c6-9451-9080c54ff4e1"
      },
      "source": [
        "!gdown --id 1VX-lIGMWgD4K9Mz-0SUJA-JZAtBodZld"
      ],
      "execution_count": 27,
      "outputs": [
        {
          "output_type": "stream",
          "text": [
            "Downloading...\n",
            "From: https://drive.google.com/uc?id=1VX-lIGMWgD4K9Mz-0SUJA-JZAtBodZld\n",
            "To: /content/X_train.npy\n",
            "\r0.00B [00:00, ?B/s]\r5.77MB [00:00, 57.2MB/s]\r22.3MB [00:00, 136MB/s] \n"
          ],
          "name": "stdout"
        }
      ]
    },
    {
      "cell_type": "code",
      "metadata": {
        "id": "TDSQa-Rfri1E"
      },
      "source": [
        "X_train = np.load('./X_train.npy',allow_pickle=True).tolist()"
      ],
      "execution_count": 28,
      "outputs": []
    },
    {
      "cell_type": "code",
      "metadata": {
        "id": "Qg-XpVN_roEH"
      },
      "source": [
        "X_train[0]"
      ],
      "execution_count": null,
      "outputs": []
    },
    {
      "cell_type": "markdown",
      "metadata": {
        "id": "IHCXgn50r9_z"
      },
      "source": [
        "# word2vec"
      ]
    },
    {
      "cell_type": "markdown",
      "metadata": {
        "id": "kaunCgsZOSub"
      },
      "source": [
        "모델 훈련은 완료했으나, 인접 행렬을 구하는데 시간과 자원이 너무 소모됨. > doc2vec로 방향 선회"
      ]
    },
    {
      "cell_type": "code",
      "metadata": {
        "id": "UJn2RRGKrvb7"
      },
      "source": [
        "from gensim.models import Word2Vec\n",
        "\n",
        "model = Word2Vec(sentences = X_train, size = 200, window = 5, min_count = 2, workers = 4, sg = 0)"
      ],
      "execution_count": null,
      "outputs": []
    },
    {
      "cell_type": "code",
      "metadata": {
        "id": "xgn502LBsUZr",
        "colab": {
          "base_uri": "https://localhost:8080/"
        },
        "outputId": "12977a04-c8d7-43d9-dfd0-fd312a0cdc8a"
      },
      "source": [
        "len(model.wv.vocab)"
      ],
      "execution_count": null,
      "outputs": [
        {
          "output_type": "execute_result",
          "data": {
            "text/plain": [
              "18548"
            ]
          },
          "metadata": {
            "tags": []
          },
          "execution_count": 29
        }
      ]
    },
    {
      "cell_type": "code",
      "metadata": {
        "id": "M80wSlJ8sYeR",
        "colab": {
          "base_uri": "https://localhost:8080/"
        },
        "outputId": "2628f75b-ade3-4b4a-b90f-935b36e9e588"
      },
      "source": [
        "vocab = model.wv.vocab\n",
        "sorted(vocab, key=vocab.get, reverse=True)[:10]"
      ],
      "execution_count": null,
      "outputs": [
        {
          "output_type": "execute_result",
          "data": {
            "text/plain": [
              "['너', '내', '을', '나', 'you', '있다', '보다', '사랑', 'I', '없다']"
            ]
          },
          "metadata": {
            "tags": []
          },
          "execution_count": 30
        }
      ]
    },
    {
      "cell_type": "code",
      "metadata": {
        "id": "AEtcyvUGsdRZ"
      },
      "source": [
        "model.wv.most_similar('너')"
      ],
      "execution_count": null,
      "outputs": []
    },
    {
      "cell_type": "code",
      "metadata": {
        "id": "kzaWpnhJshxU"
      },
      "source": [
        "model.wv.most_similar('여자친구')"
      ],
      "execution_count": null,
      "outputs": []
    },
    {
      "cell_type": "code",
      "metadata": {
        "id": "Vnz3qkbAtNFD",
        "colab": {
          "base_uri": "https://localhost:8080/"
        },
        "outputId": "a434221c-faf5-4ef2-897a-0a9b16535e71"
      },
      "source": [
        "model.wv.wmdistance(X_train[0], X_train[1])"
      ],
      "execution_count": null,
      "outputs": [
        {
          "output_type": "execute_result",
          "data": {
            "text/plain": [
              "10.254282990220695"
            ]
          },
          "metadata": {
            "tags": []
          },
          "execution_count": 41
        }
      ]
    },
    {
      "cell_type": "code",
      "metadata": {
        "id": "XL8TU2gmnZya",
        "colab": {
          "base_uri": "https://localhost:8080/"
        },
        "outputId": "a5eb8ff3-9d46-4be1-cda9-3b8783f5d5dd"
      },
      "source": [
        "%time model.wv.wmdistance(X_train[0], X_train[2])"
      ],
      "execution_count": null,
      "outputs": [
        {
          "output_type": "stream",
          "text": [
            "CPU times: user 42.3 ms, sys: 2 µs, total: 42.3 ms\n",
            "Wall time: 41.9 ms\n"
          ],
          "name": "stdout"
        },
        {
          "output_type": "execute_result",
          "data": {
            "text/plain": [
              "9.54089145649308"
            ]
          },
          "metadata": {
            "tags": []
          },
          "execution_count": 46
        }
      ]
    },
    {
      "cell_type": "code",
      "metadata": {
        "id": "CXrYQ7DhmcEc",
        "colab": {
          "base_uri": "https://localhost:8080/",
          "height": 327
        },
        "outputId": "8ed4379b-332f-429a-da9f-1c1a7cc65f20"
      },
      "source": [
        "# 인접 행렬 구하기\n",
        "\n",
        "Adjacency_Matrix = np.zeros((5628,5628))\n",
        "for i in range(5628):\n",
        "    for j in range(1):\n",
        "        Adjacency_Matrix[i][j] = model.wv.wmdistance(X_train[i], X_train[j])\n"
      ],
      "execution_count": null,
      "outputs": [
        {
          "output_type": "error",
          "ename": "KeyboardInterrupt",
          "evalue": "ignored",
          "traceback": [
            "\u001b[0;31m---------------------------------------------------------------------------\u001b[0m",
            "\u001b[0;31mKeyboardInterrupt\u001b[0m                         Traceback (most recent call last)",
            "\u001b[0;32m<ipython-input-50-b34ba3a56490>\u001b[0m in \u001b[0;36m<module>\u001b[0;34m()\u001b[0m\n\u001b[1;32m      2\u001b[0m \u001b[0;32mfor\u001b[0m \u001b[0mi\u001b[0m \u001b[0;32min\u001b[0m \u001b[0mrange\u001b[0m\u001b[0;34m(\u001b[0m\u001b[0;36m5628\u001b[0m\u001b[0;34m)\u001b[0m\u001b[0;34m:\u001b[0m\u001b[0;34m\u001b[0m\u001b[0;34m\u001b[0m\u001b[0m\n\u001b[1;32m      3\u001b[0m     \u001b[0;32mfor\u001b[0m \u001b[0mj\u001b[0m \u001b[0;32min\u001b[0m \u001b[0mrange\u001b[0m\u001b[0;34m(\u001b[0m\u001b[0;36m1\u001b[0m\u001b[0;34m)\u001b[0m\u001b[0;34m:\u001b[0m\u001b[0;34m\u001b[0m\u001b[0;34m\u001b[0m\u001b[0m\n\u001b[0;32m----> 4\u001b[0;31m         \u001b[0mAdjacency_Matrix\u001b[0m\u001b[0;34m[\u001b[0m\u001b[0mi\u001b[0m\u001b[0;34m]\u001b[0m\u001b[0;34m[\u001b[0m\u001b[0mj\u001b[0m\u001b[0;34m]\u001b[0m \u001b[0;34m=\u001b[0m \u001b[0mmodel\u001b[0m\u001b[0;34m.\u001b[0m\u001b[0mwv\u001b[0m\u001b[0;34m.\u001b[0m\u001b[0mwmdistance\u001b[0m\u001b[0;34m(\u001b[0m\u001b[0mX_train\u001b[0m\u001b[0;34m[\u001b[0m\u001b[0mi\u001b[0m\u001b[0;34m]\u001b[0m\u001b[0;34m,\u001b[0m \u001b[0mX_train\u001b[0m\u001b[0;34m[\u001b[0m\u001b[0mj\u001b[0m\u001b[0;34m]\u001b[0m\u001b[0;34m)\u001b[0m\u001b[0;34m\u001b[0m\u001b[0;34m\u001b[0m\u001b[0m\n\u001b[0m",
            "\u001b[0;32m/usr/local/lib/python3.6/dist-packages/gensim/models/keyedvectors.py\u001b[0m in \u001b[0;36mwmdistance\u001b[0;34m(self, document1, document2)\u001b[0m\n\u001b[1;32m    800\u001b[0m \u001b[0;34m\u001b[0m\u001b[0m\n\u001b[1;32m    801\u001b[0m         \u001b[0;31m# Compute WMD.\u001b[0m\u001b[0;34m\u001b[0m\u001b[0;34m\u001b[0m\u001b[0;34m\u001b[0m\u001b[0m\n\u001b[0;32m--> 802\u001b[0;31m         \u001b[0;32mreturn\u001b[0m \u001b[0memd\u001b[0m\u001b[0;34m(\u001b[0m\u001b[0md1\u001b[0m\u001b[0;34m,\u001b[0m \u001b[0md2\u001b[0m\u001b[0;34m,\u001b[0m \u001b[0mdistance_matrix\u001b[0m\u001b[0;34m)\u001b[0m\u001b[0;34m\u001b[0m\u001b[0;34m\u001b[0m\u001b[0m\n\u001b[0m\u001b[1;32m    803\u001b[0m \u001b[0;34m\u001b[0m\u001b[0m\n\u001b[1;32m    804\u001b[0m     \u001b[0;32mdef\u001b[0m \u001b[0mmost_similar_cosmul\u001b[0m\u001b[0;34m(\u001b[0m\u001b[0mself\u001b[0m\u001b[0;34m,\u001b[0m \u001b[0mpositive\u001b[0m\u001b[0;34m=\u001b[0m\u001b[0;32mNone\u001b[0m\u001b[0;34m,\u001b[0m \u001b[0mnegative\u001b[0m\u001b[0;34m=\u001b[0m\u001b[0;32mNone\u001b[0m\u001b[0;34m,\u001b[0m \u001b[0mtopn\u001b[0m\u001b[0;34m=\u001b[0m\u001b[0;36m10\u001b[0m\u001b[0;34m)\u001b[0m\u001b[0;34m:\u001b[0m\u001b[0;34m\u001b[0m\u001b[0;34m\u001b[0m\u001b[0m\n",
            "\u001b[0;31mKeyboardInterrupt\u001b[0m: "
          ]
        }
      ]
    },
    {
      "cell_type": "markdown",
      "metadata": {
        "id": "ZRFJzIyHuQze"
      },
      "source": [
        "# Doc2vec"
      ]
    },
    {
      "cell_type": "code",
      "metadata": {
        "id": "0oifd2jJuZT7"
      },
      "source": [
        "#common_texts_and_tags = [(text, [train_data_all['제목'][train_data_all.index[i]], train_data_all['가수'][train_data_all.index[i]],train_data_all['장르'][train_data_all.index[i]],train_data_all['소속사'][train_data_all.index[i]]],) for i, text in enumerate(X_train)]"
      ],
      "execution_count": 30,
      "outputs": []
    },
    {
      "cell_type": "code",
      "metadata": {
        "id": "d75rGmIde6z1"
      },
      "source": [
        "common_texts_and_tags = [\n",
        "    (text, [train_data_all['제목'][train_data_all.index[i]], train_data_all['가수'][train_data_all.index[i]]],) for i, text in enumerate(X_train)]"
      ],
      "execution_count": 31,
      "outputs": []
    },
    {
      "cell_type": "code",
      "metadata": {
        "id": "1GCAIJE03r2Q"
      },
      "source": [
        "# common_texts_and_tags[:10]"
      ],
      "execution_count": 32,
      "outputs": []
    },
    {
      "cell_type": "code",
      "metadata": {
        "id": "5RRcvb-SAhhT"
      },
      "source": [
        "TRAIN_documents = [TaggedDocument(words=text, tags=tags) for text, tags in common_texts_and_tags]"
      ],
      "execution_count": 33,
      "outputs": []
    },
    {
      "cell_type": "markdown",
      "metadata": {
        "id": "1deuoiniLsvW"
      },
      "source": [
        "모델을 훈련시킵니다."
      ]
    },
    {
      "cell_type": "code",
      "metadata": {
        "id": "LusoPRuMuUVu"
      },
      "source": [
        "model = Doc2Vec(TRAIN_documents, vector_size=100, window=3, epochs=40, min_count=0, workers=4)"
      ],
      "execution_count": 34,
      "outputs": []
    },
    {
      "cell_type": "markdown",
      "metadata": {
        "id": "BAGfsOstLsO3"
      },
      "source": [
        "모델을 저장합니다."
      ]
    },
    {
      "cell_type": "code",
      "metadata": {
        "id": "B5QzQ3VFLQHr"
      },
      "source": [
        "\n",
        "model_name = \"doc2vec_100,5,40,1,4\"\n",
        "model.save(model_name)\n"
      ],
      "execution_count": 41,
      "outputs": []
    },
    {
      "cell_type": "markdown",
      "metadata": {
        "id": "WaGHrh_hLwVK"
      },
      "source": [
        "저장된 모델을 다운받아 불러옵니다."
      ]
    },
    {
      "cell_type": "code",
      "metadata": {
        "id": "l8FatHOpL-S_",
        "colab": {
          "base_uri": "https://localhost:8080/"
        },
        "outputId": "6480ca2a-1cc4-4277-e03d-4f1d22f9ded4"
      },
      "source": [
        "# !gdown --id 1YJS5FRX-ODSZsYJz8j0roz6rVeQ9K2pL #doc2vec_5,3,40,0,4"
      ],
      "execution_count": null,
      "outputs": [
        {
          "output_type": "stream",
          "text": [
            "Downloading...\n",
            "From: https://drive.google.com/uc?id=1YJS5FRX-ODSZsYJz8j0roz6rVeQ9K2pL\n",
            "To: /content/doc2vec_5,3,40,0,4\n",
            "\r0.00B [00:00, ?B/s]\r3.96MB [00:00, 126MB/s]\n"
          ],
          "name": "stdout"
        }
      ]
    },
    {
      "cell_type": "code",
      "metadata": {
        "colab": {
          "base_uri": "https://localhost:8080/"
        },
        "id": "XLZYkCYr9wW-",
        "outputId": "89d7a307-d69d-4489-defb-d4bdafd40cf8"
      },
      "source": [
        "!gdown --id 1_EwBspXfSyOJI9kEaQOYdreygDl42IVK #doc2vec_100,5,40,1,4"
      ],
      "execution_count": 29,
      "outputs": [
        {
          "output_type": "stream",
          "text": [
            "Downloading...\n",
            "From: https://drive.google.com/uc?id=1_EwBspXfSyOJI9kEaQOYdreygDl42IVK\n",
            "To: /content/doc2vec_100,5,40,1,4\n",
            "38.2MB [00:00, 49.9MB/s]\n"
          ],
          "name": "stdout"
        }
      ]
    },
    {
      "cell_type": "code",
      "metadata": {
        "id": "TCpuQ50EMIsX"
      },
      "source": [
        "model = Doc2Vec.load(\"doc2vec_100,5,40,1,4\")"
      ],
      "execution_count": 30,
      "outputs": []
    },
    {
      "cell_type": "code",
      "metadata": {
        "id": "TiP5p3VIuWnu"
      },
      "source": [
        "# model.docvecs.doctags"
      ],
      "execution_count": null,
      "outputs": []
    },
    {
      "cell_type": "code",
      "metadata": {
        "id": "3bHiy74ECFLe"
      },
      "source": [
        ""
      ],
      "execution_count": null,
      "outputs": []
    },
    {
      "cell_type": "markdown",
      "metadata": {
        "id": "TNJDXfGxDC7s"
      },
      "source": [
        "# K_means 클러스터링"
      ]
    },
    {
      "cell_type": "markdown",
      "metadata": {
        "id": "CsrdJ3sIVKNa"
      },
      "source": [
        "클러스터링 전처리"
      ]
    },
    {
      "cell_type": "code",
      "metadata": {
        "id": "HTyllFvdNZnD"
      },
      "source": [
        "import copy \n",
        "tokenizer = Tokenizer()\n",
        "tokenizer.fit_on_texts(train_data_all['가수'])\n",
        "X_singer = tokenizer.texts_to_sequences(train_data_all['가수'])\n",
        "\n",
        "tokenizer = Tokenizer()\n",
        "tokenizer.fit_on_texts(train_data_all['장르'])\n",
        "X_genre = tokenizer.texts_to_sequences(train_data_all['장르'])\n",
        "\n",
        "X2 = [] \n",
        "for n,x in enumerate(model.docvecs.vectors_docs):\n",
        "    temp = []\n",
        "\n",
        "    # for element in x: temp.append(element)\n",
        "    temp.append(X_genre[n][0])\n",
        "    temp.append(X_singer[n][0])\n",
        "    \n",
        "    X2.append(temp)\n",
        "\n",
        "X3 = np.array(X2)"
      ],
      "execution_count": null,
      "outputs": []
    },
    {
      "cell_type": "code",
      "metadata": {
        "id": "iiJ2iArhDDtx",
        "colab": {
          "base_uri": "https://localhost:8080/",
          "height": 53
        },
        "outputId": "0c1f714e-0a53-4f28-9352-a31ebfa56b9d"
      },
      "source": [
        "print(\"K-Means Clustering\")\n",
        "\n",
        "\n",
        "M_KMeans = KMeans(n_clusters=8, random_state=0)\n",
        "X = X3 # document vector 전체를 가져옴. \n",
        "M_KMeans.fit(X)# fitting \n",
        "\n",
        "'''\n",
        "M_KMeans = KMeans(n_clusters=8, random_state=0)\n",
        "X = model.docvecs.vectors_docs # document vector 전체를 가져옴. \n",
        "M_KMeans.fit(X)# fitting \n",
        "'''\n",
        " \n",
        "cluster_dict = {i:[] for i in range(0,8)}\n",
        "for text_tags, label in zip(common_texts_and_tags, M_KMeans.labels_):\n",
        "    text, tags = text_tags\n",
        "    cluster_dict[label].append([tags, text])\n",
        "\n",
        "'''\n",
        "for label, lst in cluster_dict.items():\n",
        "    print(f\"Cluster {label}\")\n",
        "    for x in lst:\n",
        "        print(x)\n",
        "'''\n"
      ],
      "execution_count": null,
      "outputs": [
        {
          "output_type": "stream",
          "text": [
            "K-Means Clustering\n"
          ],
          "name": "stdout"
        },
        {
          "output_type": "execute_result",
          "data": {
            "application/vnd.google.colaboratory.intrinsic+json": {
              "type": "string"
            },
            "text/plain": [
              "'\\nfor label, lst in cluster_dict.items():\\n    print(f\"Cluster {label}\")\\n    for x in lst:\\n        print(x)\\n'"
            ]
          },
          "metadata": {
            "tags": []
          },
          "execution_count": 163
        }
      ]
    },
    {
      "cell_type": "code",
      "metadata": {
        "id": "eMdmxoOkERUU",
        "colab": {
          "base_uri": "https://localhost:8080/"
        },
        "outputId": "8f71fd8c-653a-4f25-bfc2-c2a3a8109a27"
      },
      "source": [
        "unique, counts = np.unique(M_KMeans.labels_, return_counts=True)\n",
        "dict(zip(unique, counts))"
      ],
      "execution_count": null,
      "outputs": [
        {
          "output_type": "execute_result",
          "data": {
            "text/plain": [
              "{0: 697, 1: 244, 2: 397, 3: 122, 4: 2120, 5: 526, 6: 66, 7: 1339}"
            ]
          },
          "metadata": {
            "tags": []
          },
          "execution_count": 156
        }
      ]
    },
    {
      "cell_type": "code",
      "metadata": {
        "colab": {
          "base_uri": "https://localhost:8080/"
        },
        "id": "N-0BecnckKsn",
        "outputId": "c2879442-f5b7-4834-bc69-e1263e45b3a5"
      },
      "source": [
        "list(train_data_all['제목'][train_data_all['제목']=='My Life'].index)"
      ],
      "execution_count": null,
      "outputs": [
        {
          "output_type": "execute_result",
          "data": {
            "text/plain": [
              "[648, 890]"
            ]
          },
          "metadata": {
            "tags": []
          },
          "execution_count": 137
        }
      ]
    },
    {
      "cell_type": "code",
      "metadata": {
        "colab": {
          "base_uri": "https://localhost:8080/"
        },
        "id": "SxmcoumAni8r",
        "outputId": "6d056d45-7724-4764-a940-129fb1119438"
      },
      "source": [
        "list(train_data_all['가수'][train_data_all['가수']=='레드삭스'].index)"
      ],
      "execution_count": null,
      "outputs": [
        {
          "output_type": "execute_result",
          "data": {
            "text/plain": [
              "[888, 889, 890, 891, 892, 893]"
            ]
          },
          "metadata": {
            "tags": []
          },
          "execution_count": 142
        }
      ]
    },
    {
      "cell_type": "code",
      "metadata": {
        "id": "BO_0GijLd3iM"
      },
      "source": [
        "gasas = []\n",
        "cluster_n = [] \n",
        "for clster in range(len(cluster_dict)):\n",
        "    #print('cluster ' + str(clster))\n",
        "    cluster_n_song = []\n",
        "    gasa = []\n",
        "    for song in cluster_dict[clster]:   \n",
        "        temp1 = list(train_data_all['제목'][train_data_all['제목']==song[0][0]].index)\n",
        "        temp2 = list(train_data_all['가수'][train_data_all['가수']==song[0][1]].index)\n",
        "        \n",
        "        for title in temp1:\n",
        "            x = -1\n",
        "            if title in temp2:\n",
        "               x = title\n",
        "               break\n",
        "\n",
        "        #print(train_data_all['제목'][x])\n",
        "        #print(train_data_all['장르'][x])\n",
        "        #print(train_data_all['가수'][x])\n",
        "        gasa.append(train_data_all['가사'][x])\n",
        "        cluster_n_song.append([train_data_all['장르'][x],train_data_all['가수'][x],train_data_all['소속사'][x],int(train_data_all['년도'][x]/10000),train_data_all['작곡'][x]])\n",
        "    cluster_n.append(cluster_n_song)\n",
        "    gasas.append(gasa)\n"
      ],
      "execution_count": null,
      "outputs": []
    },
    {
      "cell_type": "markdown",
      "metadata": {
        "id": "4qTqytqueAGw"
      },
      "source": [
        "# Agglomerative 클러스터링"
      ]
    },
    {
      "cell_type": "code",
      "metadata": {
        "id": "ZBIPrPlSERhp",
        "colab": {
          "base_uri": "https://localhost:8080/"
        },
        "outputId": "5432233d-fd21-40a5-8005-308602cb5422"
      },
      "source": [
        "print(\"Agglomerative Clustering\")\n",
        "\n",
        "n_clusters = 10\n",
        "\n",
        "M_Agglo = AgglomerativeClustering(linkage='ward',\n",
        "        connectivity=None, n_clusters=n_clusters)\n",
        "\n",
        "X = model.docvecs.vectors_docs\n",
        "\n",
        "result= M_Agglo.fit_predict(X3)"
      ],
      "execution_count": null,
      "outputs": [
        {
          "output_type": "stream",
          "text": [
            "Agglomerative Clustering\n"
          ],
          "name": "stdout"
        }
      ]
    },
    {
      "cell_type": "code",
      "metadata": {
        "id": "0QzbmW-DI0_L",
        "colab": {
          "base_uri": "https://localhost:8080/"
        },
        "outputId": "4c9bd870-4686-410c-b938-b53bcc908b2e"
      },
      "source": [
        "unique, counts = np.unique(result, return_counts=True)\n",
        "dict(zip(unique, counts))"
      ],
      "execution_count": null,
      "outputs": [
        {
          "output_type": "execute_result",
          "data": {
            "text/plain": [
              "{0: 485,\n",
              " 1: 827,\n",
              " 2: 137,\n",
              " 3: 932,\n",
              " 4: 69,\n",
              " 5: 1137,\n",
              " 6: 208,\n",
              " 7: 288,\n",
              " 8: 38,\n",
              " 9: 1390}"
            ]
          },
          "metadata": {
            "tags": []
          },
          "execution_count": 167
        }
      ]
    },
    {
      "cell_type": "markdown",
      "metadata": {
        "id": "idDMpqPHUnvZ"
      },
      "source": [
        ""
      ]
    },
    {
      "cell_type": "code",
      "metadata": {
        "id": "u24QYX4PKusB"
      },
      "source": [
        "cluster_dict1 = []\n",
        "for i in range(n_clusters):\n",
        "    cluster_dict1.append([])\n",
        "    \n",
        "for n, i in enumerate(result):\n",
        "    text, tags = common_texts_and_tags[n]\n",
        "    cluster_dict1[i].append([tags, text])"
      ],
      "execution_count": null,
      "outputs": []
    },
    {
      "cell_type": "code",
      "metadata": {
        "id": "c_Dog7DDfTQM"
      },
      "source": [
        "gasas = []\n",
        "cluster_n = [] \n",
        "for clster in range(len(cluster_dict1)):\n",
        "    #print('cluster ' + str(clster))\n",
        "    cluster_n_song = []\n",
        "    gasa = []\n",
        "    for song in cluster_dict1[clster]:   \n",
        "        temp1 = list(train_data_all['제목'][train_data_all['제목']==song[0][0]].index)\n",
        "        temp2 = list(train_data_all['가수'][train_data_all['가수']==song[0][1]].index)\n",
        "        \n",
        "        for title in temp1:\n",
        "            x = -1\n",
        "            if title in temp2:\n",
        "               x = title\n",
        "               break\n",
        "\n",
        "        #print(train_data_all['제목'][x])\n",
        "        #print(train_data_all['장르'][x])\n",
        "        #print(train_data_all['가수'][x])\n",
        "        gasa.append(train_data_all['가사'][x])\n",
        "        cluster_n_song.append([train_data_all['장르'][x],train_data_all['가수'][x],train_data_all['소속사'][x],int(train_data_all['년도'][x]/10000),train_data_all['작곡'][x]])\n",
        "    cluster_n.append(cluster_n_song)\n",
        "    gasas.append(gasa)\n"
      ],
      "execution_count": null,
      "outputs": []
    },
    {
      "cell_type": "markdown",
      "metadata": {
        "id": "E8tOpsXxUeap"
      },
      "source": [
        "# 클러스터링 형태소 분석"
      ]
    },
    {
      "cell_type": "code",
      "metadata": {
        "id": "IMkD4Ia136no"
      },
      "source": [
        "sentences_tag_n = []\n",
        "for n, cluster in enumerate(gasas):\n",
        "    sentences_tag = []\n",
        "    for sentence in cluster:\n",
        "        morph = okt.pos(sentence)\n",
        "        sentences_tag.append(morph)\n",
        "    sentences_tag_n.append(sentences_tag)\n",
        "print(len(sentences_tag_n))"
      ],
      "execution_count": null,
      "outputs": []
    },
    {
      "cell_type": "code",
      "metadata": {
        "id": "Yebc5J8u5VFu"
      },
      "source": [
        "noun_adj_list_n = []\n",
        "for i in range(len(sentences_tag_n)):\n",
        "    noun_adj_list = []\n",
        "    for sentence1 in sentences_tag_n[i]:\n",
        "        for word, tag in sentence1:\n",
        "            if tag in ['Noun','Adjective']:\n",
        "                noun_adj_list.append(word)\n",
        "    noun_adj_list_n.append(noun_adj_list)\n",
        "\n"
      ],
      "execution_count": null,
      "outputs": []
    },
    {
      "cell_type": "code",
      "metadata": {
        "id": "CC_0b8VbBuWi"
      },
      "source": [
        "banlist = ['사랑','우리','그대','나','너','내']\n",
        "for n in (noun_adj_list_n):\n",
        "    for i,v in enumerate(n):\n",
        "        if len(v) <2:\n",
        "            n.pop(i)\n",
        "            continue\n",
        "        if v in banlist:\n",
        "            n.pop(i)\n",
        "            continue"
      ],
      "execution_count": null,
      "outputs": []
    },
    {
      "cell_type": "code",
      "metadata": {
        "id": "Wo9B_oT95jzl"
      },
      "source": [
        "noun_adj_list_n[0]"
      ],
      "execution_count": null,
      "outputs": []
    },
    {
      "cell_type": "code",
      "metadata": {
        "id": "sQg43iFC9L3_"
      },
      "source": [
        "import matplotlib.font_manager as fm\n",
        "\n",
        "# !apt -qq -y install fonts-nanum > /dev/null\n",
        " \n",
        "fontpath = '/usr/share/fonts/truetype/nanum/NanumBarunGothic.ttf'\n",
        "font = fm.FontProperties(fname=fontpath, size=10)\n",
        "fm._rebuild()\n",
        "%config InlineBackend.figure_format = 'retina'\n",
        "# Colab 의 한글 폰트 설정\n",
        "plt.rc('font', family='NanumBarunGothic') "
      ],
      "execution_count": null,
      "outputs": []
    },
    {
      "cell_type": "code",
      "metadata": {
        "colab": {
          "base_uri": "https://localhost:8080/"
        },
        "id": "MErnZxnl7Rw2",
        "outputId": "212d5f11-5cb5-443b-8e85-0674ba57c8c5"
      },
      "source": [
        "from collections import Counter\n",
        "from wordcloud import WordCloud\n",
        "for n in (noun_adj_list_n):\n",
        "    counts = Counter(n)\n",
        "    print(counts.most_common(10))\n",
        "    '''\n",
        "    wc = WordCloud(font_path= fontpath, background_color='white', width=800, height=600)\n",
        "    print(dict(counts))\n",
        "    cloud = wc.generate_from_frequencies(dict(counts))\n",
        "    plt.figure(figsize=(10, 8))\n",
        "    plt.axis('off')\n",
        "    plt.imshow(cloud)\n",
        "    plt.show()\n",
        "    '''"
      ],
      "execution_count": null,
      "outputs": [
        {
          "output_type": "stream",
          "text": [
            "[('너', 1759), ('내', 1471), ('나', 1119), ('사랑', 860), ('난', 748), ('날', 702), ('말', 677), ('널', 547), ('더', 540), ('네', 517)]\n",
            "[('너', 3804), ('내', 3329), ('나', 2441), ('사랑', 2026), ('난', 1650), ('말', 1405), ('날', 1382), ('그', 1227), ('널', 1167), ('그대', 1020)]\n",
            "[('너', 239), ('나', 170), ('사랑', 162), ('내', 148), ('난', 116), ('말', 98), ('그대', 95), ('그', 90), ('날', 78), ('네', 74)]\n",
            "[('너', 3972), ('내', 3306), ('나', 2563), ('사랑', 1925), ('난', 1692), ('날', 1454), ('말', 1327), ('널', 1215), ('그', 1213), ('수', 986)]\n",
            "[('너', 3255), ('내', 2494), ('나', 1899), ('사랑', 1616), ('난', 1220), ('날', 1155), ('말', 1028), ('널', 957), ('그', 943), ('더', 795)]\n",
            "[('너', 2208), ('내', 1764), ('나', 1312), ('난', 935), ('사랑', 912), ('날', 786), ('말', 762), ('네', 648), ('그', 594), ('수', 578)]\n",
            "[('너', 2592), ('내', 2281), ('나', 1735), ('사랑', 1174), ('난', 1136), ('날', 1013), ('말', 927), ('그', 913), ('널', 746), ('네', 702)]\n",
            "[('너', 1813), ('내', 1531), ('나', 1171), ('사랑', 853), ('난', 842), ('날', 694), ('말', 650), ('널', 607), ('더', 541), ('네', 537)]\n",
            "[('너', 3387), ('내', 2903), ('나', 2179), ('사랑', 1782), ('난', 1490), ('날', 1322), ('말', 1187), ('널', 1105), ('그', 1043), ('네', 896)]\n",
            "[('너', 2769), ('내', 2418), ('나', 1618), ('사랑', 1420), ('난', 1108), ('말', 1050), ('날', 1036), ('그', 814), ('널', 733), ('맘', 699)]\n"
          ],
          "name": "stdout"
        }
      ]
    },
    {
      "cell_type": "markdown",
      "metadata": {
        "id": "2O-fvUaUUq-J"
      },
      "source": [
        "# 클러스터링 데이터 분석"
      ]
    },
    {
      "cell_type": "code",
      "metadata": {
        "colab": {
          "base_uri": "https://localhost:8080/"
        },
        "id": "8ocsJdnz083g",
        "outputId": "50e45851-69bb-4ed5-80ce-d2ccf076ba83"
      },
      "source": [
        "import operator\n",
        "\n",
        "for n, cluster in enumerate(cluster_n):\n",
        "    tags_genre = {}\n",
        "    tags_singer = {}\n",
        "    tags_house = {}\n",
        "    tags_time = {}\n",
        "    tags_composer = {}\n",
        "\n",
        "    for tag_n in cluster:\n",
        "        if tag_n[0] not in tags_genre.keys():\n",
        "            tags_genre[tag_n[0]] = 1\n",
        "        else:\n",
        "            tags_genre[tag_n[0]] += 1\n",
        "        \n",
        "        if tag_n[1] not in tags_singer.keys():\n",
        "            tags_singer[tag_n[1]] = 1\n",
        "        else:\n",
        "            tags_singer[tag_n[1]] += 1\n",
        "\n",
        "        if tag_n[2] not in tags_house.keys():\n",
        "            tags_house[tag_n[2]] = 1\n",
        "        else:\n",
        "            tags_house[tag_n[2]] += 1\n",
        "\n",
        "        if tag_n[3] not in tags_time.keys():\n",
        "            tags_time[tag_n[3]] = 1\n",
        "        else:\n",
        "            tags_time[tag_n[3]] += 1\n",
        "\n",
        "        if tag_n[4] not in tags_composer.keys():\n",
        "            tags_composer[tag_n[4]] = 1\n",
        "        else:\n",
        "            tags_composer[tag_n[4]] += 1\n",
        "        \n",
        "    print(\"cluster \" + str(n))\n",
        "    print(len(cluster))\n",
        "    print(sorted(tags_genre.items(), key=operator.itemgetter(1),reverse=True))\n",
        "    print(sorted(tags_singer.items(), key=operator.itemgetter(1),reverse=True))\n",
        "    print(sorted(tags_house.items(), key=operator.itemgetter(1),reverse=True))\n",
        "    print(sorted(tags_time.items(), key=operator.itemgetter(1),reverse=True))  \n",
        "    print(sorted(tags_composer.items(), key=operator.itemgetter(1),reverse=True))  "
      ],
      "execution_count": null,
      "outputs": [
        {
          "output_type": "stream",
          "text": [
            "cluster 0\n",
            "485\n",
            "[('댄스', 269), ('발라드', 89), ('R&B/Soul', 39), ('랩/힙합', 37), ('록/메탈', 18), ('발라드, 국내드라마', 14), ('포크/블루스', 4), ('인디음악, 포크/블루스', 3), ('인디음악, 록/메탈', 2), ('댄스, 랩/힙합', 2), ('일렉트로니카', 2), ('발라드, 댄스', 1), ('국내드라마', 1), ('댄스, 국내드라마', 1), ('포크/블루스, 국내드라마', 1), ('발라드, R&B/Soul, 국내드라마', 1), ('록/메탈, 국내드라마', 1)]\n",
            "[('투야', 11), ('에이스타일', 11), ('엠블랙', 11), ('이효리', 11), ('인피니트H', 11), ('빅스LR', 11), ('보이스립', 10), ('제이하트', 10), ('시크릿', 10), ('비에이 (Be.A)', 10), ('풍뎅이 (PDE)', 10), ('맵식스 (MAP6)', 10), ('지코 (ZICO)', 10), ('AKMU (악동뮤지션)', 10), ('Zion.T', 10), ('쿨 (COOL)', 9), ('핑클 (Fin.K.L)', 9), ('티티마', 9), ('배틀', 9), ('투에이엠', 9), ('애프터 스쿨', 9), ('2NE1', 9), ('인피니트', 9), ('씨스타', 9), ('허각', 9), ('칠학년일반', 9), ('Crush', 9), ('폴킴', 9), ('투애니원', 8), ('씨엔블루', 8), ('어반자카파', 8), ('장범준', 8), ('Circle', 7), ('에프엑스', 7), ('케이윌', 7), ('미쓰에이', 7), ('10CM', 7), ('울랄라세션', 7), ('백예린', 7), ('청하', 7), ('H.O.T.', 6), ('에스이에스', 6), ('보이 클럽', 6), ('보이스코', 6), ('레드삭스', 6), ('f(x)', 6), ('지나', 6), ('이하이', 6), ('LC9', 6), ('투아이즈 (2EYES)', 6), ('투하트 (우현, 키)', 6), ('BLACKPINK', 6), ('M.Pire', 5), ('워너비 (WANNA.B)', 5), ('비투비', 5), ('(여자)아이들', 5), ('키스 파이브', 4), ('현아', 4), ('싸이 (PSY)', 4), ('에이핑크', 3), ('싸이', 3), ('F-ve Dolls', 2), ('M&N (미료&나르샤)', 2), ('현아,조권,비투비,CLC,펜타곤,유선호,(여자)아이들', 2), ('현아, 낯선', 1), ('허각, 지아', 1), ('케이윌,마마무 (Mamamoo)', 1), ('케이윌,씨스타,보이프렌드,매드클라운,정기고,주영,몬스타엑스', 1), ('현아,장현승,비투비,노지훈,CLC,펜타곤', 1), ('케이윌,소유 (SOYOU),보이프렌드,몬스타엑스,우주소녀,매드클라운', 1), ('풍뎅이 (PDE),NewTownBoyz (뉴타운보이즈)', 1), ('케이윌,소유 (SOYOU),보이프렌드,몬스타엑스,우주소녀,유승우,브라더수', 1)]\n",
            "[('(주)YG엔터테인먼트', 24), (nan, 22), ('스타쉽 엔터테인먼트', 18), ('큐브엔터테인먼트', 17), ('울림 엔터테인먼트', 16), ('피네이션', 14), ('플레이엠 엔터테인먼트', 13), ('SM엔터테인먼트', 12), ('Astars 엔터테인먼트', 11), ('DSP 미디어', 11), ('Stone Music Entertainment', 11), ('YG엔터테인먼트', 11), ('DoMA 엔터테인먼트', 11), ('젤리피쉬 엔터테인먼트', 11), ('MPLAN 엔터테인먼트', 10), ('크롬 엔터테인먼트', 10), ('드림티 엔터테인먼트', 10), ('KOZ 엔터테인먼트', 10), ('THE BLACK LABEL', 10), ('쿨컴퍼니', 9), ('대성기획', 9), ('뮤직팩토리', 9), ('굿 엔터테인먼트', 9), ('(주)JYP엔터테인먼트', 9), ('플레디스', 9), ('다른별 엔터테인먼트', 9), ('뉴런뮤직', 9), ('FNC엔터테인먼트', 8), ('J.Tune Camp', 8), ('TS엔터테인먼트', 8), ('(주)버스커버스커', 8), ('조선음향', 7), ('(주)SM엔터테인먼트', 7), ('매직스트로베리사운드', 7), ('CJ E&M', 7), ('(주)메이크어스엔터테인먼트', 7), ('블루바이닐', 7), ('MNH엔터테인먼트', 7), ('자이브 레코드', 6), ('JYP Entertainment', 6), ('내가네트워크', 6), ('iHQ', 6), ('SM 엔터테인먼트. 울림 엔터테인먼트', 6), ('SM Entertainment', 5), ('CMG초록별', 5), ('제니스 미디어 콘텐츠', 5), ('에이오엠지', 5), ('ADbell 엔터테인먼트', 4), ('큐브 엔터테인먼트', 4), ('울림엔터테인먼트', 4), ('제이튠캠프', 3), ('JYP엔터테인먼트', 3), ('티에스이엔티이알', 2), ('MBK엔터테인먼트', 2), ('미스틱 엔터테인먼트', 2), ('YG Entertainment', 1), ('스타쉽엔터테인먼트', 1), ('해피페이스 엔터테인먼트', 1), ('더그루브엔터테인먼트', 1), ('메이크어스엔터테인먼트', 1), ('RBW', 1)]\n",
            "[(2016, 44), (2017, 43), (2010, 41), (2009, 40), (2011, 38), (2019, 33), (2012, 31), (2015, 25), (2018, 24), (1999, 21), (2014, 21), (2005, 20), (2001, 19), (2013, 19), (2002, 14), (1998, 13), (2008, 12), (2020, 9), (1997, 6), (1996, 4), (2006, 3), (2007, 3), (1995, 2)]\n",
            "[('EMPTY', 25), ('박진영', 13), ('용감한 형제', 10), ('이찬혁', 10), ('박해운', 8), ('Poptime', 8), ('장범준', 7), ('유영진', 6), ('BAHNUS', 6), ('폴킴', 6), ('박근태', 5), ('최규성', 5), ('TEDDY', 5), ('한재호, 김승수', 5), ('김기범, 강지원', 5), ('10CM', 5), ('구름', 5), ('빅싼초 (Yummy Tone)', 5), ('최준영', 4), ('윤일상', 4), ('구모후', 4), ('김도훈, 이상호', 4), ('서원진', 4), ('장용진', 3), ('이윤상', 3), ('이제이', 3), ('홍지상', 3), ('KUSH (쿠시)', 3), ('테디', 3), ('이단옆차기', 3), ('드라이브킹', 3), ('Bekuh BOOM', 3), ('이든 (EDEN)', 3), ('신인수', 2), ('석훈', 2), ('김경화', 2), ('신명호', 2), ('홍재선', 2), ('오석준', 2), ('주민', 2), ('DKR4G 양승욱', 2), ('김운진', 2), ('별들의 전쟁 (GALACTIKA *)', 2), ('김병훈', 2), ('강지원', 2), ('태완 (Taewan)', 2), ('김도훈', 2), ('김기범, 강지원, 신사동 호랭이', 2), ('정용화 (CNBLUE)', 2), ('조영수', 2), ('신사동 호랭이, 최규성', 2), ('TEDDY, Lydia Paek', 2), ('이단 옆차기', 2), ('싸이 (PSY), 유건형', 2), ('프라이머리', 2), ('엔느,에이팀', 2), ('4Miles', 2), ('Candysound,이규현', 2), ('Rocketeer,JIN', 2), ('장영수,안형석', 2), ('이주형 (MonoTree),홍승현,한재호,김승수,G-High (MonoTree)', 2), ('일당백,안형석,기현석', 2), ('실버벨,도마현', 2), ('위한샘,북극곰', 2), ('라비 (RAVI),MELODESIGN,ASSBRASS,조용호', 2), ('MELODESIGN,레오(LEO)', 2), ('EastWest,라디오갤럭시,이단옆차기', 2), ('PEEJAY', 2), ('홍소진', 2), ('블랙아이드 필승', 2), ('조현아 (어반자카파)', 2), ('박주희', 2), ('일당백,안형석', 2), ('유건형', 2), ('레오(LEO),UCKU', 2), ('드라이브킹,도마현,케이던스', 2), ('김동휘,더 네임,KingMing', 2), ('전군', 2), ('Crush', 2), ('박정원', 1), ('문스톤', 1), ('강타', 1), ('Risto', 1), ('최수정', 1), ('석훈, 김중범', 1), ('이도연', 1), ('정희수', 1), ('주태영', 1), ('박해문', 1), ('마리오', 1), ('한창훈', 1), ('전준규', 1), ('양준영', 1), ('조은희', 1), ('Trish', 1), ('이희승', 1), ('주영훈', 1), ('변상현, 주민', 1), ('이민수', 1), ('김준환', 1), ('기호', 1), ('성우석', 1), ('심상수,  김동영', 1), ('김태현', 1), ('서엘', 1), ('김영훈', 1), ('이현승', 1), ('Niklas Johansson', 1), ('장준호', 1), ('Mad Soul Child', 1), ('황성제', 1), ('이병준', 1), ('김영인', 1), ('박현중', 1), ('김동률', 1), ('김승수', 1), ('Tsunku', 1), ('안영민', 1), ('KENZIE', 1), ('Henrik Jonback', 1), ('장재민', 1), ('Presley Daniel', 1), ('PRIYA JAYARAM', 1), ('심은지', 1), ('신사동호랭이, 전혜원', 1), ('김원', 1), ('오성훈', 1), ('조덕배', 1), ('백무현, 정창욱', 1), ('바누스', 1), ('NICK SCAPA, MADISON JAMIE NORRIS', 1), ('SHARIF & SLATER, Ryan S. Jhun', 1), ('박해인, JEAN NA', 1), ('Antwann Frost, RONALD FROST, ANETRA TERREL, CC Productions, Ryan S. Jhun', 1), ('이트라이브 (E-TRIBE), 장준호', 1), ('Mich Hansen, Thomas Troelsen, Cutfather, Engelina Larsen, LOPEZ JOSE AGUIRRE', 1), ('비, 배진렬 (JR Groove)', 1), ('김재양', 1), ('김도훈(RBW)', 1), ('김도훈, 강은경', 1), ('Eknock', 1), ('Eknock, 선우정아', 1), ('이적', 1), ('한재호, 김승수, 안성준', 1), ('라도, 김지인, 원택', 1), ('이트라이브', 1), ('김도훈 (RBW), 이상호', 1), ('Blue Magic, 태완', 1), ('슈퍼창따이', 1), ('Dwight Watson, Jeff Hoeppner, Alex Cantrall, 히치하이커', 1), ('Fuego', 1), ('임상혁', 1), ('TEDDY, 이낙', 1), ('Thomas Troelsen, Mikkel Remee Sigvardt', 1), ('라도, 지인, 원택', 1), ('김승수, 한재호', 1), ('윤철종, 권정열', 1), ('라도, 최규성', 1), ('한재호, 김승수, YUE', 1), ('김현철', 1), ('신중현', 1), ('윤명선', 1), ('낭이, 범이', 1), ('라도, 신사동 호랭이', 1), ('김재양, 정용화 (CNBLUE)', 1), ('용감한 형제, 뜰아이박', 1), ('라도, 한서윤', 1), ('Kenny Loggins, Dean Pitchford, 싸이 (PSY), 유건형', 1), ('윤명선, 이규현', 1), ('김도훈 (RBW)', 1), ('Joachim Vermeulen Windsant, Maarten Ten Hove, Willem Laseroms', 1), ('홍진영', 1), ('유희열, 김태훈', 1), ('조현아', 1), ('강지원, 김기범', 1), ('용감한 형제, 코끼리 왕국', 1), ('김도훈, 박근태', 1), ('VidaLoca', 1), ('Zion.T,프라이머리,GRAY (그레이)', 1), ('프라이머리,개코', 1), ('Ryan S. Jhun,JD Relic,ASHLEY MOUA,Antwann Frost', 1), ('백민혁,회장님', 1), ('이상인,이창현,홍지유', 1), ('유성,김나영', 1), ('오한승,한상경,이수영', 1), ('Vatsiky,시온', 1), ('권빈기,김재중', 1), ('박준하,이승엽,김유민', 1), ('에스나 (eSNa),김도훈 (RBW),이상호', 1), ('이지훈,JIN,송지훈', 1), ('JYMON,박건우', 1), ('Drew Ryan Scott,한재호,Sean Alexander,김승수', 1), ('J. Yoon', 1), ('하정호,Storyteller', 1), ('이병우,안준성', 1), ('JQ,북극곰,신사동 호랭이', 1), ('루민,인영훈', 1), ('JYMON', 1), ('일당백,안형석,신정은', 1), ('Junjaman,Oliver Goodman,A Tree Plus,Sarah De Courcy', 1), ('이종수,나병수,주승훈', 1), ('9999,HOYA (호야)', 1), ('키겐,이현도,Eniac', 1), ('라이머,ASSBRASS', 1), ('ASSBRASS,HENNEY (헤니)', 1), ('라이머,ASSBRASS,HOYA (호야)', 1), ('Xepy,리시', 1), ('타고난,김창락 (CR Kim),박원우,Y.T', 1), ('JIN', 1), ('기현석,일당백,김기표', 1), ('라비 (RAVI),키겐', 1), ('라비 (RAVI),조용호', 1), ('라디오갤럭시,Long Candy', 1), ('흑린,새벽3시', 1), ('SuperRookie', 1), ('더 네임,메가톤', 1), ('원영헌', 1), ('Zion.T', 1), ('위프리키', 1), ('B.A.Wheeler', 1), ('RE:ONE', 1), ('장기준', 1), ('김재형', 1), ('이단옆차기,양갱', 1), ('권순일 (어반자카파)', 1), ('dress', 1), ('ZELKOVA(젤코바)', 1), ('전용준', 1), ('Bee', 1), ('Ye-Yo!', 1), ('R.Tee', 1), ('드라이브킹,제임스피오폰트', 1), ('예아나이스 (MosPick),빅싼초 (Yummy Tone),JayJay (MosPick)', 1), ('황찬희', 1), ('Slom', 1), ('일 (IL)', 1), ('임현식 (비투비)', 1), ('Pop Time', 1), ('김도현', 1), ('이단옆차기,Bull$EyE (불스아이)', 1), ('유진,김태주', 1), ('김태주,맵식스 (MAP6)', 1), ('Diggy,AiRPLAY,godok', 1), ('JUNB,WILLIUS,오지훈', 1), ('XEFIX82', 1), ('오레오 (이기, C-no, 웅킴)', 1), ('Lydia Paek', 1), ('millic (밀릭)', 1), ('라비 (RAVI),Yuth', 1), ('라비 (RAVI),러니 (RUNY),PUFF', 1), ('라비 (RAVI),PUFF', 1), ('BEOMxNANG', 1), ('KZ,미친감성,전다운', 1), ('박강일', 1), ('윤석철', 1), ('어깨깡패', 1), ('구희상,실버벨,도마현', 1), ('FUTURE BOUNCE', 1), ('정일훈,Any Masingga,VINCENZO,Fuxxy', 1), ('서재우 (TENTEN),BreadBeat (TENTEN),서용배 (TENTEN)', 1), ('웅킴', 1), ('주호,Maven', 1), ('Safira.K (사피라 K),Maven,도마현', 1), ('진민호', 1), ('조셉 케이', 1), ('LOOGONE', 1), ('최기석,iLLA', 1), ('카더가든', 1), ('KZ,미친감성,유상균,김주형', 1), ('송지훈,정홍구,Eniac', 1), ('윤명운', 1), ('빈지노 (Beenzino)', 1), ('박우상', 1), ('도니제이', 1), ('최인환', 1), ('A10tion(에이텐션)', 1), ('haventseenyou', 1), ('염따', 1), ('강명신', 1), ('Surf Green', 1), ('제인스 (Jayins)', 1), ('윤민석', 1), ('Anna Timgren', 1)]\n",
            "cluster 1\n",
            "827\n",
            "[('댄스', 424), ('발라드', 211), ('랩/힙합', 66), ('록/메탈', 41), ('R&B/Soul', 26), ('인디음악, 포크/블루스', 16), ('발라드, 국내드라마', 10), ('EMPTY', 7), ('댄스, 랩/힙합', 5), ('댄스, 국내드라마', 5), ('국내드라마', 4), ('발라드, 랩/힙합', 2), ('발라드, R&B/Soul', 2), ('인디음악, 록/메탈', 2), ('발라드, 록/메탈', 1), ('월드뮤직, 중국음악', 1), ('포크/블루스', 1), ('국외드라마', 1), ('댄스, 게임', 1), ('발라드, 애니메이션/웹툰, 키즈, 만화', 1)]\n",
            "[('트랙스', 35), ('오션', 31), ('천상지희 더 그레이스', 31), ('디베이스', 29), ('악동 클럽 ', 29), ('레이디스 코드', 29), ('소나무 (SONAMOO)', 29), ('히스토리', 26), ('로미오 (ROMEO)', 26), ('스피드', 25), ('파파야', 24), ('투피엠', 22), ('블랙 비트', 21), ('티맥스', 20), ('초신성', 20), ('써니힐', 20), ('Wa$$up ', 20), ('빅플로', 20), ('이글 파이브', 19), ('엑스라지', 19), ('큐오큐', 19), ('볼빨간사춘기', 19), ('비스트', 18), ('베스티', 18), ('비아이지 (B.I.G)', 18), ('블락비 바스타즈', 18), ('에스지', 17), ('잼', 15), ('서태지와 아이들', 15), ('R.ef', 15), ('씽', 15), ('버스커 버스커', 15), ('비트윈 (BEATWIN)', 15), ('포미닛', 14), ('다비치', 14), ('HIGH4 (하이포)', 13), ('EXO', 11), ('UNIQ (유니크)', 10), ('태연 (TAEYEON)', 10), ('Wanna One (워너원)', 10), ('T.N.B', 9), ('G-DRAGON', 8), ('블락비', 4), ('태연', 3), ('블락비 (Block B)', 3), ('EXO-CBX (첸백시)', 2), ('T.O.P', 1), ('EXO-K', 1), ('HIGH4 (하이포),아이유', 1), ('Wanna One (워너원) - 트리플포지션', 1)]\n",
            "[('(주)SM엔터테인먼트', 88), (nan, 45), ('로엔 엔터테인먼트', 40), ('상마인드', 38), ('JT Corea Entertainment', 31), ('큐브엔터테인먼트', 31), ('H2 엔터테인먼트', 29), ('EMPTY', 29), ('일광폴라리스 엔터테인먼트', 29), ('TS 엔터테인먼트', 29), ('CT 엔터테인먼트', 26), ('MBK 엔터테인먼트', 25), ('윈섬 미디어', 24), ('(주)JYP엔터테인먼트', 22), ('SM 엔터테인먼트', 21), ('세븐시즌스', 21), ('플래닛구공오', 20), ('마루기획(주)', 20), ('마피아 레코드', 20), ('에이치오컴퍼니', 20), ('쇼파르뮤직', 19), ('YNB 엔터테인먼트', 18), ('GH 엔터테인먼트', 18), ('DSP 미디어', 15), ('요요 기획', 15), ('팀 엔터테인먼트', 15), ('씽엔터테인먼트', 15), ('CJ E&M', 15), ('골드문 뮤직, 에렌 엔터테인먼트', 15), ('N.A.P. 엔터테인먼트', 14), ('YMC엔터테인먼트', 11), ('위에화 엔터테인먼트', 10), ('MBK엔터테인먼트', 9), ('카카오 M', 6), ('YG엔터테인먼트', 5), ('Stone Music Entertainment, B2M Entertainment', 5), ('브랜뉴스타덤', 4), ('(주)YG엔터테인먼트', 4), ('SM Entertainment', 2), ('SM엔터테인먼트', 2), ('큐브 엔터테인먼트', 1), ('도레미엔터테인먼트, 김종학프로덕션', 1)]\n",
            "[(2002, 71), (2016, 64), (2014, 63), (2017, 59), (2009, 55), (2007, 52), (2015, 52), (2006, 49), (2013, 46), (2000, 39), (2012, 33), (2003, 31), (2019, 29), (2001, 25), (1998, 21), (2008, 19), (2018, 18), (1996, 15), (2010, 15), (2004, 14), (2011, 14), (1992, 10), (1999, 9), (1993, 6), (1995, 5), (1997, 4), (2005, 4), (1994, 3), (2020, 2)]\n",
            "[('EMPTY', 136), (nan, 31), ('서태지', 13), ('Do', 12), ('바닐라맨 (바닐라어쿠스틱)', 12), ('이현도', 11), ('박진영', 11), ('장범준', 11), ('Chrischan', 10), ('슈퍼창따이', 9), ('홍재선', 8), ('이민수', 8), ('Papertonic', 7), ('김성태', 7), ('류광민', 7), ('마르코', 7), ('이용민', 6), ('주영훈', 6), ('황성제', 6), ('조진호', 5), ('조규만', 5), ('안정훈', 5), ('안영민', 5), ('이단옆차기', 5), ('레드락', 5), ('안지영', 5), ('MZMC', 5), ('KENZIE', 4), ('김도훈 (RBW)', 4), ('한상원', 4), ('조종수 ', 4), ('Ichiro Suezawa,이단옆차기', 4), ('진짜사나이,B.O.K', 4), ('박은우,박수석', 4), ('새벽,진리 (Full8loom),영광의 얼굴들 (Full8loom)', 4), ('일당백,안형석', 4), ('탁 (TAK),원택 (1Take)', 4), ('윤일상', 3), ('황세준', 3), ('심상원', 3), ('김창환', 3), ('강훈', 3), ('Groovie. K', 3), ('Kenzie', 3), ('Yoshiki', 3), ('정성헌', 3), ('조영수', 3), ('홍지상', 3), ('신인수', 3), ('신사동 호랭이, 최규성', 3), ('전해성', 3), ('유영진', 3), ('미친기집애,피터팬,똘아이박', 3), ('라디오갤럭시,우태운', 3), ('정균', 3), ('KZ,미친감성,전다운', 3), ('정규성,남기상,DAX,권선익', 3), ('DK,M Rey,Hyuk Shin (153/Joombas)', 3), ('마르코,스타트랙', 3), ('그루비룸 (GroovyRoom),P.O (피오)', 3), ('Poptime', 3), ('Rodnae `Chikk` Bell', 3), ('DEEZ,Yunsu', 3), ('용감한 형제,투챔프', 3), ('조진수', 2), ('양현석', 2), ('김준희', 2), ('JUSTIN ', 2), ('Wave Dream', 2), ('김형석', 2), ('전준규', 2), ('윤치웅', 2), ('RoseBeetz', 2), ('GRV', 2), ('기세인', 2), ('고동훈', 2), ('김세진', 2), ('김성수', 2), ('박준하', 2), ('김태성', 2), ('김영아', 2), ('한성호', 2), ('H, 원태연', 2), ('오준성', 2), ('서재하', 2), ('TEDDY, G-DRAGON, 필강', 2), ('이단옆차기,영광의 얼굴들 (Full8loom)', 2), ('김태주,한서윤,신사동 호랭이', 2), ('KZ', 2), ('슈퍼창따이,Will Simms,Tom Havelock', 2), ('이트라이브 (E-TRIBE)', 2), ('레드락,Ye-Yo!', 2), ('용감한 형제,별들의 전쟁 (GALACTIKA *)', 2), ('남기상,DAX,권선익', 2), ('라디오갤럭시,우태운,신사동 호랭이,I AM', 2), ('라디오갤럭시,이단옆차기', 2), ('HighTop,정균', 2), ('홍지상,이우민 `collapsedone`', 2), ('이윤지,DK,Jordan Kyle,Hyuk Shin (153/Joombas)', 2), ('진짜사나이,나다 (NADA),B.O.K', 2), ('피터팬,똘아이박', 2), ('이종훈,PJ', 2), ('박정욱 (MOT)', 2), ('최영경,G-High (MonoTree)', 2), ('BlueRhythm,장이정 (JANGYIJEONG)', 2), ('앤드류 최,Paul Najjar,Simon Janlov', 2), ('박은우,박수석,윤영민', 2), ('Ilanguaq `ilang` Lumholt,Premo,박상일', 2), ('마부스 (Maboos),투챔프', 2), ('CHOICE37', 2), ('정호현 (e.one)', 2), ('탁 (TAK),원택 (1Take),페이퍼플래닛 (Paper Planet)', 2), ('PlayBall,P.O (피오)', 2), ('한경수,FUTORE', 2), ('박병훈', 1), ('오솔미', 1), ('신동관', 1), ('이성욱', 1), ('p/t', 1), ('이종윤', 1), ('윤주미', 1), ('Uru', 1), ('한진우', 1), ('신상근', 1), ('이정규', 1), ('이영주', 1), ('윤현성', 1), ('Takashi Matsumoto (松本隆)', 1), ('신명구', 1), ('Unknown', 1), ('박성수', 1), ('싸이 (PSY)', 1), ('Bengt Girell', 1), ('Nagano', 1), ('Masanori Takumi', 1), ('타카시로 치하루', 1), ('D. Pandher,  T. La Verdi,  EAR', 1), ('김한범', 1), ('성훈 (브라운 아이드 소울)', 1), ('윤재상', 1), ('김지후', 1), ('Anders Grahn ', 1), ('Himuro Kyosuke', 1), ('C. Hawkes', 1), ('M.FRIDH', 1), ('홍석', 1), ('Farhad Zand ', 1), ('이소민', 1), ('LeeOn', 1), ('김정배', 1), ('Adam Reily', 1), ('J.M. Feliciano', 1), ('유건형', 1), ('김태윤, 박민조', 1), ('김대현, 이상백', 1), ('김영아, 정성헌', 1), ('권태은', 1), ('김태원', 1), ('박근철', 1), ('조종수', 1), ('전혜원', 1), ('김진훈', 1), ('마리오, 전지윤, 황성진', 1), ('신사동호랭이, 이상호', 1), ('황성진', 1), ('김도훈, 최갑원', 1), ('리원', 1), ('신사동호랭이, 전혜원', 1), ('신민철', 1), ('Tommy Park', 1), ('강지원', 1), ('김동현', 1), ('정모 (JUNGMO)', 1), ('신사동 호랭이, 이상호', 1), ('방시혁, Pdogg', 1), ('G-Dragon, Jimmy Thornfelt', 1), ('김기범,강지원', 1), ('방시혁', 1), ('신사동 호랭이', 1), ('TOP, TEDDY', 1), ('신사동 호랭이, 라도, 최규성', 1), ('이상호, 신사동 호랭이', 1), ('이주형, 임상혁', 1), ('블루 매직', 1), ('최규성', 1), ('김기원, 강지원', 1), ('김광진', 1), ('이적', 1), ('윤종신', 1), ('김도훈, 박근태', 1), ('라도', 1), ('지코, Delly Boi', 1), ('지코, 원영헌, 이관', 1), ('박해운', 1), ('신사동 호랭이, 라도', 1), ('지코 (ZICO), 박경', 1), ('Night & Day', 1), ('송봉조, Meng이', 1), ('한재호, 김승수', 1), ('Goodnite, Sleepwell', 1), ('G-DRAGON, TEDDY, 서원진', 1), ('지코, Pop Time', 1), ('이단옆차기,SEION', 1), ('용감한 형제,이정민,코끼리 왕국', 1), ('Crada', 1), ('e.one', 1), ('홍지상,슈퍼창따이', 1), ('남기상,DAX,미호,권선익', 1), ('e.one,Jin Choi,Kei Lim', 1), ('Brent Paschke,Jimmy Richard,Kei Lim,Gabriel Steve Lopez', 1), ('배진렬 (JR Groove),정우영', 1), ('East4A,윤상', 1), ('이윤지,Deanfluenza,Jordan Kyle,Hyuk Shin (153/Joombas)', 1), ('삼박자', 1), ('레드락,금붕어', 1), ('슈퍼 창따이', 1), ('라디오갤럭시', 1), ('북극곰,신사동 호랭이', 1), ('이종훈,이채규', 1), ('진짜사나이,정균', 1), ('정균,미친기집애', 1), ('배진렬 (JR Groove),앤드류 최', 1), ('이민수,East4A', 1), ('앤드류 최,220,DEEZ', 1), ('KZ,장이정 (JANGYIJEONG),아르마딜로', 1), ('노는어린이,심만주', 1), ('PJ,레노,백명한,김진훈', 1), ('이종훈,PJ,유타', 1), ('나관훈', 1), ('Erixson Jakke,Saidac Alexandra,J`Son,Holter Oscar Thomas', 1), ('이단옆차기,Homeboy,영광의 얼굴들 (Full8loom)', 1), ('태무,제이 (Jay Hong)', 1), ('구자경,나다 (NADA)', 1), ('Namu,일격필살', 1), ('George Michael,김기범', 1), ('박수석,윤영민', 1), ('박해일 (Yummy Tone),유선균', 1), ('Poptime,지코 (ZICO)', 1), ('에스나 (eSNa),용배 (RBW),앙리,이기', 1), ('Mr Success,ERIK LEWANDER ,Martin Mulholland', 1), ('그루비룸 (GroovyRoom),인크레더블,P.O (피오)', 1), ('DK,2xxx!,M Rey,Hyuk Shin (153/Joombas),Deanfluenza', 1), ('Fingazz,DJ NURE', 1), ('DK,Jordan Kyle,Hyuk Shin (153/Joombas)', 1), ('용배 (RBW),이기', 1), ('한재호,김승수,홍승현', 1), ('NieN', 1), ('이단옆차기,Homeboy', 1), ('노주환,SWEETCH,이기', 1), ('키겐', 1), ('홍지상,최린,이해용', 1), ('DK,Jarah Lafayette Gibson,KZ,Jordan Kyle,Hyuk Shin (153/Joombas)', 1), ('김태영,장이정 (JANGYIJEONG)', 1), ('KZ,장이정 (JANGYIJEONG)', 1), ('DK,Jordan Kyle,Ben Parris,Hyuk Shin (153/Joombas),Deanfluenza,Jeffery Yoo', 1), ('e.one,조재석', 1), ('이종훈,서용배 (TENTEN),박근태,PJ,이상호', 1), ('EastWest,우태운', 1), ('박은우,박수석,강명수 (MOT)', 1), ('전다운,스타트랙', 1), ('정하,정택준', 1), ('박기현,남기상,정규성,권선익', 1), ('김원혁', 1), ('서의범,서유석', 1), ('박성호', 1), ('Z-uK (지욱),HighTop,정균', 1), ('윤상조', 1), ('Z-uK (지욱),정균', 1), ('DK,Ju seon Kim,Hyuk Shin (153/Joombas),Beat&Keys,Jayrah Gibson', 1), ('SWEETUNE,Albi Albertsson,Joseph Park,Command Freaks', 1), ('SWEETUNE', 1), ('Alto,영광의 얼굴들 (Full8loom)', 1), ('이윤재', 1), ('Nikel(617),김진훈', 1), ('이주형 (MonoTree),NOPARI (MonoTree)', 1), ('추대관 (MonoTree)', 1), ('최영경,정수완,G-High (MonoTree)', 1), ('추대관 (MonoTree),적재', 1), ('장이정 (JANGYIJEONG),이어달리기', 1), ('송경일,장이정 (JANGYIJEONG),이어달리기', 1), ('김태영,나도균', 1), ('김재호,장이정 (JANGYIJEONG),BlueRhythm', 1), ('마르코,Kuan', 1), ('이주형 (MonoTree),G-High (MonoTree),권덕근', 1), ('Adrian Mckinnon', 1), ('이형순,이윤재,황윤성', 1), ('Coach & Sendo,흑태', 1), ('최수인,황금빛,정훈', 1), ('스타트랙', 1), ('NEW SUN(뉴썬),마르코', 1), ('박수석,Wonderkid,김창락 (CR Kim),영(0)', 1), ('박수석,Paul Rein,Ava Kay,슬리피,Marie Rein', 1), ('남기상,박영호,권선익,DAX,피아노맨', 1), ('정하,박기현,정택준', 1), ('추대관 (MonoTree),NOPARI (MonoTree),신아녜스', 1), (' C-no, 웅킴),황현,오레오 (이기', 1), ('Deanfluenza', 1), ('비범 (블락비),최선용,김진호,SUMIN (수민)', 1), ('VINCENZO,P.O (피오),SWEETCH,이기', 1), ('DK', 1), ('Chelcee Grimes', 1), ('서의범,BPM,서유석', 1), ('Aaron Benward', 1), ('쏘울깍쟁이,이재학,원요한', 1), ('Davey Nate,Mrey,Hyuk Shin (153/Joombas)', 1), ('DJ PLO', 1), ('박수석,에이브 (AEV)', 1), ('Megatone (13)', 1), ('용감한 형제,차쿤,투챔프', 1), ('마부스,JS', 1), ('이종훈', 1), ('프리미엄 프로젝트,백명한', 1), ('전군,프리미엄 프로젝트', 1), ('이형민,알렉스 (하이포),백명한', 1), ('S. Bros', 1), ('고명재,진리 (Full8loom),영광의 얼굴들 (Full8loom)', 1), ('1601', 1), ('쿤타,이제이 쇼,Kevon', 1), ('곰팡이,Bovver Beat', 1), ('김우진', 1), ('이정현 (MISTA BURN),Bovver Beat', 1), ('이정현 (MISTA BURN)', 1), ('투챔프', 1), ('염동건,김진환,이승우', 1), ('서원진', 1), ('KUSH (쿠시)', 1), ('후이 (펜타곤)', 1), ('GRVVITY', 1), ('탁 (TAK)', 1), ('페이퍼플래닛 (Paper Planet)', 1), ('박은우,박수석,봉원석', 1), ('James Matthew Norton', 1), ('낯선아이', 1), ('블랙아이드 필승', 1), ('정호현 (e.one),최현준 (V.O.S)', 1), ('미친손가락', 1), ('13', 1), ('Jeff Lewis', 1), ('김지수', 1), ('로빈', 1), ('Shaun Kim', 1), ('이후상,P.O (피오),윤태영', 1), ('Royal Dive', 1), ('박성일', 1), ('용감한 형제,js,차쿤', 1), ('용감한 형제,마부스 (Maboos),투챔프', 1), ('김영성', 1), ('Flow Blow', 1), ('빨간양말', 1), ('Benny Kim,JOONY,P.O (피오)', 1), ('박현규 (VROMANCE),비범 (블락비),최선용,김진호', 1), ('박현규 (VROMANCE),비범 (블락비),김진호', 1), ('박현규 (VROMANCE),비범 (블락비),Deepshower (딥샤워)', 1), ('Savage House Gang,유권 (블락비)', 1), ('탁 (TAK),김종환', 1), ('최한솔', 1), ('밍지션', 1), ('한경수,조세희', 1), ('탁 (TAK),페이퍼플래닛 (Paper Planet)', 1), ('Ronny Svendsen', 1), ('Robert Lopez', 1), ('Ryan S. Jhun', 1)]\n",
            "cluster 2\n",
            "137\n",
            "[('댄스', 62), ('발라드', 37), ('R&B/Soul', 12), ('랩/힙합', 8), ('발라드, 국내드라마', 8), ('록/메탈', 4), ('발라드, 댄스', 2), ('댄스 ', 1), ('발라드, 랩/힙합', 1), ('댄스, 국내드라마', 1), ('포크/블루스, 국내드라마', 1)]\n",
            "[('베이비복스', 3), ('클레오', 3), ('샤모니', 3), ('타키온', 3), ('애프터스쿨', 3), ('제국의아이들', 3), ('SE7EN', 3), ('FT아일랜드', 3), ('리쌍', 3), ('효린', 3), ('EXID', 3), ('다소니', 3), ('엔오엠', 3), ('디아,키스 & 크라이', 3), ('인피니트F', 3), ('DEAN', 3), ('첸 (CHEN)', 3), ('양다일', 3), ('백현 (BAEKHYUN)', 3), ('구피', 2), ('엔알지', 2), ('오피피에이', 2), ('클릭비 (Click-B)', 2), ('슈아이', 2), ('은지원', 2), ('포맨', 2), ('예성', 2), ('크리스탈', 2), ('간미연', 2), ('손담비', 2), ('먼데이 키즈', 2), ('지아', 2), ('신용재', 2), ('GD&TOP', 2), ('성시경', 2), ('정용화', 2), ('이현', 2), ('박봄', 2), ('김현중', 2), ('처진 달팽이 (유재석 & 이적)', 2), ('주니엘', 2), ('나얼', 2), ('핫젝갓알지', 2), ('WINGS', 2), ('에이코어 (A.KOR)', 2), ('AOA', 2), ('지연', 1), ('씨야, 다비치, 티아라', 1), ('제아, 미료', 1), ('이창민, 진운', 1), ('종현', 1), ('GG (박명수 & G-Dragon)', 1), ('다이나믹 듀오', 1), ('양요섭, 정은지', 1), ('스피카', 1), ('티파니', 1), ('시아준수', 1), ('이종현', 1), ('김재중', 1), ('박명수', 1), ('양요섭', 1), ('이창민,멜로디데이 (MelodyDay)', 1), ('이종현,멜로디데이 (MelodyDay)', 1), ('스피카.S', 1), ('GD X TAEYANG', 1), ('티파니 (TIFFANY)', 1), ('유재석', 1), ('하하,오마이걸 (OH MY GIRL)', 1), ('티파니 (TIFFANY),김종국,다이나믹 듀오,여진구,김유정,에디킴,전현무', 1), ('종현 (JONGHYUN)', 1), ('트랜스 픽션,오마이걸 (OH MY GIRL)', 1), ('소유 (SOYOU)', 1)]\n",
            "[('FNC엔터테인먼트', 10), ('(주)SM엔터테인먼트', 8), (nan, 7), ('YG엔터테인먼트', 6), ('SM Entertainment', 5), ('플레디스', 4), ('DR뮤직', 3), ('스펠 엔터테인먼트', 3), ('J&H 미디어', 3), ('스타제국', 3), ('YWHO Enterprise', 3), ('리쌍컴퍼니', 3), ('바나나컬쳐 엔터테인먼트', 3), ('제이엠스타 엔터테인먼트', 3), ('위닝인사이트엠', 3), ('울림 엔터테인먼트', 3), ('Joombas Co Ltd, 유니버설뮤직(가요)', 3), ('브랜뉴뮤직', 3), ('뮤직 팩토리', 2), ('베토벤 뮤직', 2), ('DSP 미디어', 2), ('예전미디어', 2), ('지와이엠엔터테인먼트', 2), ('MBK엔터테인먼트', 2), ('쏘스뮤직', 2), ('J-SOUL company', 2), ('플레이엠 엔터테인먼트', 2), ('에스케이재원', 2), ('키이스트, Stone Music Entertainment', 2), ('뮤직팜', 2), ('스타쉽 엔터테인먼트', 2), ('씨제스엔터테인먼트', 2), ('인넥스트트렌드', 2), ('소니뮤직', 2), ('로엔 엔터테인먼트, 뷰가 엔터테인먼트', 2), ('두리퍼블릭 엔터테인먼트', 2), ('바나나컬쳐', 2), ('WM 엔터테인먼트', 2), ('플레디스 & 카카오 M', 1), ('Stone Music Entertainment', 1), ('JYP엔터테인먼트', 1), ('빅히트 엔터테인먼트', 1), ('글로리엠케이엔터테인먼트', 1), ('거성엔터테인먼트, YG엔터테인먼트', 1), ('아메바컬쳐', 1), ('스타쉽엔터테인먼트', 1), ('에이비엔터테인먼트', 1), ('큐브엔터테인먼트, 플레이엠 엔터테인먼트', 1), ('B2M 엔터테인먼트', 1), ('빅히트엔터테인먼트', 1), ('밀리언마켓', 1), ('거성엔터테인먼트', 1), ('큐브엔터테인먼트', 1), ('CJ E&M, B2M 엔터테인먼트', 1), ('YG 엔터테인먼트', 1), ('Transparent Agency', 1), ('유니버설 뮤직. 해피트라이브 엔터테인먼트', 1), ('브리지', 1), ('디네이션', 1)]\n",
            "[(2010, 24), (2011, 22), (2012, 19), (2014, 13), (2016, 9), (1999, 8), (2013, 7), (2017, 7), (2009, 4), (2018, 4), (2019, 4), (1998, 3), (2000, 3), (2007, 3), (1997, 2), (2015, 2), (2020, 2), (1996, 1)]\n",
            "[('EMPTY', 7), (nan, 5), ('김도훈, 이상호', 3), ('윤일상', 2), ('이용민', 2), ('신동관', 2), ('김형석', 2), ('용감한 형제', 2), ('오준성', 2), ('방시혁', 2), ('TEDDY', 2), ('성시경', 2), ('한승훈', 2), ('이적', 2), ('길', 2), ('나얼', 2), ('이수현', 2), ('이현도,Eniac', 2), ('윤종성 (MonoTree),장정석,흑태', 2), ('정키', 2), ('highhopes', 2), ('주영훈', 1), ('주태영', 1), ('이지은', 1), ('킵루츠', 1), ('김종천', 1), ('조영수', 1), ('한상원', 1), ('윤민수', 1), ('김세진, 서정진', 1), ('Mordny', 1), ('박준수', 1), ('제아', 1), ('김태현', 1), ('배진렬', 1), ('강지원, 이진성', 1), ('필강', 1), ('최현죽, 이진성', 1), ('KZ', 1), ('이트라이브', 1), ('임세준', 1), ('TEDDY, 선우정아', 1), ('정용화', 1), ('홍지상', 1), ('오성훈', 1), ('방시혁, Pdogg', 1), ('김광성', 1), ('Lydia Paek, TEDDY', 1), ('Daishi Dance', 1), ('김도훈 (RBW), 이상호', 1), ('Steven Lee, Sean Alexander', 1), ('Steven Lee', 1), ('TEDDY, Eknock, G-DRAGON', 1), ('DJ Juice, 길', 1), ('Minuki', 1), ('박강일', 1), ('philtre', 1), ('김창기', 1), ('박진영', 1), ('신사동 호랭이, 최규성', 1), ('김건우', 1), ('David D.A Doman, William David Porter, Ryan S. Jhun', 1), ('류원광', 1), ('전해성', 1), ('김현구, 공두형', 1), ('김재양', 1), ('임동균', 1), ('신용재 (2F)', 1), ('정엽, Ecobridge', 1), ('Twoface, 이상호', 1), ('용준형, 김태주', 1), ('이삭이,라도,신사동 호랭이', 1), ('최규성,신사동 호랭이', 1), ('라도,신사동 호랭이', 1), ('박남정,킵루츠,은지원', 1), ('에이팀', 1), ('디아 (DIAA),타이비언', 1), ('Wonderkid,LUVAN (러반)', 1), ('찰스와 제니퍼', 1), ('라디오갤럭시', 1), ('Wonderkid,LUVAN (러반),강양구', 1), ('슬리피,빅싼초 (Yummy Tone),임상혁', 1), ('용감한 형제,별들의 전쟁 (GALACTIKA *),Miss Lee', 1), ('The Fliptones,Freedo,G-DRAGON', 1), ('추대관 (MonoTree),한재호,김승수,홍승현', 1), ('명랑한 운동부,김기표', 1), ('2XXX!', 1), ('류재현', 1), ('MZMC', 1), ('Felicia Barton', 1), ('LE (EXID)', 1), ('Otha `Vakseen` Davis III', 1), ('Chrischan,전준규', 1), ('원준 (ONE JUNN),인광', 1), ('그루비룸 (GroovyRoom)', 1), ('IMLAY', 1), ('V!VE', 1), ('이상호', 1), ('전호진,해랑', 1), ('Jonatan Gusmark', 1), ('Tomajo', 1), ('레드쿠키', 1), ('MooF (153/Joombas)', 1), ('피아노맨', 1), ('KENZIE', 1), ('이승주', 1), ('Adrian Mckinnon', 1)]\n",
            "cluster 3\n",
            "932\n",
            "[('댄스', 348), ('록/메탈', 307), ('발라드', 114), ('J-POP', 46), ('R&B/Soul', 37), ('랩/힙합', 36), ('EMPTY', 7), ('국내드라마', 6), ('발라드, 댄스', 4), ('애니메이션/웹툰, 키즈, 만화', 3), ('발라드, 국내드라마', 3), ('록/메탈, 국내드라마', 3), ('댄스, 국내드라마', 3), ('댄스, R&B/Soul', 2), ('발라드, 국내영화', 2), ('발라드, R&B/Soul, 국내영화', 2), ('댄스, 국내영화', 2), ('록/메탈, 애니메이션/웹툰, 키즈, 만화', 1), ('애니메이션/웹툰', 1), ('일렉트로니카', 1), ('댄스, 애니메이션/웹툰, 키즈, 만화', 1), ('발라드, 랩/힙합, 국내드라마', 1), ('댄스, 게임', 1), ('성인가요', 1)]\n",
            "[('GOT7 (갓세븐)', 103), ('에프티 아일랜드', 100), ('DAY6 (데이식스)', 93), ('브라운 아이드 걸스', 90), ('여자친구 (GFRIEND)', 87), ('쥬얼리', 85), ('버즈', 85), ('오마이걸 (OH MY GIRL)', 71), ('러블리즈', 70), ('더블에스오공일', 67), ('엔플라잉 (N.Flying)', 63), ('세븐틴', 11), ('브라운 아이드 소울', 2), ('여자친구 (GFRIEND),피카친구', 2), ('소녀시대', 1), ('세븐틴,에일리', 1), ('CLC', 1)]\n",
            "[('JYP 엔터테인먼트', 196), ('FNC엔터테인먼트', 100), ('에이팝엔터테인먼트', 90), ('쏘스 뮤직', 89), ('스타제국', 85), ('인넥스트트렌드', 84), ('WM 엔터테인먼트', 71), ('울림 엔터테인먼트', 70), ('DSP 미디어', 67), ('FNC 엔터테인먼트', 63), ('플레디스 엔터테인먼트', 12), ('인넥스트 트렌드', 2), ('(주)SM엔터테인먼트', 1), ('에이원피플', 1), ('큐브 엔터테인먼트', 1)]\n",
            "[(2017, 108), (2009, 98), (2019, 98), (2018, 85), (2016, 82), (2008, 81), (2006, 77), (2007, 61), (2015, 59), (2005, 42), (2020, 38), (2014, 33), (2003, 32), (2002, 12), (2001, 10), (2000, 5), (2011, 4), (2004, 3), (2010, 3), (2012, 1)]\n",
            "[('한성호', 24), ('EMPTY', 20), ('용배 (RBW),이기', 20), ('홍지상,Young K,Jae,성진,원필 (DAY6)', 20), ('고석영', 18), ('1Piece', 18), ('이민수', 17), ('홍지상,이우민 `collapsedone`,Young K,Jae,성진,원필 (DAY6)', 17), ('윤일상', 13), ('한승훈', 13), ('earattack,리시,마크 (GOT7)', 13), ('윤우현', 12), ('김재양', 12), ('김승수', 11), ('노주환,이원종', 11), ('박근태', 10), ('조영수', 10), ('이상준', 10), ('이승협 (J.DON),김수빈 (AIMING)', 10), ('박덕정', 9), ('류재현', 9), ('남기상', 8), ('WOOZI (SEVENTEEN),BUMZU,Anchor', 8), ('이병준', 7), ('오승은', 6), ('황성제', 6), ('한상원', 6), ('e.one', 6), ('JK Lee', 5), ('손성희', 5), ('김태현', 5), ('최혜정', 5), ('Chloe,NODAY', 5), ('신인수', 4), ('김건우', 4), ('김도훈 (RBW)', 4), ('홍지상,박진영', 4), ('J. Yoon', 4), ('미오 (MIO)', 4), ('홍지상,이우민 `collapsedone`,Young K,Jae,원필 (DAY6)', 4), ('Mayu Wakisaka,이우민 `collapsedone`', 4), ('디스코 파이터', 3), ('박세준', 3), ('김도현', 3), ('필강', 3), ('김희원', 3), ('오광석', 3), ('윤건', 3), ('Yoshihiko Chino (知野芳彦)', 3), ('Shusui', 3), ('오준성', 3), ('이트라이브 (E-TRIBE)', 3), ('Sum People', 3), ('JB (GOT7),앤드류 최,220,밍지션', 3), ('Distract,Secret Weapon,진영 (GOT7)', 3), ('홍지상,이우민 `collapsedone`,Young K,Jae,도운,성진,원필 (DAY6)', 3), ('홍지상,원필 (DAY6),이우민 `collapsedone`,Young K', 3), ('SWEETUNE', 3), ('Ferdy (MosPick),Megatone (13)', 3), ('Jake K (ARTiffect),진리 (Full8loom),영광의 얼굴들 (Full8loom)', 3), ('ZigZag Note', 3), ('정호현 (e.one)', 3), ('엔플라잉 (N.Flying),이승협 (J.DON),Yuzuru Kusugo', 3), ('전준규', 2), ('심상원', 2), ('정성윤', 2), ('TAMA', 2), ('주영훈', 2), ('나준섭', 2), ('이도연', 2), ('꼬마', 2), ('이세형', 2), ('빅뱅 (방승철)', 2), ('바비 킴', 2), ('서정진', 2), ('니아', 2), ('오석준', 2), ('신상우', 2), ('윤석준', 2), ('Yoji Kubota (久保田洋司)', 2), ('Daichi', 2), ('Ryosuke Nakanishi (中西亮輔)', 2), ('Hiroo Yamaguchi (山口寬雄)', 2), ('박해운', 2), ('제아', 2), ('CARLSON SANNIE', 2), ('이채규', 2), ('문정규', 2), ('용감한 형제', 2), ('양재선', 2), ('조석연', 2), ('WAYNE MILTON', 2), ('이승환', 2), ('김보민', 2), ('최규성', 2), ('라도', 2), ('신사동 호랭이', 2), ('최현준 (V.O.S)', 2), ('KZ1', 2), ('Steven Lee', 2), ('Jimmy Richard', 2), ('안영민', 2), ('브라운 아이드 소울', 2), ('박진영,NODAY', 2), ('한재호,황현 (MonoTree),김승수,홍승현', 2), ('한승훈,권광진,고진영', 2), ('DAY6 (데이식스),naru (THE SOLUTIONS)', 2), ('앤드류 최,220,DAY6 (데이식스)', 2), ('DAY6 (데이식스),FRANTS', 2), ('Avenue 52,Kendall Gaveck,Sean Alexander,Darren Smith', 2), ('Andreas Oberg,Par Almqvist,August Vinberg', 2), ('김도훈 (RBW),이상호', 2), ('한승훈,고진영', 2), ('Ragoon IM,NODAY', 2), ('마크 (GOT7),유겸 (GOT7),FRANTS', 2), ('Daniel Kim,JB (GOT7),박지연', 2), ('주찬양 (티맥스),Command Freaks,영재 (GOT7)', 2), ('Joe Killington,Sophie White,David Anthony', 2), ('Andreas Oberg,Maria Marcus', 2), (' C-no, 웅킴),오레오 (이기', 2), ('최선용,하드캐리', 2), ('잭슨 (GOT7),BOYTOY', 2), ('Young K,도운,Mr. Cho,원필 (DAY6),주효', 2), ('심은지,변방의 킥소리', 2), ('Bee', 2), ('Razer (Strike),톰이랑 제리', 2), ('Bo Riley,Andreas Oberg,Sean Alexander,Avenue 52,Darren Smith', 2), ('홍지상,원필 (DAY6),이우민 `collapsedone`,성진', 2), ('홍지상,원필 (DAY6),Young K', 2), ('장정석,흑태', 2), ('Anna Timgren,Fuxxy,Any Masingga,VINCENZO', 2), ('케빈오빠,재도기,Young K', 2), ('탁 (TAK),원택 (1Take)', 2), ('김창락 (CR Kim),조세희,김수빈 (AIMING)', 2), ('Ollounder,LEEZ', 2), ('이단옆차기,Black Edition', 2), ('Krysta Youngs,Command Freaks,Onestar (MonoTree)', 2), ('김창락 (CR Kim),김수빈 (AIMING)', 2), ('스페이스카우보이 (SPACECOWBOY)', 2), ('이승협 (J.DON),고진영', 2), ('이승협 (J.DON),조세희,정진욱', 2), ('Caroline Gustavsson,Joe Lawrence,Steven Lee', 2), ('제이 (Jay Hong),SING,Sebastian Anton Atasd,Victor Carl', 2), ('Mayu Wakisaka,David Amber,Sean Alexander', 2), ('엔플라잉 (N.Flying),Yuzuru Kusugo', 2), ('엔플라잉 (N.Flying),이승협 (J.DON),TIENOWA', 2), ('C-no,웅킴,이기', 2), ('13', 2), ('이승협 (J.DON),Yuzuru Kusugo', 2), ('Andreas Johansson,Sebastian Thott,Laurell,Steven Lee', 2), ('Ryan S. Jhun,Celine Svanback,Jeppe London,Lauritz Christiansen,Chloe Latimer', 2), ('홍지상,Jae', 2), ('우지민', 1), ('Chrischan', 1), ('조우진', 1), ('양준영', 1), ('안익수', 1), ('윤승환', 1), ('Miunki', 1), ('유정연', 1), ('이영훈', 1), ('정민우', 1), ('BYP', 1), ('서재하', 1), ('김조한', 1), ('하정호', 1), ('황세준', 1), ('DJ Tama', 1), ('방승철', 1), ('김진환', 1), ('김한규', 1), ('남이정', 1), ('나의현', 1), ('민명기', 1), ('임보경', 1), ('정동중', 1), ('박근철', 1), ('안정훈', 1), ('손무현', 1), ('박동규', 1), ('Jeanette Olsson', 1), ('김진훈', 1), ('김지웅', 1), ('김승현', 1), ('Goldie', 1), ('최원석', 1), ('Papertonic', 1), ('장원호', 1), ('Michael McGregor', 1), ('Paul Kim', 1), ('전혜원', 1), ('OK TOP', 1), ('이종훈', 1), ('장준호', 1), ('민영기', 1), ('신형', 1), ('윤희성', 1), ('Minuki', 1), ('SHAINE FREEMAN', 1), ('허영생', 1), ('전군', 1), ('Yoshimata Ryo', 1), ('LeeOn', 1), ('김태완', 1), ('HB', 1), ('김세진', 1), ('KZ', 1), ('haihm', 1), ('이진성 (먼데이 키즈)', 1), ('오즈 (오승은)', 1), ('Sean Alexander', 1), ('김기범', 1), ('Mori Daisuke', 1), ('MR.B.I.G', 1), ('전훈', 1), ('G. 고릴라', 1), ('송수윤, 김이나', 1), ('크리스', 1), ('G.고릴라, 미료', 1), ('S. Bros', 1), ('이우민 `collapsedone`,Fredrik `Fredro` Odesjo', 1), ('Mr. Cho', 1), ('Andy Love,Alex G,Erika Nuri', 1), ('이우민 `collapsedone`,Crizzy & Guy,Fredrik `Fredro` Odesjo', 1), ('Chloe,NODAY,필립', 1), ('박진영,이우민 `collapsedone`', 1), ('Toyo Lee,박진영', 1), ('최석,박진영', 1), ('이주형 (MonoTree),G-High (MonoTree)', 1), ('홍지상,Dr.JO', 1), ('낭이,범이', 1), ('홍지상', 1), ('Myron Jordine,Greg Bonnick,Hayden Chapman,LDN Noise', 1), ('110403,Daniel Kim,Paul Najjar', 1), ('110403,Daniel Kim,Erik Lidbom', 1), ('MR.CHO,청담동박건우', 1), ('ZigZag Note,강명신', 1), ('72,Sean Alexander,Avenue 52', 1), ('DK,Jarah Lafayette Gibson,Jordan Kyle,Hyuk Shin (153/Joombas)', 1), ('Andreas Oberg,Sean Alexander,Avenue 52,Rinat Arinos', 1), ('Andreas Oberg,Sean Alexander,Avenue 52,Alejandra Ocampo', 1), ('박현우,한승훈,고진영', 1), ('김재양,이진호', 1), ('Charles `Chizzy` Stephens III,STEVEN BATTEY,CARLOS BATTEY,Gavin Jones,C Minor,Jackie Boyz,Jay Dmuchowski', 1), ('청담동박건우,Mr. Cho', 1), ('Dr.JO', 1), ('Tommy Park', 1), ('Joe J. Lee (Kairos)', 1), ('김웅,홍범규,이기', 1), ('흑태,호베', 1), ('홍지상,이우민 `collapsedone`,DAY6 (데이식스)', 1), ('MR.CHO,청담동박건우,DAY6 (데이식스)', 1), ('MR.CHO,청담동박건우,DAY6 (데이식스),전정훈', 1), ('블랙아이드 필승', 1), ('박진영,김승수,아르마딜로,Dr.JO', 1), ('주찬양 (티맥스),Command Freaks', 1), (' C-no, 웅킴),SWEETCH,오레오 (이기', 1), ('이지린', 1), ('Super Market', 1), ('이윤재,이정표', 1), ('Laura Brian,Sean Alexander,Avenue 52', 1), ('Almqvist,Andreas Oberg,Par Almqvist,August Vinberg', 1), ('이토요,박진영', 1), ('JB (GOT7),Dr.JO', 1), ('Matt Wong,Andreas Stone Johansson,Steven Lee,Joakim Dalqvist', 1), ('WOOZI (SEVENTEEN),리시', 1), ('흑태,준타', 1), ('윤종성 (MonoTree),장정석,흑태', 1), ('Yu-ki Kokubo,Kohei Yokono', 1), ('e.one,조재석', 1), ('흑태,준타,박찬', 1), ('earattack,오브로스,변방의 킥소리,5$', 1), ('DK,2xxx!,Matthew Heath,Jusen,Hyuk Shin (153/Joombas),GG Riggs', 1), ('Andreas Oberg,Sean Alexander,Xin Xin Gao,Avenue 52,Darren Smith', 1), ('Sophie White,David Anthony,Phoebe Brown', 1), ('Command Freaks,진영', 1), ('Jae,220,앤드류 최,Young K', 1), ('Nuplay,Young K,Jae,Walter Pok,도운,Neiil Nallas,성진,원필 (DAY6)', 1), ('원필 (DAY6),Young K,성진,FRANTS', 1), ('원필 (DAY6),Young K,FRANTS', 1), ('Rphabet,Strike,Razer (Strike)', 1), ('양시온,Kissmaker', 1), ('Tammy Infusino,Evan Haymond,Darren Smith', 1), ('마스터키,Score (13),팻뮤직', 1), ('ZigZag Note,레트로펑키', 1), ('DK,Mrey,Hyuk Shin (153/Joombas)', 1), ('72,David Anthony,황세준', 1), ('이정현,이범석', 1), ('루빈,유정연', 1), ('유정연,문정규 (a.k.a 좋은놈)', 1), ('earattack,변방의 킥소리,JB (GOT7),리시', 1), ('earattack,리시,유근', 1), ('JB (GOT7),220,Royal Dive', 1), ('김원,영재 (GOT7)', 1), ('Oscar Doniz,STEVEN BATTEY,CARLOS BATTEY,Josiah Rosen,Ruwanga Samath', 1), ('Cash Note,Primeboi', 1), ('CARLOS BATTEY,Gregg Pagani,Damon Sharpe', 1), ('earattack,JB (GOT7)', 1), ('Young K,Jae,성진,차일훈,YUE,윤은석', 1), ('Razer (Strike),최문석', 1), ('Kojima Mayumi,양시온', 1), ('고태영,강인원', 1), ('Brian Choi,220,Erik Lidbom', 1), ('소피야 (Sophiya),220,Erik Lidbom', 1), ('earattack,박진영,zomay,5$,유근', 1), ('earattack,잭슨 (GOT7),5$', 1), ('Chloe,NODAY,영재 (GOT7)', 1), ('earattack,JB (GOT7),5$', 1), ('GDLO (MonoTree),JB (GOT7)', 1), ('Mo`I,유겸 (GOT7),Heth', 1), ('Valeria Del Prete,72,David Anthony', 1), ('Mayu Wakisaka,Sean Alexander,Avenue 52', 1), ('Michele Angel Wylen,Andreas Oberg,Sean Alexander,Avenue 52,Darren Smith', 1), ('Michael Lerios,Demitri Lerios,Svante Halldin,Hugo Bjork,Andreas Oberg,SYMON,Jakob Hazell,SeventyEight', 1), ('홍지상,원필 (DAY6),Young K,성진', 1), ('홍지상,Swanthewhitepig,이우민 `collapsedone`,Young K,Jae,성진,원필 (DAY6)', 1), ('홍지상,이우민 `collapsedone`,Young K,성진,원필 (DAY6)', 1), ('홍지상,이우민 `collapsedone`,Young K,Jae,도운,임준혁,성진,원필 (DAY6)', 1), ('220,Young K', 1), ('고태영,박시춘', 1), ('RE:ONE ,Davey Nate,Hyuk Shin (153/Joombas)', 1), ('한승훈,김창락 (CR Kim),정진욱', 1), ('한승훈,김창락 (CR Kim),용배 (RBW),이기', 1), ('한승훈,용배 (RBW)', 1), ('김창락 (CR Kim),조세희', 1), ('조세희,Mussashi,Justin Reinstein', 1), ('wan9u,스페이스카우보이 (SPACECOWBOY),윤상,신유미', 1), ('JB (GOT7),FS,Royal Dive', 1), ('Mirror Boy,문한미루,JB (GOT7),디함', 1), ('이미지스 (IMAGES),뱀뱀 (GOT7),Say', 1), ('Effn,Samuel Ku,유겸 (GOT7),Heth', 1), ('마르코', 1), ('심규선 (Lucia),김진영', 1), ('원필 (DAY6),케빈오빠,이민경', 1), ('청담동박건우,DAY6 (데이식스),케빈오빠,전정훈', 1), ('서용배 (TENTEN),김창락 (CR Kim),조세희,Cesar Peralta', 1), ('서용배 (TENTEN),김창락 (CR Kim),밍키 (RBW)', 1), ('서용배 (TENTEN),한승훈', 1), ('한승훈,조세희,정진욱', 1), ('김창락 (CR Kim),이승협 (J.DON),Andy Platts,김수빈 (AIMING)', 1), ('Mayu Wakisaka,Sean Alexander,Steven Lee', 1), ('Samuel Cramer,Sophie White,David Anthony,Phoebe Jo Brown', 1), ('Andreas Oberg,Tiaan Williams,Skylar Mones', 1), ('Ferdy (MosPick),예아나이스 (MosPick)', 1), ('고태영,전준규', 1), ('심은지,Fredrik `Figge` Bostrom,Louise Frick Sveen,Albin Nordqvist', 1), ('이상철,문한미루,JB (GOT7),Mirror Boy,디함', 1), ('이미지스 (IMAGES),뱀뱀 (GOT7)', 1), ('홍곰,Ryan,5$,AMIllO (아밀로),영재 (GOT7)', 1), ('Effn,유겸 (GOT7),Heth', 1), ('Stephen Langstaff,진영 (GOT7),Matthew Weedon,Charlie Tenku,Distract', 1), ('DAVINK (다빈크)', 1), ('Razer (Strike),홍di', 1), ('Andy Love,David Amber,Ryan S. Jhun', 1), ('노주환,소피야 (Sophiya),김예일', 1), ('Adrian Mckinnon,Steven Lee,Brad.K', 1), ('BreadBeat (TENTEN),DJ Kayvon,Wonderkid,Josef Melin', 1), ('Jonas Mengler,Justin Reinstein', 1), ('KIRKHAM BRANDON,JAN MICHAEL LANGHOFF,PETER HARTMANN,Takey', 1), ('홍지상,Jae,원필 (DAY6),Young K', 1), ('Razer (Strike),홍di,재리포터 (YummyTONE)', 1), ('붐바스틱', 1), ('Andreas Oberg,노주환,Sean Alexander,Avenue 52,Darren Smith', 1), ('Adam Argyle,조미쉘,Rob Persaud,Damon Sharpe', 1), ('atomik,HILO (Isaac Han),Young K', 1), ('Caroline Gustavsson,Steven Lee', 1), ('Courtney Woolsey,Mrey,Hyuk Shin (153/Joombas)', 1), ('Mayu Wakisaka,David Amber', 1), ('추대관 (MonoTree)', 1), ('문상선,Jae,MAJORCODE,원필 (DAY6)', 1), ('NV,스페이스카우보이 (SPACECOWBOY),1988', 1), ('탁 (TAK),원택 (1Take),애런 (ARRAN)', 1), ('김미영,정수민', 1), ('원필 (DAY6),케빈오빠,Young K', 1), ('김수빈 (AIMING)', 1), ('Avenue 52,Sean Alexander,Darren Smith', 1), ('Caroline Gustavsson,Val Del Prete,Daniel Sherman', 1), ('B.EYES', 1), ('용배 (RBW),밍키 (RBW),이기', 1), ('웅킴', 1), ('손고은 (MonoTree)', 1), ('Stereo14,Megatone (13)', 1), ('Ryo `Lefty` Miyata,Carlos K,JOE', 1), ('노주환,Jeina Choi,STAINBOYS', 1), ('Willie Weeks,Steven Lee,Becky Jerams', 1), ('Ashley Alisha (153/Joombas),M Rey,Hyuk Shin (153/Joombas)', 1), ('Ashley Alisha (153/Joombas),박슬기 (153/Joombas),배민수,Le`mon (153/Joombas)', 1), ('Ashley Alisha (153/Joombas),JJ Evans (153/Joombas),MooF (153/Joombas)', 1), ('Ryan S. Jhun,Henri Vuortenvrita,Anna Timgren', 1), ('정호현 (e.one),SEION', 1), ('NV,최영준,스페이스카우보이 (SPACECOWBOY),JADE (제이드)', 1), ('이승협 (J.DON),TIENOWA,차훈,KEIT,엔플라잉 (N.Flying)', 1), ('Satoshi Shibayama,엔플라잉 (N.Flying)', 1), ('MosPick', 1), ('이원종', 1), ('Jae,220,Young K', 1), ('Young K,성진,원필 (DAY6),이민경,케빈오빠', 1), ('JJ Evans (153/Joombas),MooF (153/Joombas),정윤 (153/Joombas),Ashley Alisha (153/Joombas),Hyuk Shin (153/Joombas)', 1), ('이민수,BLSSD', 1), ('이정철,DJ Kaesama,1Piece', 1), ('이승협 (J.DON),이우민 `collapsedone`,Justin Reinstein', 1), ('Drew Ryan Scott,이승협 (J.DON),Joacim Persson,Johan Alkenas', 1), ('Dillon Dixon,Josef Melin', 1), ('심은지,Jae,이해솔', 1), ('Jae,원필 (DAY6),FRANTS', 1), ('FRANTS,Young K', 1), ('Jae,케빈오빠', 1), ('KIME,Young K,Sean M. Sinclair,MHL,조창현', 1), ('Swavey Child,Jae,203,Young K', 1), ('원필 (DAY6),재도기,다솔', 1), ('원필 (DAY6),김연서,밍지션', 1), ('심은지,변방의 킥소리,박음색,최팽', 1), ('엔플라잉 (N.Flying),이승협 (J.DON),차훈,TIENOWA', 1), ('KZ,Nthonius', 1), ('박제윤,DAVINK (다빈크)', 1), ('JJ Evans (153/Joombas),CHUNGYOON,MooF (153/Joombas),Ashley Alisha (153/Joombas),Hyuk Shin (153/Joombas)', 1), ('Yuichiro Tsuru,R!N,Sorato,Ryo Ito,Sorano', 1), ('Mirai,alura,Ryo Ito,Sorato', 1), ('Yui Mugino,TomoLow', 1), ('Sorato,Ryo Ito,Mayune,Yumi Muroya', 1), ('Sophia Pae,Carlos K,김정우,이원종,노주환,김연서,ADORA,FRANTS', 1), ('Door (13),Megatone (13),Score (13)', 1), ('김연서,다운,밍지션', 1), ('엔플라잉 (N.Flying),SiHa,고진영', 1), ('김선민,이원종,황태영', 1), ('강민국,임현지,Brandon Jung', 1), ('WOOZI (SEVENTEEN),박기태,BUMZU', 1), ('WOOZI (SEVENTEEN),BUMZU', 1), ('WOOZI (SEVENTEEN),동네형,야마아트,원영헌', 1), ('고진영,엔플라잉 (N.Flying),Ching Kwang Lee', 1), ('iHwak,Zayson,DEFSOUL,Royal Dive', 1), ('NODAY,Ars', 1), ('뱀뱀 (GOT7),FRANTS', 1), ('Mayu Wakisaka,이주형 (MonoTree)', 1), ('Maria Marcus,Freja Blomberg Jonsson', 1), ('Linda Quero,Joe Lawrence,Steven Lee', 1), ('재도기,다솔,성진', 1), ('박현우,이승협 (J.DON),정진욱', 1), ('엔플라잉 (N.Flying),위종수,고진영', 1)]\n",
            "cluster 4\n",
            "69\n",
            "[('발라드', 24), ('댄스', 21), ('발라드, 국내드라마', 4), ('R&B/Soul', 3), ('랩/힙합', 3), ('록/메탈', 3), ('인디음악, 록/메탈', 2), ('R&B/Soul, 인디음악', 2), ('댄스, 국내드라마', 1), ('발라드, 국내영화', 1), ('발라드 ', 1), ('댄스, 랩/힙합', 1), ('POP', 1), ('EDM', 1), ('록/메탈, 국내드라마', 1)]\n",
            "[('하현우 (국카스텐)', 2), ('정키', 2), ('언니쓰', 2), ('잔나비', 2), ('모모랜드 (MOMOLAND)', 2), ('Steve Aoki,몬스타엑스', 2), ('마크툽 (MAKTUB)', 2), ('플래티넘', 1), ('럼블피쉬', 1), ('정아', 1), ('대성', 1), ('디셈버', 1), ('SS501', 1), ('이보람, 효민, 지연', 1), ('소연', 1), ('태양', 1), ('정엽', 1), ('빅마마', 1), ('이승철', 1), ('환희', 1), ('Homme', 1), ('길미', 1), ('휘성', 1), ('가비엔제이', 1), ('미스에스', 1), ('임정희', 1), ('박유천, 시아준수, 김재중', 1), ('강승윤', 1), ('SG 워너비', 1), ('김범수', 1), ('김지수', 1), ('선예', 1), ('송지은', 1), ('김그림', 1), ('브레이브걸스', 1), ('NS 윤지', 1), ('of 비스트', 1), ('씨스타19', 1), ('허영생', 1), ('제시카', 1), ('장우혁', 1), ('바닷길 (길 & 바다)', 1), ('철싸 (노홍철 & 싸이 (PSY))', 1), ('파리돼지앵 (정형돈 & 정재형)', 1), ('스윗 콧소로우 (정준하 & 스윗소로우)', 1), ('센치한 하하 (하하 & 10cm)', 1), ('김준수', 1), ('버벌진트', 1), ('트러블메이커', 1), ('나인뮤지스', 1), ('아이비', 1), ('헬로비너스', 1), ('이해리', 1), ('JJ Project', 1), ('윤하', 1), ('레게 강 같은 평화', 1), ('화사 (Hwa Sa)', 1), ('UV,엔플라잉 (N.Flying)', 1), ('딘딘,뮤지,엔플라잉 (N.Flying)', 1), ('노을,엔플라잉 (N.Flying)', 1), ('UV,노을,딘딘,엔플라잉 (N.Flying)', 1), ('산들,라붐 (LABOUM),킬라그램 (KILLAGRAMZ),CintaKiehl,Indigo,Darren Espanto,Wyne Lay', 1)]\n",
            "[('FNC 엔터테인먼트', 4), ('MBK엔터테인먼트', 3), ('스타쉽 엔터테인먼트', 3), ('폴라리스엔터테인먼트', 2), ('YG Entertainment', 2), ('YG엔터테인먼트', 2), ('씨제스엔터테인먼트', 2), ('큐브엔터테인먼트', 2), ('(주)인터파크', 2), ('도우즈 레코즈', 2), ('KBS한국방송', 2), ('페포니 뮤직', 2), ('(주)엠엘디엔터테인먼트', 2), ('(주)마크툽컴퍼니', 2), ('DR 뮤직', 1), ('플레디스', 1), ('씨에스해피엔터테인먼트', 1), ('DSP미디어', 1), ('인넥스트트랜드', 1), ('태일런스미디어', 1), ('카카오페이지', 1), ('에이치투미디어', 1), ('빅히트엔터테인먼트', 1), ('GYM', 1), ('리얼슬로우컴퍼니', 1), ('Good Fellas Entertainment', 1), ('브랜뉴뮤직', 1), ('피앤비엔터테인먼트', 1), ('Stone Music Entertainment', 1), ('영엔터테인먼트', 1), ('쇼파르뮤직', 1), ('JYP Entertainment', 1), ('TS엔터테인먼트', 1), ('넥스타엔터테인먼트', 1), ('브레이브 엔터테인먼트', 1), ('JTM엔터테인먼트', 1), ('B2M 엔터테인먼트', 1), ('SM Entertainment', 1), ('WH크레이티브, Universal Music', 1), ('리쌍컴퍼니, 웨이브나인', 1), ('안테나뮤직', 1), ('미인컴퍼니, 스윗소로우컴퍼니', 1), ('QUAN Entertainment, 매직스트로베리사운드', 1), ('OTHERSIDE', 1), ('스타제국', 1), ('트라이셀미디어', 1), ('JYP엔터테인먼트', 1), ('C9 ENTERTAINMENT', 1), ('QUAN Entertainment', 1), ('(주)RBW', 1), ('NH 미디어. 내가네트워크', 1)]\n",
            "[(2010, 23), (2011, 18), (2019, 11), (2012, 7), (2016, 4), (2017, 2), (2018, 2), (2001, 1), (2020, 1)]\n",
            "[('방시혁', 3), ('민명기', 2), ('조영수', 2), ('박진영', 2), ('한재호, 김승수', 2), ('정키', 2), ('낭이', 2), ('Andy Love,Daniel Mikael Wold,Ryan S. Jhun,Hanif Hitmanic Sabzevari', 2), ('EMPTY', 1), ('성환', 1), ('정지찬', 1), ('오성훈', 1), ('Steven Lee', 1), ('전국', 1), ('이종명, 정엽', 1), ('박근태', 1), ('홍진영', 1), ('신인수', 1), ('김세진, 서정진', 1), ('김도훈', 1), ('라이머', 1), ('최용찬', 1), ('윤종신', 1), ('윤일상', 1), ('김두현', 1), ('강지원, 김기범', 1), ('강은경', 1), ('용감한 형제, 별들의 전쟁 (GALACTIKA *)', 1), ('최민식', 1), ('신사동 호랭이', 1), ('용감한 형제', 1), ('김지수', 1), ('신사동 호랭이, 용준형', 1), ('길', 1), ('싸이 (PSY), 유건형', 1), ('정재형', 1), ('성진환', 1), ('권정열, 윤철종', 1), ('박형중', 1), ('버벌진트, 마스터키', 1), ('라도, 신사동 호랭이', 1), ('슈퍼 창따이', 1), ('조영수, 김태현', 1), ('김형석', 1), ('김병석', 1), ('이단옆차기', 1), ('캡틴시하', 1), ('유건형', 1), ('잔나비', 1), ('이현승', 1), ('화사 (Hwa Sa)', 1), ('유영현', 1), ('마크툽 (MAKTUB)', 1), ('엔플라잉 (N.Flying),UV,고진영', 1), ('뮤지,쿠데타,딘딘', 1), ('강균성 (노을),타스코', 1), ('뮤지,UV,유준성', 1), ('장지원,김형석', 1), ('이라온', 1), ('박성일', 1)]\n",
            "cluster 5\n",
            "1137\n",
            "[('댄스', 646), ('발라드', 281), ('랩/힙합', 82), ('발라드, 국내드라마', 26), ('J-POP', 20), ('R&B/Soul', 19), ('댄스, 국내드라마', 16), ('록/메탈', 15), ('발라드, 댄스', 15), ('국내드라마', 4), ('록/메탈, 국내드라마', 4), ('포크/블루스', 2), ('댄스, 애니메이션/웹툰, 키즈, 만화', 1), ('록/메탈, 애니메이션/웹툰, 키즈, 만화', 1), ('EMPTY', 1), ('댄스, 게임', 1), ('POP', 1), ('댄스, 애니메이션/웹툰', 1), ('발라드, 댄스, 국내드라마', 1)]\n",
            "[('샤크라', 65), ('DIA (다이아)', 65), ('WINNER', 64), ('소녀시대', 59), ('업텐션 (UP10TION)', 58), ('iKON', 56), ('멜로디데이 (MelodyDay)', 49), ('에이프릴 (APRIL)', 49), ('제이워크', 48), ('CLC', 48), ('샤이니', 46), ('JTL', 44), ('원더걸스', 44), ('카라', 44), ('파란', 43), ('소년공화국 (Boys Republic)', 42), ('아이유', 41), ('케이팝', 40), ('탑독', 39), ('스누퍼 (SNUPER)', 36), ('베리굿 (BerryGood)', 35), ('라붐 (LABOUM)', 35), ('티아라', 34), ('VAV', 32), ('더 블루', 9), ('베리굿 (Berry Good)', 3), ('아이유, 유승호', 1), ('B.A.P', 1), ('소녀시대-태티서', 1), ('아이유, 피에스타', 1), ('티아라,더 씨야,F-ve Dolls,스피드', 1), ('티아라,스피드,더 씨야,승희', 1), ('업텐션 (선율, 진후, 비토)', 1), ('소녀시대 (GIRLS` GENERATION)', 1), ('소녀시대-Oh!GG', 1)]\n",
            "[('YG 엔터테인먼트', 120), ('(주)SM엔터테인먼트', 90), ('MBK 엔터테인먼트', 67), ('키스 엔터테인먼트', 65), ('티오피 미디어', 59), ('로엔 엔터테인먼트, 뷰가 엔터테인먼트', 49), ('DSP 미디어', 49), ('주식회사 엘리야엔터테인먼트', 48), ('큐브 엔터테인먼트', 48), ('예전 미디어', 44), ('DSP미디어', 44), ('글로벌에이치미디어', 43), ('유니버설 뮤직. 해피트라이브 엔터테인먼트', 42), ('미래 엔터테인먼트', 40), ('후너스 엔터테인먼트', 39), ('아시아브릿지 엔터테인먼트', 38), ('위드메이', 36), ('(주)JYP엔터테인먼트', 35), ('NH 미디어. 내가네트워크', 35), ('MBK엔터테인먼트', 34), ('에이팀', 32), ('EDAM엔터테인먼트', 23), ('카카오 M', 20), ('SM Entertainment', 15), ('SM 엔터테인먼트', 9), ('JYP엔터테인먼트', 6), ('JYP Entertainment', 3), ('SM엔터테인먼트', 2), ('SM Entertatinment', 1), ('RBW', 1)]\n",
            "[(2017, 135), (2018, 131), (2016, 118), (2008, 86), (2015, 86), (2009, 69), (2007, 67), (2002, 64), (2019, 61), (2014, 48), (2001, 36), (2020, 31), (2010, 29), (2003, 27), (2000, 25), (2004, 24), (2012, 24), (2013, 24), (2011, 18), (2006, 14), (2005, 11), (1995, 9)]\n",
            "[('EMPTY', 56), ('SWEETUNE', 24), ('원준 (ONE JUNN),인광', 21), ('김승수', 18), ('안성일', 16), ('박진영', 16), ('원상우', 13), ('KENZIE', 13), ('이재원', 11), ('신상근', 9), ('김성태', 9), ('UCKU', 9), ('강승윤,AiRPLAY', 9), ('한상원', 8), ('LeeOn', 7), ('안영민', 7), ('강승윤,강욱진,Diggy', 7), ('김민종', 6), ('김세진', 6), ('오승은', 6), ('안성준', 6), ('유영진', 6), ('황성제', 6), ('조영수', 6), ('아이유', 6), ('e.one', 6), ('강욱진,B.I', 6), ('Mad Soul Child', 5), ('Alex Cantrall', 5), ('주태영', 5), ('B.I,MILLENNIUM', 5), ('Richard Anderson', 4), ('장우혁', 4), ('최수정', 4), ('김태성', 4), ('홍지상', 4), ('김진환', 4), ('한재호, 김승수', 4), ('이민수', 4), ('박근태,Anne Judith Wik,Ronny Svendsen,Nermin Harambasic,Martin Mulholland', 4), ('모니터펀치', 4), ('DEEZ,Yunsu', 4), ('강승윤,MINO (송민호),AiRPLAY', 4), ('노는어린이,ZigZag Note', 4), ('Ferdy (MosPick),예아나이스 (MosPick)', 4), ('김동열,Brand Newjiq (브랜뉴직),송양하', 4), ('신사동 호랭이,몬스터팩토리', 4), ('북극곰,신사동 호랭이', 4), ('B.I,FUTURE BOUNCE', 4), ('강욱진,남태현', 4), ('콰지모도', 4), ('이종훈', 4), ('Bekuh BOOM,B.I,FUTURE BOUNCE', 4), ('손지창', 3), ('이상민', 3), ('윤영준', 3), ('Justin Young', 3), ('이택승', 3), ('김진훈', 3), ('주영훈', 3), ('정진수', 3), ('이상규', 3), ('Ingrid Skretting', 3), ('김도훈 (RBW)', 3), ('박기완', 3), ('서정진', 3), ('TROELSEN, THOMAS', 3), ('RAINSTONE', 3), ('오준성', 3), ('최규성', 3), ('이트라이브', 3), ('신사동 호랭이, 최규성', 3), ('DEEZ', 3), ('이주형 (MonoTree),G-High (MonoTree)', 3), ('ZigZag Note', 3), ('강승윤,강욱진,MINO (송민호)', 3), ('정호현 (e.one),최현준 (V.O.S)', 3), ('승,B.I,MILLENNIUM', 3), ('MINO (송민호),FUTURE BOUNCE', 3), ('Ryan S. Jhun,Play-N-Skillz,Young An,YELLA D (옐라디)', 3), ('강욱진,Diggy,B.I', 3), ('JUSTIN ', 2), ('Henning Sommerro', 2), ('마경식', 2), ('방승철', 2), ('김성현', 2), ('MAGNUS FUNEMYR', 2), ('TABIAS KEGAELIND,  장우혁', 2), ('서운영', 2), ('이윤성', 2), ('MATT ZARLEY', 2), ('Minuki', 2), ('방시혁', 2), ('John Mitchell', 2), ('Heavyweights', 2), ('이윤재', 2), ('강우현', 2), ('박현중', 2), ('홍석', 2), ('Martin Kember', 2), ('Alejandro Sanz', 2), ('유영석', 2), ('이트라이브 (E-TRIBE)', 2), ('김기범', 2), ('한성호', 2), ('CAROL BORJAS', 2), ('이성수', 2), ('김승수, 송수윤, 한재호', 2), ('김짜르트', 2), ('Hitman Bang', 2), ('윤종신', 2), ('김태현, 조영수', 2), ('NORU (노루),김강훈', 2), ('이상준,차길완', 2), ('박근태,Anne Judith Wik,Ronny Svendsen,최진석,Nermin Harambasic,Martin Mulholland', 2), ('모니터펀치,DEEZ', 2), ('Kidoh', 2), ('텐조와 타스코,이단옆차기', 2), ('강욱진,iHwak,강승윤,DEE.P (FUTURE BOUNCE),함승천', 2), ('강욱진,함승천,iHwak', 2), ('A', 2), ('텐조와 타스코,이단옆차기,SEION', 2), ('서재우 (TENTEN),손영진 (MosPick),빅싼초 (Yummy Tone)', 2), ('김원', 2), ('창조,허성진', 2), ('태경,주태영', 2), ('B.I,로빈', 2), ('MachWave,이준엽', 2), ('4번타자', 2), ('강승윤,강욱진', 2), ('박우상', 2), ('Ferdy (MosPick)', 2), ('더 그랜드,주태영', 2), ('SEION', 2), ('콰지모도,한재준 a.k.a 타키', 2), ('예아나이스 (MosPick),손영진 (MosPick)', 2), ('서용배 (TENTEN),이기', 2), ('안영민,예빈 (다이아)', 2), ('마르코', 2), ('피터팬,똘아이박', 2), (' C-no, 웅킴),오레오 (이기', 2), ('용배 (RBW),이기', 2), ('Chloe,NODAY', 2), ('손영진 (MosPick),JayJay (MosPick)', 2), ('북극곰', 2), ('Ryan S. Jhun,Peter Tambakis,Denzil Remedios,Nermin Harambasic', 2), ('1601', 2), ('김희원', 2), ('새벽,Long Candy,영광의 얼굴들 (Full8loom),진리 (Full8loom),예빈 (다이아)', 2), ('기희현,제니,똘아이박,유니스,예빈 (다이아),피터팬', 2), ('제휘', 2), ('로얄 플러시', 2), ('Ryan S. Jhun,H.R.H. Aitatus-Richardson,조미쉘,A. Tejada,G.M.A. Casu', 2), ('강욱진,AiRPLAY,B.I', 2), ('이진실,박상준', 2), ('Ryan S. Jhun,Fredrik `Figge` Bostrom,Pontus Soderqvist,조미쉘', 2), ('강승윤,MINO (송민호),FUTURE BOUNCE', 2), ('진리 (Full8loom),양갱,영광의 얼굴들 (Full8loom)', 2), ('미친기집애,피터팬,똘아이박', 2), ('STAINBOYS', 2), ('Coach & Sendo', 2), ('TEDDY,B.I,CHOICE37', 2), ('Tablo,B.I', 2), ('구준회,KUSH (쿠시),B.I,CHOICE37', 2), ('태양,Lydia Paek,B.I,CHOICE37', 2), ('Ryan S. Jhun,G`harah `PK` Degeddingseze,Jarah Lafayette Gibson', 2), ('베르사최 (VERSACHOI),SUN', 2), ('강욱진,이승훈', 2), ('MAYFLY,zomay,real-fantasy,Bello,BIG HAND,오브로스', 2), ('Vo3e,김태성,Maxx Song,소연 (LABOUM)', 2), ('Joe Rhee,B.I,R.Tee', 2), ('낭이,신사동 호랭이,범이', 2), ('서원진,B.I,R.Tee', 2), ('Ryan S. Jhun,Pietro Lombardi,Georg Maier,Kenneth Gloeckler,Boris Fleck,Stard Ova', 2), ('배희경', 2), ('박영익', 2), ('김보선,타이비언,mOnSteR nO.9', 2), ('강승윤,강욱진,Joe Rhee,Diggy', 2), ('강욱진,MINO (송민호),Diggy', 2), ('MINO (송민호),R.Tee', 2), ('moonc,강명신', 2), ('김준환', 1), ('Jericco Castelli', 1), ('토니 안', 1), ('이근형', 1), ('장수원', 1), ('안성일,  정재환', 1), ('박충민', 1), ('류정수', 1), ('윤치웅', 1), ('김명직', 1), ('Uru', 1), ('정훈', 1), ('김정택', 1), ('Unknown', 1), ('M. Funemyr', 1), ('Johan Gunnarsson', 1), ('성준,  토니 안', 1), ('Michico', 1), ('이순정', 1), ('장용진', 1), ('김대현', 1), ('Ken Hirai', 1), ('신형', 1), ('이두헌', 1), ('정정민', 1), ('이희성', 1), ('김선민', 1), ('최정훈', 1), ('성현', 1), ('Chris W. Williams', 1), ('서동성', 1), ('김태우', 1), ('민웅식', 1), ('데니안', 1), ('Chrischan', 1), ('앤드', 1), ('빅뱅 (방승철)', 1), ('이병준', 1), ('김태현', 1), ('A. Wollbeck', 1), ('윤희성', 1), ('서의범', 1), ('류형섭', 1), ('권태은', 1), ('장준호', 1), ('Brian Kim', 1), ('M (이민우)', 1), ('Jan Lysdahl', 1), ('강타 (KANGTA)', 1), ('송재준', 1), ('Steve Lee', 1), ('박성일', 1), ('송봉조', 1), ('박소정', 1), ('성우석', 1), ('김진수', 1), ('한지선', 1), ('민켄', 1), ('SWIN', 1), ('Kenzie', 1), ('민영기', 1), ('심재건', 1), ('DAVINK (다빈크)', 1), ('김현서', 1), ('핫펠트 (HA:TFELT)', 1), ('이우석', 1), ('GABE LAPEZ', 1), ('이주형 (MonoTree)', 1), ('김보아', 1), ('NODAY', 1), ('James Read', 1), ('Young H. Kim', 1), ('이재명', 1), ('Ecobridge', 1), ('Joseph Belmaati', 1), ('Ronny Svendsen', 1), ('Joachim Svares', 1), ('Bloodshy & Avant', 1), ('Ryan Jhun', 1), ('박준하', 1), ('남기상', 1), ('라이머', 1), ('전창엽', 1), ('Hitchhiker', 1), ('황찬희', 1), ('Machan Taylor', 1), ('조영수, 김태현', 1), ('Kalle Engstrom, Michael Busbee, Alex James', 1), ('김희원, 신형', 1), ('유영진, Adam Kapit, Bebe Rexha, Ryan S.Jhun', 1), ('G. 고릴라', 1), ('강은경', 1), ('Lars Halvor Jensen', 1), ('김도훈', 1), ('최갑원, PEEJAY', 1), ('히치하이커', 1), ('윤상', 1), ('세인트바이너리', 1), ('Teddy Riley', 1), ('JEAN NA, JENZYE', 1), ('Martin Hansen, McCarthy, Sam, Sarah Lundback', 1), ('Billion Dollar Baby, 심은지, HEYERDAHI THOMAS, JAN HAVARD LINDVAAG', 1), ('정석원', 1), ('G.고릴라', 1), ('김형석', 1), ('Cri$tyle', 1), ('Thomas Troelsen, Rufio Sandilands, Rocky Morris, Thomas Eriksen', 1), ('강지원, 김기범', 1), ('Brandon Fraley, Jamelle Fraley, Javier Solis', 1), ('심은지', 1), ('박근태, 김도훈 (RBW)', 1), ('김명곤', 1), ('핫펠트 (HA:TFELT), 이우민 `collapsedone`', 1), ('핫펠트 (HA:TFELT), 이우민 `collapsedone`, Fredrik `Fredro` Odesjo', 1), ('Jerry Barnes, Katreese Barnes, Rodger Green, 김상미', 1), ('MR.CHO, 박은우', 1), ('김태영, 싸이져', 1), ('김승수, YUE', 1), ('남기상,미호', 1), ('민명기', 1), ('김광진,오승은', 1), ('이주호,이철원', 1), ('이단옆차기,조영수', 1), ('신재홍,수경', 1), ('우지훈,이부미', 1), ('오준성,오승은', 1), ('Daniel Caesar,Olof Lindskog,Ludwig Lindell,박근태', 1), ('Eirik Johansen,박근태,Jan Hallvard Larsen,Nermin Harambasic,Kei Lim,Martin Mulholland', 1), ('엽이,Xepy,연수', 1), ('Detune3,Kidoh', 1), ('올빼미,Roydo', 1), ('김동휘,Detune3,Kidoh,박수현', 1), ('박은우,한승훈', 1), ('박근철', 1), ('DEEZ,곤', 1), ('DEEZ,연수', 1), ('Xepy,연수', 1), ('Mage,박근태,최진', 1), ('모니터펀치,연수', 1), ('신재홍', 1), ('이주호,최희찬', 1), ('엄진,배영준,김지수', 1), ('PK,B.I', 1), ('MINO (송민호),TEDDY,CHOICE37', 1), ('강승윤,The Fliptones,MINO (송민호)', 1), ('iHwak,남태현,AiRPLAY', 1), ('강욱진,남태현,함승천', 1), ('남태현,AiRPLAY', 1), ('강승윤,DEE.P (FUTURE BOUNCE),MINO (송민호),The Fliptones', 1), ('박민주,Xepy', 1), ('Yunsu', 1), ('JYMON', 1), ('Ricky,HARANHN', 1), ('흑태', 1), ('이단옆차기,영광의 얼굴들 (Full8loom)', 1), ('Daniel Caesar,박근태,Ludwig Lindell,신사동 호랭이', 1), ('LE (2LSON),Brian Lee,신사동 호랭이', 1), ('이두영,원준 (ONE JUNN)', 1), ('안영민,오징징', 1), ('한재호,이창현,김승수,홍승현', 1), ('서재우 (TENTEN),Ferdy (MosPick)', 1), ('이단옆차기,양갱', 1), ('서재우 (TENTEN),서용배 (TENTEN)', 1), ('제아,송기홍', 1), ('김건우,송기홍', 1), ('Ferdy (MosPick),빅싼초 (Yummy Tone),Lee Brian D', 1), ('이단옆차기,SEION,영광의 얼굴들 (Full8loom)', 1), ('손영진 (MosPick)', 1), ('라디오갤럭시,이단옆차기,Homeboy', 1), ('Ryan S. Jhun,Denzil `DR` Remedios,Anne Judith Wik,Robin Jenssen,Ronny Svendsen,Kyosti Anton Salokorpi,Janne Huttunen,Nermin Harambasic', 1), ('스티 (STi),김건우,송기홍', 1), ('헬로굿보이,알고보니 혼수상태', 1), ('김지수,김정택', 1), ('AM,김성표 ,알고보니 혼수상태', 1), ('ButterFly', 1), ('MonoTree,이주형 (MonoTree),김유석 (MonoTree)', 1), ('송양하,김재현', 1), ('남기상,미호,권선익', 1), ('Ricky,하라는', 1), ('서기,신승익', 1), ('방누리,쿤요,노르웨이 숲', 1), ('Jarah Lafayette Gibson,DK,Mrey,Hyuk Shin (153/Joombas)', 1), ('MGMZ', 1), ('기희현,신사동 호랭이', 1), ('몬스터팩토리', 1), ('유종호,몬스터팩토리', 1), ('어퍼컷,에스킴', 1), ('빅톤,두리,양승욱', 1), ('Abi F Jones,Kanata Okajima,DWB', 1), ('Andreas Oberg,Maria Marcus,Emyli', 1), ('펀치사운드,DEEZ', 1), ('Chico Slimani,Danny Kirsch,DEEZ,Clinton Outten', 1), ('Kidoh,YANO,RWAM (뢈)', 1), ('YANO,DEEZ,Yunsu', 1), ('TEDDY,KUSH (쿠시)', 1), ('B.I,BOBBY,TEDDY,CHOICE37', 1), ('P.K (FUTURE BOUNCE),구준회,B.I', 1), ('B.I,KUSH (쿠시),CHOICE37', 1), ('강욱진,함승천,B.I,FUTURE BOUNCE', 1), ('CARLOS BATTEY,The Fliptones,STEVEN BATTEY,B.I', 1), ('Bluesun,용배 (RBW),이기', 1), ('김대운,박창현', 1), ('Daniel Kim,Pontus PJ Ljung,Dennis DeKo Kordnejad,Hanif Hitmanic Sabzevari', 1), ('박재민,창조,전상환', 1), ('SAM,YUB', 1), ('박아셀,이주형 (MonoTree),김유석 (MonoTree)', 1), ('DEE.P (FUTURE BOUNCE),G-DRAGON', 1), ('P.K (FUTURE BOUNCE),구준회,B.I,FUTURE BOUNCE', 1), ('VIP', 1), ('남태현,로빈', 1), ('강욱진,MINO (송민호)', 1), ('바닐라맨 (바닐라어쿠스틱)', 1), ('제인호,DOM,이현승', 1), ('최영경,GDLO (MonoTree),G-High (MonoTree)', 1), ('빅싼초 (Yummy Tone)', 1), ('Ferdy (MosPick),Adam Kulling,Alice Gernandt', 1), ('Ryan S. Jhun,Jarah Lafayette Gibson,Greg Bonnick,Kyle Coleman,August Rigo,Hayden Chapman', 1), ('DK,Deanfluenza,Hyuk Shin (153/Joombas),Beat&Keys', 1), ('박성진,김재웅,남기상,권선익,정규성', 1), ('GALAX,Maxx Song,MUSOH', 1), ('노는어린이,ZigZag Note,강명신', 1), ('DK,Jusen,Davey Nate,Hyuk Shin (153/Joombas),Beat&Keys', 1), ('Ryan,1Hz', 1), ('Daniel Kim,Steve Wu,박지연,Joonathan Kettunen', 1), ('박창현', 1), ('강민훈,프리미엄 프로젝트,코스믹 사운드', 1), ('박기현,남기상,권선익', 1), ('Mental Audio,주태영', 1), ('BEOMxNANG ,신사동 호랭이', 1), ('서의범,BPM,이상철', 1), ('Ferdy (MosPick),손영진 (MosPick),빅싼초 (Yummy Tone)', 1), ('KUSH (쿠시),CHOICE37', 1), ('기희현,안영민,예빈 (다이아)', 1), ('Andreas Oberg,Maria Marcus,Tahiti Lenoni,Johan Becker', 1), (' C-no, 웅킴),Onesta,오레오 (이기', 1), ('디젤 (DZELL),G-High (MonoTree),신아녜스', 1), ('전해성', 1), ('우혜림', 1), (' C-no, 웅킴),SWEETCH,오레오 (이기', 1), ('청담동박건우,김원', 1), ('RE:ONE ,Davey Nate,Mrey,Hyuk Shin (153/Joombas)', 1), ('야마아트,동네형,원영헌,ESBEE', 1), ('이상민,김지수,김준환,박영익', 1), ('주찬양 (티맥스),김태성,Command Freaks', 1), ('Super Bomb', 1), ('기희현,Shaun Kim,STAINBOYS', 1), ('Shaun Kim,STAINBOYS', 1), ('노는어린이,김남영,윤영민', 1), ('빅톤,낯선,이제이 쇼', 1), ('남기상,YUE,권선익', 1), ('심재용', 1), ('펀치사운드', 1), ('1MAD,Zaydro,RHeaT', 1), ('DEEZ,권덕근,Yunsu', 1), ('킨다 (KINDA)', 1), ('김연석,YANO', 1), ('Coach & Sendo,DEEZ', 1), ('Daniel Kim,원필 (DAY6),성진,Young K', 1), ('백승범,서동성', 1), ('Ryan S. Jhun,Keith Harris,Lance Tolbert,Zaydro,RHeaT,Lauren Evans,David Quinones', 1), ('서재하,김영성,케이던스', 1), ('정수민,하울,박근철', 1), ('HOLIDAY,Devine Channel', 1), ('Ferdy (MosPick),빅싼초 (Yummy Tone),Devine Channel', 1), ('Geoff Earley,Devine Channel,예아나이스 (MosPick),Geoffro Cause,손영진 (MosPick)', 1), ('Denzil Remedios,Ryan S. Jhun,Melanie Fontana,Bennett Armstrong,Justin T. Armstrong,Myah Marie,Ayak Thiik', 1), ('한경수,김창락 (CR Kim),Devil Cat,최한솔,조세희', 1), ('멜로디데이 (MelodyDay),JQ,임재신', 1), ('C-no', 1), ('하울,정수민,박근철', 1), ('어깨깡패,김영환', 1), ('하정호,고영환', 1), ('오혁', 1), ('별나라 언니', 1), ('Andreas Ohrn,Chris Wahle,가면라이더', 1), ('Traci Hale,Sidnie Tipton,Damon Sharpe', 1), ('유정 (LABOUM),SWIN LEE', 1), ('디아이 (D+I)', 1), ('기희현,제니,똘아이박,유니스,투챔프,예빈 (다이아),피터팬', 1), ('노는어린이,윤영민,기희현,김동하,제니,유니스', 1), ('기희현,정채연,제니,유니스,STAINBOYS,예빈 (다이아)', 1), ('노는어린이,예빈 (다이아),멜로디공작소', 1), ('미친기집애,기희현,제니,똘아이박,유니스,예빈 (다이아),피터팬', 1), ('기희현,제니,똘아이박,유니스,STAINBOYS,예빈 (다이아),피터팬', 1), ('샘김 (Sam Kim)', 1), ('선우정아', 1), ('김희갑,김정우,한재준 a.k.a 타키', 1), ('Dr.JO', 1), ('JYMON,UCKU', 1), ('SUN,윤영민', 1), ('RE:ONE ,Davey Nate,Hyuk Shin (153/Joombas)', 1), ('임소혁,박상준,유종운', 1), ('영광의 얼굴,이단옆차기,Long Candy', 1), ('구성철,dani,아르마딜로', 1), ('박해일 (Yummy Tone),빅싼초 (Yummy Tone)', 1), ('서재우 (TENTEN),Nikki Paige,빅싼초 (Yummy Tone),Nick Holiday', 1), ('추대관 (MonoTree),NOPARI (MonoTree)', 1), ('Torry K,Jerry.L,SWEETCH', 1), ('강승윤,Bekuh BOOM,FUTURE BOUNCE', 1), ('Louise Frick Sveen', 1), ('전영록,KAVE', 1), ('EastWest,이단옆차기,Long Candy', 1), ('노는어린이,멜로디공작소', 1), ('e.one,최현준 (V.O.S)', 1), ('신또,피터팬,똘아이박', 1), ('정호현 (e.one),최현준 (V.O.S),UCKU', 1), ('이주형 (MonoTree),권덕근', 1), ('이병우', 1), ('박광현', 1), ('이상은 (=Lee-tzsche)', 1), ('최성원', 1), ('이호준', 1), ('머쉬멜로우', 1), ('Dono S.Rodriguez,Rich Jang,낯선,이제이 쇼', 1), ('zomay,real-fantasy,오브로스', 1), ('김희원,오준성,김형성', 1), ('B.I,CHOICE37', 1), ('유건형,B.I,싸이 (PSY)', 1), ('강욱진,B.I,Diggy', 1), ('Ryan S. Jhun,ESBEE,Caracciolo', 1), ('강현진,Gabby,유송연', 1), ('Ferdy (MosPick),예아나이스 (MosPick),JayJay (MosPick)', 1), ('추대관 (MonoTree),NOPARI (MonoTree),재리포터 (YummyTONE)', 1), ('서재우 (TENTEN),예아나이스 (MosPick)', 1), ('예아나이스 (MosPick),JayJay (MosPick)', 1), ('MINO (송민호),B.I,MILLENNIUM', 1), ('정호현 (e.one)', 1), ('노는어린이,이빛나,윤영민', 1), ('남기상,Any Masingga,권선익', 1), ('999,주0,Jusen,Davey Nate,Hyuk Shin (153/Joombas),Jayrah Gibson', 1), ('Jeremy G (Future Sound),Daniel Kim,Sionz', 1), ('real-fantasy,YOSKE,Bull$EyE (불스아이)', 1), ('zomay,real-fantasy,Bello,오브로스', 1), ('RE:ONE ,Davey Nate,Delly Boi,Hyuk Shin (153/Joombas)', 1), ('Chris Meyer,Mans Ek,Hanif Hitmanic Sabzevari', 1), ('문 킴 (Moon Kim),정윤 (153/Joombas)', 1), ('Ryan', 1), ('MINO (송민호),MILLENNIUM', 1), ('강승윤,강욱진,MINO (송민호),Diggy', 1), ('강승윤,AiRPLAY,이승훈', 1), ('zomay,오브로스,Bello,5$', 1), ('zomay,오브로스,real-fantasy,MAYFLY', 1), ('zomay,오브로스,Bello,NANCY BOY', 1), ('제이미,LOOGONE', 1), ('Nuvocity', 1), ('BUM,No Identity (노 아이덴티티),DALO', 1), ('강욱진,B.I,godok', 1), ('달리,Wonderkid,신쿵', 1), ('루바토브 (Rubatov),이준환,김회건,피터팬', 1), ('박수석,Daniel Durn,Katrine `Neya` Klith,김태성,봉원석', 1), ('주은,Jerry.L', 1), ('HotSauce,예빈 (다이아)', 1), ('기희현,이준환,우키 (Wooki),피터팬', 1), ('빨간머리앤,mOnSteR nO.9,신형', 1), ('Andreas Oberg,T.A Shark,A Wright', 1), ('노지훈,Sync Project,WILLIUS', 1), ('타이비언,mOnSteR nO.9', 1), ('바크,타이비언', 1), ('고운 (베리굿),김예람,이준승', 1), ('라시드 (LASID),주태영', 1), ('라시드 (LASID),몽실AB', 1), ('배희경,몽실AB,더 그랜드', 1), ('JJ Evans (153/Joombas),배민수,Hyuk Shin (153/Joombas),$un', 1), ('김지수,박시춘,박영익', 1), ('VMP', 1), ('원준 (ONE JUNN),니화 (NiiHWA)', 1), ('정주희,DJ PLO,서지용', 1), ('zomay,오브로스,real-fantasy', 1), ('Tada Shinya,GRP', 1), ('moonc,ZigZag Note,강명신', 1), ('MHL,이예준,타이비언,Nuplay', 1), ('real-fantasy,Bull$EyE (불스아이),YOSKE', 1), ('이우민 `collapsedone`,Val Del Prete,FRANTS', 1), ('정수민,박근철', 1), ('김정삼,Command Freaks,DAY&NIGHT', 1), ('Vo3e,솔빈 (LABOUM)', 1), ('Jeremy G (Future Sound),Daniel Kim,Erik Wigelius', 1), ('박해일 (Yummy Tone),권필립,재리포터 (YummyTONE)', 1), ('Andy Love,Sven Parys,Gio Mici', 1), ('뉴찬스 (New Chance),에이나 (AYNA)', 1), ('칼리 (CALII),SUN', 1), ('비토,1Hz', 1), ('Ryan S. Jhun,Sonny J. Mason,Rico Love,Lonnie Burrell,Marcus Cooper', 1), ('타이비언,CHKmate', 1), ('소연 ((여자)아이들),쥰', 1), ('서재우 (TENTEN),BreadBeat (TENTEN),쥰', 1), ('최영경,추대관 (MonoTree),Simon Petren', 1), ('The Proof,김연서', 1), ('Anna Timgren,Fuxxy,Any Masingga,VINCENZO', 1), ('오자현,이정원', 1), ('room102,V!VE,신민정,신사동 호랭이', 1), ('김회건,기희현,이준환,루바토브 (Rubatov),피터팬', 1), ('주은,Flame,예빈 (다이아)', 1), ('Andy Love,Mans Ek,Ryan S. Jhun,Hanif Hitmanic Sabzevari', 1), ('세인트반 (St.Van),PUFF', 1), ('에이노,Gabby', 1), ('강승윤,MINO (송민호),AiRPLAY,FUTURE BOUNCE', 1), ('강승윤,AiRPLAY,전해성', 1), ('Ryan S. Jhun,조미쉘 (Singing Beetle),LDN Noise,Ylva Dimberg,Paulo Johnson', 1), ('T.A Shark,Melanie Fontana,A Wright', 1), ('강지원', 1), ('남기상,미호,방유선', 1), ('MosPick', 1), ('MAYFLY,CHKmate,zomay,Hide Vill,오브로스', 1), ('SEAN OH,태동,zomay,네버엔드 (NeverEnd),오브로스,J.Rod', 1), ('KYUM LYK(153/Joombas),Ryan,문 킴 (Moon Kim),EJO,Ovrlap', 1), ('Daniel Kim,RE:ONE ', 1), ('진후,정진우,롱드라이브 (Long Drive),Tip$y,MOON,RANDYACHTZ', 1), ('쥰,박해문', 1), ('Peter Wallevik,Mich Hansen,Daniel Davidsen,Phil Plested,Lauren Aquilina', 1), ('Secret Weapon,Maxx Song,빨간머리앤', 1), ('Unkwn code,유정 (LABOUM)', 1), ('서로,피오 (SWIN LEE),정구현', 1), ('제아,시하,타이비언', 1), ('PUFF,Inner child (MonoTree)', 1), ('The Proof,후이 (펜타곤)', 1), ('에이노,킨다 (KINDA)', 1), ('COUP D`ETAT,JUNIK,에이스 (ACE),MOOK', 1), ('강욱진,이승훈,Diggy', 1), ('강승윤,강욱진,HOYAS,Diggy', 1), ('GALAX,Unkwn code,Vo3e,MUSOH', 1), ('iHwak,HRDR,김동혁', 1), ('박진호', 1), ('P.K (FUTURE BOUNCE),B.I', 1), ('빨간머리앤,Justin Reinstein', 1), ('정호현 (e.one),Myo,우직', 1), ('김승백,이우현', 1), ('EL CAPITXN', 1), ('서동현,Noo,J.O,Klozer', 1), ('주은,유지은,So', 1), ('예빈 (다이아),이주헌,상훈입니다', 1), ('송재경', 1)]\n",
            "cluster 6\n",
            "208\n",
            "[('댄스', 107), ('발라드', 51), ('랩/힙합', 22), ('R&B/Soul', 9), ('발라드, 국내드라마', 7), ('록/메탈', 6), ('포크/블루스', 3), ('랩/힙합 ', 1), ('댄스, 국내드라마', 1), ('일렉트로니카', 1)]\n",
            "[('태사자', 5), ('언타이틀', 5), ('Hamohamo', 5), ('신화', 5), ('god', 5), ('코요태', 5), ('2PM', 5), ('민경훈', 5), ('김태우', 5), ('장재인', 5), ('걸스데이', 5), ('달샤벳', 5), ('2YOON (포미닛 투윤)', 5), ('제아파이브', 5), ('아이오아이 (I.O.I)', 5), ('Apink (에이핑크)', 5), ('하이라이트 (Highlight)', 5), ('러버소울 (Rubber Soul)', 5), ('선미', 5), ('아이돌', 4), ('젝스키스', 4), ('원타임', 4), ('Y2K', 4), ('엘프', 4), ('이승기', 4), ('슈프림팀', 4), ('서인영', 4), ('DJ DOC', 4), ('틴탑', 4), ('김보경', 4), ('백아연', 4), ('틴트', 4), ('Pro C (프로씨)', 4), ('크레용팝-딸기우유', 4), ('펀치 (Punch)', 4), ('IZ*ONE (아이즈원)', 4), ('나르샤', 3), ('보아', 3), ('백지영', 3), ('박재범', 3), ('에일리', 3), ('가인', 3), ('수지 (SUZY)', 3), ('에디킴', 3), ('ITZY (있지)', 3), ('서인국', 2), ('수지', 2), ('B1A4', 2), ('가인, 조권', 1), ('조권', 1), ('박재범, 용감한 형제', 1), ('슈프림팀, 영준', 1), ('보이프렌드', 1), ('서인국, 정은지', 1), ('정은지, 서인국', 1), ('크레용팝,비에이 (Be.A),단발머리,짠짠', 1), ('B1A4,서은광 (비투비),이창섭,허영지 (카라),A-JAX,에이프릴 (APRIL),오마이걸 (OH MY GIRL)', 1), ('보아 (BoA)', 1), ('정은지', 1), ('B1A4,오마이걸 (OH MY GIRL),온앤오프 (ONF)', 1)]\n",
            "[('스타제국', 9), ('YMC엔터테인먼트', 8), ('에이팝엔터테인먼트', 6), ('(주)JYP엔터테인먼트', 6), ('플레이엠 엔터테인먼트', 6), ('매스컴', 5), ('레오뮤직', 5), ('뮤직 팩토리', 5), ('DSP 미디어', 5), ('싸이더스HQ', 5), ('JYP Entertainment', 5), ('아이에스엔터미디어그룹', 5), ('소울샵엔터테인먼트', 5), ('JYP엔터테인먼트', 5), ('드림티 엔터테인먼트', 5), ('큐브 엔터테인먼트', 5), ('어라운드어스이엔티', 5), ('해피트라이브 엔터테인먼트. 위드에이치씨', 5), ('(주)메이크어스엔터테인먼트', 5), ('DSP미디어', 4), ('신화컴퍼니', 4), ('조선음향', 4), ('STN 엔터테인먼트', 4), ('후크엔터테인먼트', 4), ('아메바컬쳐', 4), ('쇼글로브', 4), ('티오피미디어', 4), ('Sony Music', 4), ('GH 엔터테인먼트', 4), ('지앤아이 엔터테인먼트', 4), ('크롬엔터테인먼트', 4), ('냠냠엔터테인먼트', 4), ('오프더레코드', 4), ('YG엔터테인먼트', 3), ('KYT엔터테인먼트', 3), ('SM엔터테인먼트', 3), ('에이오엠지', 3), ('트라이어스', 3), ('해피페이스 엔터테인먼트', 3), ('키위뮤직', 3), ('미스틱89', 3), ('피케이 미디어', 2), ('젤리피쉬엔터테인먼트', 2), ('뉴에라프로젝트', 2), ('해피페이스엔터테인먼트', 2), ('젤리피쉬엔터테인먼트, 플레이엠 엔터테인먼트', 2), ('이든엔터테인먼트', 2), (' YG엔터테인먼트', 1), ('내가 네트워크', 1), ('아메바컬쳐, 인넥스트트렌드', 1), ('스타쉽 엔터테인먼트', 1), ('아이에이치큐', 1), ('WM엔터테인먼트', 1), ('신화컴퍼니 (SHINHWA COMPANY)', 1), ('WM Entertainment', 1), ('크롬 엔터테인먼트', 1), ('(주)SM엔터테인먼트', 1), ('WM 엔터테인먼트', 1)]\n",
            "[(2010, 38), (2011, 24), (2012, 22), (1999, 20), (2017, 17), (2016, 15), (2013, 14), (1996, 11), (2019, 9), (1998, 8), (2014, 8), (2018, 8), (1997, 4), (2004, 4), (2020, 4), (2009, 1), (2015, 1)]\n",
            "[(nan, 11), ('박진영', 8), ('박근태', 6), ('용감한 형제', 6), ('유건형', 5), ('Good Life', 5), ('전준규', 4), ('페리', 3), ('방시혁', 3), ('이현승', 3), ('장재인', 3), ('전군', 3), ('최준영', 2), ('최성빈', 2), ('윤일상', 2), ('김도훈', 2), ('주영훈', 2), ('김건우', 2), ('이트라이브', 2), ('이트라이브 (E-TRIBE)', 2), ('진영', 2), ('서재우 (TENTEN),서용배 (TENTEN),이상호', 2), ('남기상,DAX,권선익', 2), ('라디오갤럭시', 2), ('김원', 2), ('미친기집애,피터팬,똘아이박', 2), ('최천곤,은종태', 2), ('Long Candy', 2), ('아르마딜로', 2), ('최초아,김예슬,이상열,고영환', 2), ('FRANTS', 2), ('MosPick', 2), ('김승수', 2), ('안정훈', 1), ('신피디', 1), ('장용진', 1), ('박재완', 1), ('이윤상', 1), ('마경식', 1), ('Q, 원타임', 1), ('이철원', 1), ('임기훈', 1), ('조우진', 1), ('김진권', 1), ('조성진', 1), ('유건영', 1), ('이민수, 제아', 1), ('Tommy Park', 1), ('조영수', 1), ('황성제', 1), ('개코, 프라이머리, 장재원', 1), ('개코, 프라이머리', 1), ('이재혁', 1), ('박선주 (Pak Sun Zoo)', 1), ('김세진', 1), ('심은지, 조권', 1), ('East4A', 1), ('SLINES, 라디', 1), ('유건형, 싸이 (PSY)', 1), ('PEEJAY, DJ Murf', 1), ('이하늘, PEEJAY', 1), ('Jos Jorgensen, Anne Judith Wik, Martin Hansen, Erik Lidborn, ANDREW NICHOLAS', 1), ('히치하이커', 1), ('황세준, 김도훈, PJ', 1), ('이영훈', 1), ('안영민', 1), ('Annet Artani, Ryan Jhun, C-2', 1), ('전해성', 1), ('Pal Waaktaar', 1), ('싸이, 김도현', 1), ('휘성, Redd Stylez', 1), ('프라이머리', 1), ('박원빈', 1), ('김태성, 장연정', 1), ('김희원', 1), ('강전명, 남기상, 박건호', 1), ('개미, 문규혁', 1), ('Joey Carbone', 1), ('송양하', 1), ('박근철, 이상열', 1), ('이트라이브, 장준호', 1), ('표창훈', 1), ('김형석', 1), ('Da Beatfreakz, 박재범', 1), ('이기, 서용배, 휘성', 1), ('Andrew Jackson, Gandalf Roudette, Joshua Thompson', 1), ('강지원, 김기범', 1), ('한승훈', 1), ('용감한 형제, 코끼리 왕국', 1), ('보아', 1), ('김한범', 1), ('슈퍼창따이', 1), ('이민수', 1), ('김도훈, 이현승', 1), ('박근태, Tommy Park', 1), ('김도현', 1), ('박은혜, 박영민, 이래언', 1), ('Mich Hansen,김진환,Thomas Troelsen,Robert S Nevil ,Mikkel Remee Sigvardt,Keeley Hawkes', 1), ('전지윤 (JENYER),박수석,임상혁', 1), ('Lars Aass,Claudia Mills,김태호,Ole Henrik Antonsen', 1), ('차쿤,별들의 전쟁 (GALACTIKA *),미쓰리', 1), ('용감한 형제,별들의 전쟁 (GALACTIKA *)', 1), ('김창락 (CR Kim),Kei Lim,Polar Monkeys', 1), ('북극곰,라도', 1), ('노는어린이,황금두현,레온', 1), ('똘아이박,신또,피터팬,미친기집애', 1), ('웨이 (크레용팝)', 1), ('은종태', 1), ('이강,구름', 1), ('진바이진', 1), ('Postino', 1), ('그루비룸 (GroovyRoom)', 1), ('Ryan S. Jhun', 1), ('바울', 1), ('이한길,이태열', 1), ('Johan Gustafson', 1), ('Melanie Fontana', 1), ('블랙아이드 필승', 1), ('Hoody (후디)', 1), ('이창민', 1), ('야마아트', 1), ('Alicia Stamkos', 1), ('심은지', 1), ('최초아,김예슬,고영환,박글라라,이상열', 1), ('BEOMxNANG', 1), ('Mad Soul Child,러버소울 (Rubber Soul)', 1), ('Joe Rhee', 1), ('윤비 (YunB),14o2,Mad Soul Child,러버소울 (Rubber Soul)', 1), ('로코베리', 1), ('24', 1), ('최인환', 1), ('황현 (MonoTree)', 1), ('아테나 (GALACTIKA *)', 1), ('EL CAPITXN', 1), ('Lauren Dyson', 1), ('이승주', 1), ('박강일', 1), ('음유시인', 1), ('우빈 (GALACTIKA *)', 1)]\n",
            "cluster 7\n",
            "288\n",
            "[('댄스', 127), ('발라드', 59), ('R&B/Soul', 33), ('랩/힙합', 30), ('록/메탈', 14), ('POP', 13), ('댄스, R&B/Soul', 5), ('발라드, 국내드라마', 4), ('발라드, 댄스', 1), ('발라드, 국내영화', 1), ('댄스, 랩/힙합', 1)]\n",
            "[('솔리드', 14), ('터보', 14), ('밀크', 14), ('헤이즈 (Heize)', 14), ('노이즈', 13), ('듀스', 13), ('신비', 13), ('모닝', 13), ('제이엔씨', 13), ('스매쉬 ', 13), ('매드타운 (MADTOWN)', 13), ('룰라', 12), ('스위티', 12), ('데자부', 12), ('스맥스', 12), ('에스', 12), ('유키스', 12), ('2AM', 12), ('JJCC (제이제이씨씨)', 12), ('핫샷 (HOTSHOT)', 12), ('오렌지', 11), ('레인보우', 8), ('레인보우 블랙', 4), ('오렌지 캬라멜', 3), ('L.A.U', 3), ('태연 (TAEYEON)', 2), ('HIGH4 (하이포),Lim Kim', 1), ('EXO', 1)]\n",
            "[(nan, 25), ('(주)SM엔터테인먼트', 15), ('비앤비', 14), ('더 터보 컴퍼니', 14), ('SM엔터테인먼트', 14), ('Stone Music Entertainment, Studio blu', 14), ('라인 기획', 13), ('예당 음향 (예당 컴퍼니)', 13), ('SM 엔터테인먼트', 13), ('키스엔터테인먼트', 13), ('EMPTY', 13), ('지앤아이 엔터테인먼트', 13), ('서울인 프로덕션', 12), ('YG 엔터테인먼트', 12), ('시즌 엔터테인먼트', 12), ('더 잭키 찬 그룹 코리아', 12), ('케이오사운드/아더앤에이블/스타크루이엔티', 12), ('오렌지엔터테인먼트', 11), ('(주)앤에이취이엠쥐', 9), ('DSP미디어', 8), ('JYP Entertainment', 6), ('JYP 엔터테인먼트 & 빅히트 엔터테인먼트', 4), ('DSP 미디어', 4), ('NH EMG', 3), ('플레디스', 3), ('팬 엔터테인먼트', 3), ('빅히트엔터테인먼트 & JYP Entertainment', 1), ('JYP엔터테인먼트', 1), ('N.A.P. 엔터테인먼트', 1)]\n",
            "[(2002, 38), (2003, 37), (2004, 25), (1995, 23), (1996, 17), (2015, 17), (2008, 14), (2010, 14), (2014, 14), (2001, 12), (2009, 11), (2018, 11), (1997, 9), (2017, 9), (2016, 7), (2019, 5), (1994, 4), (2011, 4), (1993, 3), (1998, 3), (1999, 3), (2012, 3), (1992, 2), (2000, 1), (2005, 1), (2020, 1)]\n",
            "[('EMPTY', 89), ('이현도', 14), ('김창환', 9), ('다비 (DAVII)', 7), ('용감한 형제', 6), ('방시혁', 6), ('김혜선', 5), ('주영훈', 5), ('윤일상', 5), ('최준영', 4), ('페리 ', 4), ('텐조와 타스코,이단옆차기', 4), ('라디오갤럭시,이단옆차기', 4), ('박근태', 3), ('김성훈', 3), ('안성준', 3), ('이택승', 3), ('김세진', 3), ('홍종구', 2), ('천성일', 2), ('The Season', 2), (nan, 2), ('송백경', 2), ('이상인', 2), ('박해운', 2), ('오종혁', 2), ('한재호, 김승수', 2), ('청담슈퍼', 2), ('앤드류 최,220,Cha Cha Malone', 2), ('이승주', 2), ('이정은', 1), ('김혜선, 이준', 1), ('외국 곡', 1), ('김수현', 1), ('이건우', 1), ('최승호', 1), ('안정훈', 1), ('유정연', 1), ('이상민', 1), ('박선만', 1), ('원태연', 1), ('우은증', 1), ('다이안 ', 1), ('신인수', 1), ('리로이 브라운', 1), ('박창현', 1), ('이성제', 1), ('박성일', 1), ('정성헌', 1), ('마경식', 1), ('이상준', 1), ('서동성', 1), ('송광식', 1), ('하현곤', 1), ('서정진', 1), ('강타 (KANGTA)', 1), ('프로페지웅', 1), ('별들의 전쟁 (GALACTIKA *)', 1), ('오성훈', 1), ('아티스타 한상원', 1), ('허윤원', 1), ('송수윤', 1), ('이주형 (MonoTree)', 1), ('슈퍼창따이', 1), ('방시혁, Pdogg', 1), ('Pdogg, MISS KAY', 1), ('조영수', 1), ('Jorgen Ringqvist, Daniel Barkman', 1), ('Fukuyama Masaharu', 1), ('Mordny', 1), ('Blacc Hole, Daishi Dance', 1), ('김도훈', 1), ('이상호, 최용찬', 1), ('이기, 서용배', 1), ('East4A,윤상', 1), ('에이팀', 1), ('Boy Ski Mask,MUSOH,Lisa Desmond', 1), ('김진권', 1), ('이키 (iki),유타,최준영', 1), ('이종훈,PJ', 1), ('Deanfluenza,Jordan Kyle', 1), ('반형문,AK47', 1), ('DK,2xxx!,Jarah Lafayette Gibson,M Rey,Hyuk Shin (153/Joombas)', 1), ('이단옆차기,Homeboy', 1), ('서정환', 1), ('Deanfluenza,2xxx!', 1), ('Stally,D.major', 1), ('현일,D.major', 1), ('텐조와 타스코,이봉조', 1), ('DK,Jarah Lafayette Gibson,Hyuk Shin (153/Joombas),Beat&Keys', 1), ('Casper,Ryan Kim,Cha Cha Malone', 1), ('Victoria Hansen,이진원,Sebastian Teiger AKA Cousheron,Wonyoung Lee,Albi Albertsson', 1), ('텐조와 타스코,Long Candy,Homeboy', 1), ('리시,ESBEE', 1), ('브라더수', 1), ('비록 (B-Rock),J-Lin', 1), ('윌리', 1), ('New Day,앤소울', 1), ('GOLDPIG (골드피그),디젤 (DZELL)', 1), ('심재환,민경진', 1), ('박상희', 1), ('초이 (CHOI),박슬기 (153/Joombas)', 1), ('Felicia Barton', 1), ('그루비룸 (GroovyRoom)', 1), ('초이 (CHOI),박슬기 (153/Joombas),임광균', 1), ('Devine Channel', 1), ('헨리 (HENRY)', 1), ('오민', 1), ('서정임', 1), ('Casper,이진원,Cha Cha Malone', 1), ('최준혁,VENDORS', 1), ('Rykeyz,Jonny Price,Brett McLaughlin,Lucky Daye', 1), ('조미쉘,Steve Diamond,Naitumela Masuku,G`harah `PK` Degeddingseze,Victor Portillo,Jayrah Gibson', 1), ('조미쉘,Marcus Elkjer,Frans Walfridsson,Alexander Laitila,Sebastian Owens', 1), ('EL CAPITXN', 1), ('623', 1), ('Robert Gerongco', 1)]\n",
            "cluster 8\n",
            "38\n",
            "[('댄스', 12), ('랩/힙합', 4), ('발라드', 4), ('R&B/Soul', 3), ('국내드라마', 2), ('인디음악, 록/메탈', 2), ('록/메탈', 2), ('발라드, 국내드라마', 2), ('록/메탈, 국내드라마', 2), ('댄스, 국내드라마', 1), ('인디음악, 포크/블루스', 1), ('성인가요', 1), ('인디음악, 일렉트로니카', 1), ('POP', 1)]\n",
            "[('프라이머리', 1), ('조pd (ZoPD),탑독', 1), ('로꼬,마마무 (Mamamoo)', 1), ('기리보이,매드클라운,주영,몬스타엑스', 1), ('그냥노창,정기고,BILL STAX (빌스택스),몬스타엑스', 1), ('혜정,비아이지 (B.I.G)', 1), ('옥탑방 작업실,매드타운 (MADTOWN),Wa$$up ', 1), ('윤종신,세븐틴', 1), ('지민 (AOA)', 1), ('소녀온탑', 1), ('7 go up', 1), ('Pinkrush', 1), ('스탠딩 에그', 1), ('문문 (MoonMoon)', 1), ('김희철', 1), ('Lasse Lindh', 1), ('정준일', 1), ('두번째달,레이디스 코드', 1), ('김연자,다이아,홍진영', 1), ('혁오 (HYUKOH)', 1), ('SURAN (수란)', 1), ('국민의 아들', 1), ('슬레이트', 1), ('Knock', 1), ('뉴이스트 W', 1), ('포켓걸스', 1), ('BIGBANG', 1), ('숀 (SHAUN)', 1), ('승리', 1), ('하진 (HAJIN)', 1), ('Ellie Goulding,Diplo,Red Velvet (레드벨벳)', 1), ('전소미', 1), ('디오 (D.O.)', 1), ('거미', 1), ('X1 (엑스원)', 1), ('가호 (Gaho)', 1), ('수호 (SUHO)', 1), ('이은미,비지 (Bizzy),산들,제아,유아 (오마이걸),오연준,알리 (ALi)', 1)]\n",
            "[('Stone Music Entertainment', 6), ('(주)SM엔터테인먼트', 3), ('스타쉽 엔터테인먼트', 2), ('플레디스 엔터테인먼트', 2), ('(주)YG엔터테인먼트', 2), ('아메바컬쳐', 1), ('후너스 엔터테인먼트', 1), ('RBW', 1), ('GH 엔터테인먼트', 1), ('지앤아이 엔터테인먼트', 1), ('FNC엔터테인먼트', 1), ('본엔터테인먼트', 1), (' ', 1), ('칠리뮤직코리아', 1), ('엠와이뮤직', 1), ('일광폴라리스 엔터테인먼트', 1), ('MBK 엔터테인먼트', 1), ('(주)두루두루아티스트컴퍼니', 1), ('밀리언마켓', 1), ('미스디카', 1), ('DCTOM Entertainment', 1), ('제이티비씨콘텐트허브(주)', 1), ('SM 엔터테인먼트', 1), ('THE BLACK LABEL', 1), ('씨제스엔터테인먼트', 1), ('스윙 엔터테인먼트', 1), ('인넥스트트렌드', 1), ('NH 미디어. 내가네트워크', 1)]\n",
            "[(2016, 10), (2017, 10), (2019, 5), (2018, 4), (2015, 3), (2020, 3), (2014, 2), (2012, 1)]\n",
            "[('Ryan S. Jhun', 2), ('프라이머리', 1), ('박민주,Xepy', 1), ('소년비행', 1), ('기리보이,죠지,Jetti,주영,Thrxdy', 1), ('그냥노창', 1), ('윤서,LeNny,혜정', 1), ('를 (LEL),BOYTOY', 1), ('Postino,윤종신,이근호', 1), ('Jordan Fisher', 1), ('진영', 1), ('Egg3', 1), ('문문 (MoonMoon)', 1), ('차길완', 1), ('김희진', 1), ('박진호', 1), ('두번째달', 1), ('79,정채연,예빈 (다이아),유니스', 1), ('카더가든', 1), ('준 (JUNE)', 1), ('Flow Blow', 1), ('키겐', 1), ('Devine Channel', 1), ('Royal Dive', 1), ('단디', 1), ('The Fliptones', 1), ('숀 (SHAUN)', 1), ('승리', 1), ('최정인', 1), ('Moonshine,Cazzi Opeia,Ellen Berg Tollbom', 1), ('전소미', 1), ('Terence Lam', 1), ('로코베리', 1), ('Onestar (MonoTree)', 1), ('박성일', 1), ('NODAY', 1), ('김민기,김형석', 1)]\n",
            "cluster 9\n",
            "1390\n",
            "[('댄스', 509), ('랩/힙합', 319), ('발라드', 218), ('J-POP', 167), ('R&B/Soul', 69), ('댄스, 랩/힙합', 30), ('POP', 20), ('발라드, 국내드라마', 15), ('댄스, 국내드라마', 8), ('록/메탈', 5), ('랩/힙합, 국내드라마', 4), ('게임', 4), ('국내드라마', 3), ('EMPTY', 3), ('댄스, 국내영화', 3), ('일렉트로니카', 3), ('발라드, 록/메탈', 2), ('댄스, 게임', 2), ('재즈, 애시드/퓨전/팝', 2), ('발라드, 국내영화', 1), ('R&B/Soul, 국내드라마', 1), ('댄스, 애니메이션/웹툰, 키즈, 만화', 1), ('발라드, 댄스', 1)]\n",
            "[('방탄소년단', 249), ('동방신기', 196), ('TWICE (트와이스)', 164), ('몬스타엑스', 147), ('슈퍼주니어', 143), ('빅뱅', 133), ('Red Velvet (레드벨벳)', 128), ('마마무 (Mamamoo)', 126), ('세븐틴', 88), ('에프티 아일랜드', 6), ('빅뱅, 트랜스 픽션', 1), ('마마무 (Mamamoo),범키', 1), ('마마무 (Mamamoo),긱스 (Geeks)', 1), ('마마무 (Mamamoo),에스나 (eSNa)', 1), ('GOT7 (갓세븐)', 1), ('방탄소년단,Charli XCX', 1), ('몬스타엑스,French Montana', 1), ('방탄소년단,Zara Larsson', 1), ('방탄소년단,Juice WRLD', 1), ('몬스타엑스,Sebastian Yatra', 1)]\n",
            "[('(주)SM엔터테인먼트', 333), ('빅히트 엔터테인먼트', 252), ('JYP 엔터테인먼트', 165), ('스타쉽 엔터테인먼트', 148), ('RBW', 129), ('SM 엔터테인먼트', 128), ('(주)YG엔터테인먼트', 114), ('플레디스 엔터테인먼트', 88), ('YG Entertainment', 11), ('YG엔터테인먼트', 9), ('FNC엔터테인먼트', 6), ('SM Entertainment', 4), ('SM엔터테인먼트', 2), (',안성현 (펀치사운드),원호 (WONHO),신기현 (펀치사운드)', 1)]\n",
            "[(2019, 198), (2018, 192), (2017, 163), (2016, 148), (2015, 102), (2006, 97), (2009, 93), (2008, 92), (2007, 84), (2020, 54), (2005, 44), (2004, 43), (2014, 42), (2012, 13), (2013, 12), (2011, 10), (2010, 3)]\n",
            "[('EMPTY', 105), ('유영진', 32), ('Kenzie', 21), ('페리 ', 19), ('G-DRAGON', 19), ('박우상', 19), ('용감한 형제', 16), ('박우상,김도훈 (RBW)', 15), ('BYMORE,OUOW,키겐', 15), ('Pdogg,Slow Rabbit,정국,진', 14), ('WOOZI (SEVENTEEN),박기태,BUMZU', 12), ('박창현', 11), ('코스믹 걸 (Cosmic Girl),코스믹 사운드', 11), ('Andy Love,Daniel Mikael Wold,Ryan S. Jhun,Hanif Hitmanic Sabzevari', 11), ('브라더수,SUGA,방시혁,RM,Pdogg,Slow Rabbit,j-hope', 10), ('Mayu Wakisaka,이우민 `collapsedone`', 10), ('KENZIE', 8), ('KUSH (쿠시)', 8), ('WOOZI (SEVENTEEN),동네형,원영헌', 8), ('SUGA,RM,Pdogg,j-hope,ADORA', 8), ('Adrian Mckinnon,GASHIMA,Albin Nordqvist', 8), ('TEDDY', 7), ('Pdogg,SUGA,j-hope,RM', 7), ('방시혁,Slow Rabbit,브라더수', 7), ('WOOZI (SEVENTEEN),BUMZU', 7), ('주헌 (몬스타엑스),Ye-Yo!', 7), ('SUGA,Supreme Boi,방시혁,RM,Pdogg,j-hope', 7), ('Daniel Pandher', 6), ('이윤재', 6), ('이재명', 6), ('G-DRAGON, T.O.P', 6), ('에스나 (eSNa),김도훈 (RBW)', 6), ('블랙아이드 필승,라도', 6), ('SUGA,Kass,방시혁,Supreme Boi,RM,Pdogg', 6), ('Moonshine,Cazzi Opeia,Ellen Berg Tollbom', 6), ('SUGA,Supreme Boi,RM,Pdogg,Roman Campolo,j-hope', 6), ('외국곡', 5), ('황성제', 5), ('전승우', 5), ('Daishi Dance', 5), ('Philippe-Marc Anquetil', 5), ('SUGA,Supreme Boi,RM,Pdogg,j-hope', 5), ('김도훈 (RBW)', 5), ('BUMZU', 5), ('WOOZI (SEVENTEEN),BUMZU,Anchor', 5), ('Yu-ki Kokubo,YHANAEL,NA.ZU.NA', 5), ('Rosanna Ener,Jake Torrey,Changkyun Lim,주헌 (몬스타엑스),기현 (몬스타엑스),Noah Conrad,민혁 (몬스타엑스),Dan Henig,Karim Kharbouch,형원 (몬스타엑스),Hoseok Shin,Hyunwoo Sohn', 5), ('ISRAEL DWAINE CRUZ', 4), ('이규원', 4), ('큐베이스 J', 4), ('유재하', 4), ('Lucas Secon', 4), ('유영석', 4), ('이트라이브 (E-TRIBE)', 4), ('김도훈 (RBW),이현승', 4), ('황현 (MonoTree)', 4), ('김도훈 (RBW),SUGA,방시혁,RM,Pdogg,j-hope', 4), ('Peter Ibsen,SUGA,방시혁,Arlissa Ruppert,RM,Pdogg,ADORA', 4), ('Supreme Boi,방시혁,RM,Pdogg,j-hope', 4), ('Pdogg,방시혁,Supreme Boi', 4), ('전군,블랙아이드 필승,라도', 4), ('나고,주헌 (몬스타엑스),Ye-Yo!', 4), ('Ronnie Icon,Rajan Muse,Jan Baars', 4), ('유한진', 3), ('MIKAEL ANDERSSON BERG', 3), ('김영후', 3), ('Derek Bramble', 3), ('YOUNG H.KIM', 3), ('이근호', 3), ('Daisuke Suzuki (鈴木大輔)', 3), ('한성호', 3), ('Perry', 3), ('G-DRAGON, TEDDY', 3), ('Pdogg', 3), ('Supreme Boi,SUGA,j-hope,RM', 3), ('Slow Rabbit,SUGA', 3), ('펀치사운드', 3), ('WOOZI (SEVENTEEN),동네형,민식이,원영헌', 3), ('Albi Albertsson,Markus Lindell,Belle Humble', 3), ('박우상,김도훈 (RBW),MGR(RBW)', 3), ('Sara Forsberg,Otha `Vakseen` Davis III,MZMC,The Colleagues,Leven Kali,Jamil `Digi` Chammas,Tay Jasper,Harrison Johnson,Karl Powell', 3), ('준 (JUNE),Supreme Boi,방시혁,RM,Pdogg,ADORA', 3), ('아테나 (GALACTIKA *),별들의 전쟁 (GALACTIKA *)', 3), ('원호 (WONHO),JJB', 3), ('박진영,김승수,아르마딜로,KAIROS', 3), ('WOOZI (SEVENTEEN),BUMZU,호시 (SEVENTEEN)', 3), ('JJ Evans (153/Joombas),Flow Blow,Hyuk Shin (153/Joombas)', 3), ('Andrew Taggart,SUGA,방시혁,Ray Michael Djan Jr,RM,Pdogg,j-hope,ADORA,Ashton Foster,Sam Klempner', 3), ('David Amber,Sean Alexander,Avenue 52', 3), ('Yu-ki Kokubo,NA.ZU.NA', 3), ('Louise Frick Sveen,Atsushi Shimada,Albin Nordqvist', 3), ('SUGA,Supreme Boi,방시혁,진보,RM,Pdogg', 3), ('Anchor,BUMZU', 3), ('WOOZI (SEVENTEEN),BUMZU,붐바스틱', 3), ('Supreme Boi,방시혁,Ali Tamposi,RM,Pdogg,Roman Campolo', 3), ('최현준 (V.O.S),김승수', 3), ('Stereo14,Daniel Kim,Ti', 3), ('9F,주헌 (몬스타엑스)', 3), ('Andy Love,David Amber', 3), ('Sara Forsberg,Timothy `Bos` Bullock,MZMC,KENZIE', 3), ('Halsey,Melanie Fontana,Michel “Lindgren” Schulz,Emily Weisband,SUGA,방시혁,RM,Pdogg,j-hope', 3), ('Benjy Gibson,SUGA,Jo Hill,RM,Fred Gibson,j-hope,Ed Sheeran', 3), ('Marcus McCoan,Camilla Anne Stewart,방시혁,Owen Roberts,Max Lynedoch Graham,RM,j-hope,Matty Thomson', 3), ('Caesar & Loui,Ollipop,Hayley Aitken,Olof Lindskog,Daniel Caesar,Ludwig Lindell', 3), ('이우민 `collapsedone`,Val Del Prete,Eric Sanicola', 3), ('Andreas Oberg,Allison Kaplan,Christoffer Lauridsen', 3), ('Michel “Lindgren” Schulz,Antonina Armato,Julia Ross,Melanie Joy Fontana,Krysta Youngs,SUGA,August Rigo,RM,Pdogg,j-hope', 3), ('Young-Hu Kim', 2), ('Groovie. K', 2), ('이상인', 2), ('Chang-Hyun Park', 2), ('김광진', 2), ('MARK LISTER', 2), ('김태성', 2), ('Svein Finneids', 2), ('G-DRAGON,  김도현', 2), ('Phillip White', 2), ('Jos Jorgensen', 2), ('장용진', 2), ('GROOVIE K, 박준하', 2), ('김조한', 2), ('GREG LYNCH', 2), ('K. Ingwersen', 2), ('류재현', 2), ('JAY PEA', 2), ('김성수', 2), ('윤명선', 2), ('이성우', 2), ('HOLLANDS JAMES REGINALD', 2), ('Sean Kumar', 2), ('MICAH WILLIAMS', 2), ('이영훈', 2), ('Micky', 2), ('김지후', 2), ('DE VILLER DANE ANTHONY', 2), ('Michael Edward Snyder', 2), ('G-DRAGON, 필강', 2), ('THE RAP MONSTER,SUGA,Supreme Boi,방시혁,Pdogg,j-hope', 2), ('Pdogg,RM', 2), ('SUGA,Supreme Boi,방시혁,RM,Pdogg', 2), ('Pdogg,Slow Rabbit', 2), ('SUGA,RM,Cream,j-hope,권대희', 2), ('SUGA,방시혁,RM,Pdogg,Slow Rabbit,j-hope', 2), ('SUGA,Slow Rabbit,j-hope,RM', 2), ('SUGA,RM,Pdogg,Slow Rabbit,j-hope', 2), (nan, 2), ('YELLA D (옐라디)', 2), ('에스나 (eSNa),최용찬', 2), ('V,SUGA,RM,Pdogg,Slow Rabbit,j-hope', 2), ('나고,주헌 (몬스타엑스)', 2), ('크라이베이비', 2), ('9999,리시,ESBEE', 2), ('Ryan S. Jhun,LDN Noise,Deanna Dellacioppa,Taylor Parks', 2), ('Sam Lewis,블랙아이드 필승,라도', 2), ('V,SUGA,방시혁,정국,RM,Pdogg,j-hope', 2), ('SUGA,방시혁,정국,RM,Pdogg,Slow Rabbit,j-hope', 2), ('김도훈 (RBW),이단옆차기', 2), ('강민훈,코스믹 걸 (Cosmic Girl),코스믹 사운드', 2), ('WOOZI (SEVENTEEN),동네형,BUMZU,원영헌', 2), ('Devine Channel,SUGA,방시혁,RM,Pdogg', 2), ('Pdogg,방시혁,브라더수,RM', 2), ('999,Davey Nate,Jayrah Gibson,Hyuk Shin (153/Joombas)', 2), ('SUGA,C.`Tricky` Stewart,J. Pierre Medor,RM,j-hope', 2), ('이종원,지평권,신형', 2), ('WOOZI (SEVENTEEN),동네형,야마아트,원영헌', 2), ('Stereo14,리시,ESBEE', 2), ('리시,Megatone (13),ESBEE', 2), ('Vo3e,장재벌,브라더수,원호 (WONHO),Xepy', 2), ('RE:ONE ,Delly Boi,Davey Nate', 2), ('Mrey,Jayrah Gibson,Hyuk Shin (153/Joombas)', 2), ('RE:ONE ,Davey Nate', 2), ('Daniel Caesar,Ludwig Lindell,Caesar & Loui', 2), ('방시혁,Ray Michael Djan Jr,RM,Slow Rabbit,Ashton Foster', 2), ('Allison Kaplan,Matthew Tishler,RM', 2), ('SUGA,Kass,방시혁,진보,RM,Pdogg,j-hope', 2), ('Risto Asikainen,Antti Hynninen', 2), ('Daniel Caesar,Cazzi Opeia,Ludwig Lindell,Caesar & Loui', 2), ('우혜림,FRANTS', 2), ('earattack,Fox Stevenson', 2), ('Tammy Infusino,Darren Smith', 2), ('Andreas Ohrn,Chris Wahle,Thomas Harsem', 2), ('김부민,Aventurina King,Hitchhiker,John Fulford', 2), ('Ylva Dimberg,DEEZ,Stereotypes', 2), ('Ylva Dimberg,KENZIE,Stereotypes', 2), ('Kanata Okajima,RM,Soma Genda', 2), ('Peter Wallevik,Chelcee Grimes,Mich Hansen,Daniel Davidsen,Kara Dioguardi', 2), ('유영진,Whitney Phillips,Maxx Song,Stereotypes', 2), ('박진영,이우민 `collapsedone`', 2), ('MLC,Erik Lidbom,Julie Yu', 2), ('THE ELEV3N,Joren Van Der Voort,Micky Blue', 2), ('Eirik Johansen,Anne Judith Wik,Hayley Aitken,Jan Hallvard Larsen,Ronny Vidar Svendsen,Nermin Harambasic', 2), ('Pdogg,방시혁,RM', 2), ('Roland Spreckley,Jake Torrey,Noah Conrad,Steve Aoki,Annika Wells,RM,Slow Rabbit', 2), ('Martin Luke Brown,정바비,SUGA,Orla Gartland,RM,Pdogg,j-hope,ADORA', 2), ('송재경,MNEK,SUGA,Tyler Acord,RM,j-hope', 2), ('정바비,SUGA,Candace Nicole Sosa,윤기타,Jordan “DJ Swivel” Young,RM,Pdogg,j-hope,ADORA', 2), ('SUGA,방시혁,Ali Tamposi,RM,Pdogg,Roman Campolo,j-hope,Liza Owen', 2), ('SUGA,신명수,RM,j-hope,DOCSKIM', 2), ('Alphonso James Mizell,Berry Gordy,Yuichi OHNO,Freddie Perren,Deke Richards', 2), ('Anne Judith Wik,Jonatan Gusmark,Andreas Baertels,Ludvig Evers,오승은,Cazzi Opeia', 2), ('Jonatan Gusmark,Ludvig Evers,Cazzi Opeia,Ellen Berg Tollbom', 2), ('Melanie Fontana,Supreme Boi,Candace Nicole Sosa,방시혁,Jordan “DJ Swivel” Young,RM,ADORA', 2), ('정바비,Samantha Harper,SUGA,Candace Nicole Sosa,Ray Michael Djan Jr,윤기타,Jordan “DJ Swivel” Young,RM,Pdogg,j-hope,Lauren Dyson,Ashton Foster', 2), ('J.Y. Park `The Asiansoul`,Hae Sol Lee', 2), ('Albi Albertsson,Kanata Okajima,Mussashi', 2), ('브라더수,Caesar & Loui', 2), ('Albi Albertsson,Mussashi,Akina Ingold', 2), ('Andreas Oberg,Maria Marcus,Emyli', 2), ('김건모,김도훈 (RBW)', 2), ('Pdogg,Hiss noise,RM', 2), ('Ryan Lawrie,Melanie Fontana,Marcus McCoan,SUGA,Camilla Anne Stewart,Candace Nicole Sosa,Max Lynedoch Graham,Jordan “DJ Swivel” Young,RM,Michel “Lindgren” Schulz,j-hope,Matty Thomson', 2), ('정바비,Julia Ross,Krysta Youngs,송재경,Tushar Apte,SUGA,RM,Pdogg,Lauren Dyson,ADORA,j-hope', 2), ('Moonshine,Cazzi Opeia,Boots', 2), ('Neil Athale,Ylva Dimberg,Will Simms', 2), ('Johan Gustafsson,Fredrik Haggstam,Sebastian Lundberg,Trinity Music,Ylva Dimberg', 2), ('Ryan S. Jhun,Anna Isback,Pontus PJ Ljung,Hanif Hitmanic Sabzevari,Dennis DeKo Kordnejad', 2), ('테일러,김민', 2), ('Jay Lee,유송연', 2), ('Sophia Ayana,Space Primates,Leon Paul Palmen', 2), ('Ryan S. Jhun,Courtney Woolsey,Denzil `DR` Remedios,Rodnae `Chikk` Bell,Charite Viken,Nermin Harambasic', 2), ('Ylva Dimberg,KENZIE,Caesar & Loui', 2), ('추대관 (MonoTree),Maja Keuc,Andreas Oberg', 2), ('정동환,SUMIN (수민)', 2), ('WOOZI (SEVENTEEN),BUMZU,Ohway! (PRISMFILTER)', 2), ('Andres Torres,Jake Torrey,Mauricio Rengifo,Michael Matosic', 2), ('Ollipop,Hayley Aitken,이우민 `collapsedone`,J.Y. Park `The Asiansoul`', 2), ('Josh Zegan,Connor McDonough,Jeff Sojka,Riley McDonough,Toby McDonough', 2), ('윤석 (YOONSEOK),I.M (몬스타엑스),WOOKI', 2), ('박우상,김도훈 (RBW),화사 (Hwa Sa)', 2), ('Kass', 2), ('Masaki Iehara,SUNHEE', 2), ('Maxx Song,Red Anne,Secret Weapon', 2), ('Benny Jansson,Ida Pihlgren', 2), ('Julia Ross,Gannin Arnold', 2), ('채영,FRANTS', 2), ('Erik Lidbom,FASTLANE', 2), ('BYMORE,키겐,The Apple Of My Eye,ESBEE', 2), ('은,Druski,Andrew Scott,유영진,Cazzi Opeia', 2), ('Vince Nantes,August Rigo,RM,Pdogg,Clyde Kelly', 2), ('정바비,Hilda Stenmalm,“hitman”bang,Tom Wiklund,형광소년,안복진,LUTRA,danke (lalala studio),이스란,폴린딜드 (Fallin` Dild)', 2), ('Printz Board,Sleep Deez,Richelle Alleyne,Jung Kook,RM,Pdogg,Jayrah Gibson', 2), ('Pdogg,Antonina Armato,Jessie Lauryn Foutz,RM', 2), ('Supreme Boi,Martin Sjølie,Jimin,Pdogg,ADORA,스텔라장 (Stella Jang)', 2), ('Jin,Candace Nicole Sosa,Daniel Caesar,Ludwig Lindell,Jordan “DJ Swivel” Young,RM,Slow Rabbit,ADORA', 2), ('Zara Larsson,Julia Michaels,Justin Tranter,Uzoechi Emenike,MNEK,이해솔,J.Y. Park \"The Asiansoul\"', 2), ('William Pyon', 1), ('윤상', 1), ('김성훈', 1), ('Young-hu Kim,  William Pyon', 1), ('Sarah Nagourney,  Jack Kugell,  Jason Pennock,  Jamie Jones', 1), ('Jack Kugell', 1), ('JoJo Bee for Xperimental Music', 1), ('KATHY CANTALUPPI', 1), ('한상원', 1), ('Jens Thoresen', 1), ('유영지', 1), ('Tommy La Verdi', 1), ('박준수', 1), ('Jesse Carmichael', 1), ('안지홍', 1), ('이정현', 1), ('Hisaishi Joe', 1), ('S-Kush', 1), ('필강', 1), ('박유천', 1), ('John Paul Lam', 1), ('M. Percali', 1), ('E.Knock', 1), ('강타 (KANGTA)', 1), ('캡틴락', 1), ('Peter Callander', 1), ('신상호', 1), ('추가열', 1), ('Jimmy Andrew Richard', 1), ('이범희', 1), ('최규성', 1), ('Antonio Nunzio Catania', 1), ('히어로', 1), ('박준하', 1), ('김재양', 1), ('환희', 1), ('Steven Lee', 1), ('SUTTON, MARTIN COLLIN', 1), ('Peter Biker', 1), ('ANGELA PEEL', 1), ('이낙', 1), ('PASCAL GUYON', 1), ('려욱 (RYEOWOOK)', 1), ('LARRY TAYLOR', 1), ('XIA (준수)', 1), ('이찬우', 1), ('김윤아', 1), ('최성원', 1), ('김성호', 1), ('이치우', 1), ('정모 (JUNGMO)', 1), ('이영현', 1), ('동해 (DONGHAE)', 1), ('박진영', 1), ('DK', 1), ('박해운', 1), ('Wrethov', 1), ('LEONARD LIPTON', 1), ('테디', 1), ('테디, JJ, 최희준', 1), ('유남용, 유한진', 1), ('TEDDY, G-DRAGON, T.O.P', 1), ('TEDDY, G-DRAGON', 1), ('G-DRAGON, CHOICE37', 1), ('G-DRAGON, DJ Murf, PEEJAY', 1), ('G-DRAGON, 함승천, 강욱진', 1), ('G-DRAGON, Boys Noize, T.O.P', 1), ('G-DRAGON, TEDDY, 서원진', 1), ('Thomas Sardorf, Lasse Lindorff', 1), ('신동혁,SUGA,방시혁,Pdogg,THE RAP MONSTER', 1), ('Slow Rabbit,j-hope,THE RAP MONSTER,SUGA', 1), ('박용인 (어반자카파),SUGA,재만 (JAEMAN),조현아 (어반자카파),RM,Pdogg,Slow Rabbit,j-hope,권순일 (어반자카파)', 1), ('SUGA,Supreme Boi,RM,Pdogg,송창식,Slow Rabbit,j-hope,윤석원', 1), ('브라더수,SUGA,RM,Pdogg,Slow Rabbit,j-hope', 1), ('화사 (Hwa Sa),조재협,Zo,서지은', 1), ('Chris Holsten,Chad Hugo,Will Simms,Anne Judith Wik', 1), ('Bui Thanh Vu,SUGA,방시혁,RM,Pdogg,j-hope', 1), ('SUGA,숀 (SHAUN),방시혁,RM,Pdogg,Slow Rabbit,j-hope', 1), ('RM,SUGA,이호형,Pdogg,j-hope', 1), ('Supreme Boi,Simo', 1), ('SUGA,방시혁,RM,Pdogg,j-hope,Thanh Bui', 1), ('SooNo,돈 스파이크,김영광', 1), ('박수석,김기범,-', 1), ('돈 스파이크,이영훈,이상호', 1), ('Hayley Aitken,Johan Gustafsson,Fredrik Haggstam,Sebastian Lundberg', 1), ('Daniel Obi Klein,Charlotte Taft', 1), ('DOM,KENZIE,Teddy Riley,Charlotte Taft,이현승', 1), ('Hayley Aitken,앤드류 최,220,Cha Cha Malone', 1), ('이주형 (MonoTree),G-High (MonoTree)', 1), ('Claire Rodrigues Lee,스코어,Kevin Charge', 1), ('이혜민,돈 스파이크,SooNo', 1), ('브라더수,SUGA,방시혁,RM,Pdogg,j-hope', 1), ('earattack,SUGA,방시혁,RM,Pdogg,j-hope', 1), ('V,SUGA,방시혁,진,RM,Pdogg,j-hope,지민', 1), ('미친기집애,피터팬,똘아이박', 1), ('ASSBRASS,리시,이지훈', 1), ('라이머,리시,주헌 (몬스타엑스),기현 (몬스타엑스)', 1), ('ASSBRASS,9999,ESBEE', 1), ('WOOZI (SEVENTEEN),리시,마스터키', 1), ('WOOZI (SEVENTEEN),BUMZU,염동건', 1), ('리시', 1), ('WOOZI (SEVENTEEN),크림도너츠', 1), ('서재우 (TENTEN),화사 (Hwa Sa),김도훈 (RBW)', 1), ('서재우 (TENTEN),김도훈 (RBW)', 1), ('황성진,김창락 (CR Kim),이승엽', 1), ('서용배 (TENTEN),박우상', 1), ('김도훈 (RBW),전승우', 1), ('기리보이', 1), ('주헌 (몬스타엑스),태완 (Taewan),Ye-Yo!', 1), ('Rescue The Beat,김승준,고아라', 1), ('Will Gray,Anne Preven,Jaden Michaels,Alex G', 1), ('Ryan S. Jhun,LDN Noise,Taylor Parks,Denzil `DR` Remedios', 1), ('Ryan S. Jhun,Jin Suk Choi,LDN Noise,Rodnae `Chikk` Bell,Charite Viken,Nermin Harambasic', 1), ('Herbie Crichlow,LDN Noise,Lauren Dyson,Jin Choi', 1), ('Daniel Obi Klein,Ylva Dimberg,KENZIE,Oliver McEwan', 1), ('Daniel Obi Klein,진보,Charlie Taft,Johannes `Josh` Jorgensen', 1), ('Ryan S. Jhun,Dem Jointz,Dwayne Abernathy Jr.,Taylor Parks', 1), ('황현', 1), ('Andy Love,Daniel Obi Klein,Marcus Winther-John', 1), ('Fingazz,Glen Choi', 1), ('소피야 (Sophiya),Sam Gray,220,Jake K (ARTiffect)', 1), ('Tatiauna Matthews,진바이진,Anne Judith Wik,Xin Xin Gao,Nermin Harambasic', 1), ('Ryan Marrone,Julia Michaels,Chloe Leighton,Garrick Smith', 1), ('Daniel Kim,Mayu Wakisaka', 1), ('SooNo,김광빈,돈 스파이크', 1), ('SUGA,방시혁,RM,Pdogg,j-hope', 1), ('Pdogg,Slow Rabbit,Supreme Boi,RM', 1), ('Pdogg,방시혁,Slow Rabbit', 1), ('명랑한 운동부,Felicia Barton,Aaron Benward,Matthew Tishler,황찬희', 1), ('천성일', 1), ('김도훈 (RBW),솔라 (마마무)', 1), ('박우상,Daniel Palm,Ellen Berg Tollbom', 1), ('박우상,김도훈 (RBW),솔라 (마마무),화사 (Hwa Sa)', 1), ('이후상,S2REN (사이렌)', 1), ('명랑한 운동부,이범희', 1), ('Maria Marcus,홍소진,Andreas Oberg,황찬희,이승주', 1), ('Michael Nordmark,Daniel Obi Klein,Thomas Sardof,Charlotte Taft', 1), ('Rodnae `Chikk` Bell,KENZIE,DEEZ', 1), ('정수민,홍종화,박근철', 1), ('WOOZI (SEVENTEEN),김진환,이현도', 1), ('인영훈,BUMZU', 1), ('키겐', 1), ('WOOZI (SEVENTEEN),BUMZU,염동건,이기용', 1), ('WOOZI (SEVENTEEN),BUMZU,Vernon (SEVENTEEN),S.COUPS (SEVENTEEN)', 1), ('WOOZI (SEVENTEEN),박기태,리시,마스터키', 1), ('홍지상,박진영', 1), ('이제이 쇼,The Karlsson`s,Krissie Karlsson,Nicki Karlsson,Karl Karlsson', 1), ('진바이진,Courtney Woolsey,Emmanuel Jimenez,Stacy Hebert,Ronald `AV` Ndlovu', 1), ('영광의 얼굴들 (Full8loom)', 1), ('Niclas Kings,Ylva Dimberg,Didrik Thott', 1), ('명랑한 운동부,윤수일', 1), ('Samantha Harper,SUGA,Ray Michael Djan Jr,RM,Pdogg,j-hope,Ashton Foster', 1), ('SUGA,방시혁,RM,Slow Rabbit,j-hope', 1), ('SUGA,정국,진,RM,Pdogg,Slow Rabbit,j-hope', 1), ('V,SUGA,방시혁,정국,RM,Pdogg', 1), ('뮤지,유준성,김명준', 1), ('리시,ESBEE', 1), ('Stereo14,리시,브라더수,ESBEE', 1), ('정민,주헌 (몬스타엑스)', 1), ('Stereo14,키겐,리시', 1), ('Rescue The Beat', 1), ('WOOZI (SEVENTEEN),earattack', 1), ('박우상,김마초', 1), ('Ollipop,Hayley Aitken', 1), ('Tomas Smagesjo,Courtney Woolsey,Nermin Harambasic,Jin Suk Choi', 1), ('Andreas Oberg,Maja Keuc,김원,Simon Petren', 1), ('Malin Johansson,Josef Melin', 1), ('Martin Hoberg Hedegaard,진바이진,박근태', 1), ('한요한,기리보이', 1), ('탁 (TAK),원택 (1Take),Trinity', 1), ('Pdogg,j-hope,RM', 1), ('David Quinones,Tony Esterly,RM', 1), ('SUMIN (수민),방시혁,Pdogg,지민,DOCSKIM', 1), ('방시혁,Slow Rabbit,philtre,V', 1), ('MISS KAY,SUGA', 1), ('Slow Rabbit,RM', 1), ('Pdogg,프라이머리,j-hope', 1), ('RM,방시혁,진,준 (JUNE),Pdogg,Slow Rabbit,j-hope', 1), ('Peter Ibsen,Lee Paul Williams,Richard Rawson,준 (JUNE),Supreme Boi,RM,Pdogg', 1), ('Kevin Moore', 1), ('Pdogg,방시혁,Supreme Boi,RM', 1), ('Chloe,NODAY', 1), ('노은종,ZigZag Note', 1), ('ASHLEY MOUNTS,East4A,김희덕', 1), ('강지원,Kei Lim', 1), ('Joe J. Lee (Kairos),Hobyn `K.O` Yi', 1), ('Andreas Oberg,Sebastian Thott,Danielle Senior,Didrik Thott', 1), ('김도훈 (RBW),신민', 1), ('박우상,휘인 (Whee In)', 1), ('김도훈 (RBW),최용찬', 1), ('덩크 (DUNK),송병준,명랑한 운동부', 1), ('WOOZI (SEVENTEEN),민규 (SEVENTEEN),BUMZU,Anchor', 1), ('BUMZU,호시 (SEVENTEEN)', 1), ('WOOZI (SEVENTEEN),Faschinating,킵루츠,서정진', 1), ('WOOZI (SEVENTEEN),리시', 1), ('Gifty Dankwah,Bruce Fielder', 1), ('Johan Gustafsson,Courtney Woolsey,Fredrik Haggstam,DEEZ,Sebastian Lundberg', 1), ('Annalise Morelli,Mats Ymell,Alina Smith,Kervens Mazile', 1), ('Johan Gustafsson,Ylva Dimberg,Fredrik Haggstam,Sebastian Lundberg', 1), ('돈 스파이크,박근태', 1), ('한경수,최한솔,김창락 (CR Kim),핑크하운드', 1), ('Vo3e,zomay,5$,1MAD,Xepy', 1), ('원호 (WONHO),장재벌', 1), (' C-no, 웅킴),Simon Petren,오레오 (이기,Andreas Oberg', 1), ('디아,김원', 1), ('72,David Anthony Eames,Debbie-Jane Blackwell', 1), ('Roahn Hylton,Dr.JO,Johnny Marnell,Brian Judah,Scott Granger', 1), ('Erlend Elvesveen,Lise Kristin Kvenseth,Jo Svarre Sande,Rune Helmersen,Tone Ravna Bjørnstad,Elizaveta Vassilieva', 1), ('Moa Anna Maria Carlebecker,Ronny Vidar Svendsen,Nermin Harambasic,Anne Judith Wik', 1), ('서재하,김영성,감동is', 1), ('WOOZI (SEVENTEEN),Simon Petren', 1), ('덩크 (DUNK),명랑한 운동부,김범룡', 1), ('Stereo14,리시,bintage (빈티지)', 1), ('화사 (Hwa Sa),김도훈 (RBW),솔라 (마마무)', 1), ('파이어뱃(RBW),비오 (B.O.)', 1), ('서태지,Supreme Boi,Pdogg', 1), ('Kanata Okajima,Pontus Persson,Becky Jerams', 1), ('Alice Penrose,LDN Noise,Courtney Woolsey', 1), ('Johannes `Josh` Joergensen,Lars Halvor Jensen,Marissa Jack', 1), ('LOHI,Xepy,이경민', 1), ('윤종신,진바이진,유희열', 1), ('Slow Rabbit,j-hope,RM,SUGA', 1), ('Distract,Secret Weapon,진영 (GOT7)', 1), ('정호현 (e.one)', 1), ('earattack,유키', 1), ('Kriz,Poptime', 1), ('ReignWrite,NAOtheLAIZA', 1), ('정호현 (e.one),최현준 (V.O.S)', 1), ('케빈오빠', 1), ('WOOZI (SEVENTEEN),BUMZU,DIRTY ORANGE,Mitsu.J', 1), ('BUMZU,Vernon (SEVENTEEN)', 1), ('WOOZI (SEVENTEEN),BUMZU,Vernon (SEVENTEEN),네이슨 (NATHAN)', 1), ('도겸 (SEVENTEEN),BUMZU,Anchor', 1), ('WOOZI (SEVENTEEN),동네형,BUMZU,원영헌,야마아트', 1), ('Andreas Oberg,A-Dee,Stereo14,Drew Ryan Scott', 1), ('별들의 전쟁 (GALACTIKA *)', 1), ('원호 (WONHO),Rich Jang,브라더수', 1), ('UCKU', 1), ('Kooky,크루셜스타 (Crucial Star)', 1), ('Scott Charles Fritz,Josh Hanalei Jones,박우상,Jeremy Bircher', 1), ('Daniel Obi Klein,Charli Taft,진보,SUMIN (수민)', 1), ('Sophie Stern,Gladius,James Wong,Sidnie Tipton', 1), ('Daniel Obi Klein,Charli Taft,DEEZ', 1), ('이주형 (MonoTree),권덕근', 1), ('Desiigner,Steve Aoki,Tayla Parx,Supreme Boi,방시혁,플로우식 (Flowsik),RM,Pdogg,j-hope,Shae Jacobs', 1), ('Dawn Elektra,Joe Lawrence,Sam Hocking', 1), ('명랑한 운동부,HYMAX,홍di,신중현', 1), ('Phoebus Tassopoulos,Jessica Jean Pfeiffer,Kevin Charge', 1), ('밍지션,이동훈,Ellen Berg Tollbom', 1), ('최수정,ButterFly', 1), ('정한 (SEVENTEEN),WOOZI (SEVENTEEN),BUMZU,적재,조슈아 (SEVENTEEN)', 1), ('Malin Johansson,Susumu Kawaguchi,Albin Nordqvist', 1), ('김창환,명랑한 운동부,HYMAX,홍di', 1), ('솔라 (마마무),이현승,TM', 1), ('박우상,화사 (Hwa Sa)', 1), ('Mayu,Command Freaks', 1), ('Harry Somerdahl,Stereo14,Shane Simmons,Hayden Bell', 1), ('Daniel Kim,Caesar&Luoi', 1), ('Stereo14,Caesar&Luoi', 1), ('JJ Evans (153/Joombas),박슬기 (153/Joombas),Hyuk Shin (153/Joombas)', 1), ('원호 (WONHO),Rich Jang', 1), ('주헌 (몬스타엑스),이현도,Ye-Yo!', 1), ('UTA,Andrew Taggart,SUGA,방시혁,Ray Michael Djan Jr,RM,Pdogg,j-hope,ADORA,Ashton Foster,Sam Klempner', 1), ('Pdogg,Sunny Boy,UTA', 1), ('JUN,UTA,Hiro', 1), ('이주형 (MonoTree)', 1), ('Valeria Del Prete,Sean Alexander,Avenue 52,FRANTS', 1), ('이후상,윤상', 1), ('Anchor,BUMZU,Nmore,조용필', 1), ('로코베리', 1), ('Lauren Kaori,Kohei Yokono', 1), ('Perry,Charlie J,RM', 1), ('SUGA,Candace Nicole Sosa,Hiss noise,정국,Jordan “DJ Swivel” Young,RM,j-hope,ADORA', 1), ('SUGA,방시혁,RM,Pdogg,j-hope,ADORA', 1), ('Efraim Faramir Sixten Fransesco Vindalf Cederqvist Leo,Gavin Jones,Saima Iren Mian,Anne Judith Wik,Ronny Vidar Svendsen,JFMee,Nermin Harambasic', 1), ('진바이진,박근태,Anne Judith Wik,Justin Stein,Ronny Vidar Svendsen,Nermin Harambasic', 1), ('Daniel Caesar,Ludwig Lindell', 1), ('Valeria Del Prete,이우민 `collapsedone`', 1), ('Mayu Wakisaka,David Anthony Eames,Sophie White,Amy Richardson', 1), ('용배 (RBW),밍키 (RBW),이기', 1), ('김도훈 (RBW),솔라 (마마무),이후상', 1), ('WOOZI (SEVENTEEN),박기태,BUMZU,S.COUPS (SEVENTEEN)', 1), ('진바이진,Anne Judith Wik,Hugo Solis,Gionata Caracciolo,Nermin Harambasic', 1), ('Trinity,Courtney Woolsey,KENZIE', 1), ('DOM,Daniel Obi Klein,Teddy Riley,Ylva Dimberg,이현승', 1), ('Blair MacKichan,Nermin Harambasic,Ronny Svendsen,Anne Judith Wik', 1), ('Cazzi Opeia,이주형 (MonoTree),NOPARI (MonoTree)', 1), ('Whitney Phillips,유영진,Maxx Song,The Stereotypes', 1), ('Hiss noise,j-hope', 1), ('Hiss noise,Slow Rabbit,RM', 1), ('방시혁,Slow Rabbit,ADORA', 1), ('정바비,Conor Maynard,SUGA,Candace Nicole Sosa,Ray Michael Djan Jr,Jordan “DJ Swivel” Young,RM,Pdogg,j-hope,Ashton Foster', 1), ('Supreme Boi,방시혁,Ali Tamposi,RM,Pdogg,Roman Campolo,Nicki Minaj', 1), ('Drew Ryan Scott,A-Dee', 1), ('우키 (Wooki),윤석,I.M (몬스타엑스)', 1), ('Maria Marcus,Brad.K,Albin Nordqvist', 1), ('Jeff Lewis,M Rey,Hyuk Shin (153/Joombas)', 1), ('Lauren Kaori,ArmySlick', 1), ('소피야 (Sophiya),Secret Weapon', 1), ('CJ Abraham,Kim Petras,MXK', 1), ('Secret Weapon,Maria Marcus,Fast Lane,Lisa Desmond', 1), ('C-no,웅킴,이기', 1), ('J.Y. Park `The Asiansoul`,이해솔', 1), ('문별 (마마무),김도훈 (RBW),솔라 (마마무)', 1), ('김도훈 (RBW),솔라 (마마무),밍키 (RBW)', 1), ('이후상', 1), ('Dewain Whitmore,Joshua Golden,Michael Wyckoff,Britt Burton,Patrick `J. Que` Smith,유영진,Harvey Mason Jr.,R!ot', 1), ('LDN Noise,DEEZ,Ellen Berg Tollbom', 1), ('Moonshine,KENZIE,Anne Judith Wik', 1), ('Dem Jointz', 1), ('소피야 (Sophiya),이우민 `collapsedone`,Jamie (제이미),J.Y. Park `The Asiansoul`,Justin Reinstein,영광의 얼굴들 (Full8loom),이해솔,진리 (Full8loom)', 1), ('Malin Johansson,Fredrik `Figge` Bostrom,Atsushi Shimada', 1), ('WOOZI (SEVENTEEN),박기태,BUMZU,승관 (SEVENTEEN)', 1), ('WOOZI (SEVENTEEN),박기태', 1), ('Vernon (SEVENTEEN),BUMZU,Poptime', 1), ('Kevin Charge,Stereo14,Drew Ryan Scott,Andreas Oberg,Daniel Kim', 1), ('Daniel Kim,Gummesson Karl-Oskar Julius', 1), ('David Mørup,Sylvester Willy Silverstein,Clarence Coffee Jr.,Steve Aoki,Jimmy Conway', 1), ('Jeff Lewis,JJ Evans (153/Joombas),Sebastian Berglund', 1), ('Andy Love,Daniel Kim,Christian Dropfill Berglund,Hanif Hitmanic Sabzevari', 1), ('Ryan S. Jhun,Stereo14,브라더수,Hanif Hitmanic Sabzevari,Daniel Kim,Dennis DeKo Kordnejad', 1), ('Ashley Alisha (153/Joombas),KYUM LYK(153/Joombas),JJ Evans (153/Joombas),Hyuk Shin (153/Joombas)', 1), ('Jeon Goon,블랙아이드 필승,라도', 1), ('이우민 `collapsedone`,J.Y. Park `The Asiansoul`', 1), ('Jonatan Gusmark,Andreas Baertels,Ludvig Evers,오승은,Cazzi Opeia', 1), ('비오 (B.O.),전다운,정홍림,장대일', 1), ('Philip Bentley,Matthew Tishler,Andrew Underberg', 1), ('Maya Von Doll,Dimitri Tikovoi,Charli XCX,MNEK', 1), ('Moonshine,Jonatan Gusmark,Ludvig Evers,Josefin Glenmark,Cazzi Opeia', 1), ('earattack,Larmook (라묵),Louise Frick Sveen', 1), ('Ryan S. Jhun,Jake Tench,Maestro the Baker,Kloe', 1), ('Sean Alexander,Didrik Thott,Darren Smith', 1), ('Ryn Weaver,정바비,Tor Erik Hermansen,Mikkel Storleer Eriksen,Charli XCX', 1), ('Zara Larsson,Scott Quinn,Alexander George Edward Crossan,윤기타,j-hope,Max Wolfgang', 1), ('Marric Antonio Strobert,SUGA,Juice WRLD,RM,Powers Pleasant', 1), ('Coyle Girelli,이현,Supreme Boi,방시혁,Jordan “DJ Swivel” Young,RM,j-hope', 1), ('Yo-Hei,UTA', 1), ('Melanie Fontana,Michel “Lindgren” Schulz,Emily Weisband,SUGA,방시혁,RM,Pdogg,j-hope', 1), ('소피야 (Sophiya),이우민 `collapsedone`,Hae Sol Lee,Jamie (제이미),J.Y. Park `The Asiansoul`,Justin Reinstein,영광의 얼굴들 (Full8loom),진리 (Full8loom)', 1), ('Jeon Goon,라도,B.E.P', 1), ('김도훈 (RBW),Felicia Barton,Aaron Benward,Matthew Tishler,이후상', 1), ('WOOZI (SEVENTEEN),BUMZU,Simon Petren', 1), ('WOOZI (SEVENTEEN),BUMZU,Vernon (SEVENTEEN)', 1), ('WOOZI (SEVENTEEN),박기태,BUMZU,Nmore', 1), ('WOOZI (SEVENTEEN),BUMZU,Anchor,G-High (MonoTree)', 1), ('Mihaela Borislavova Marinova,Alexej Viktorovitch,Nikol Genadieva Kaneva,Alexander Karlsson', 1), ('Ryan S. Jhun,Miro Markus,Anna Timgren', 1), ('72,Jurek Reunamaki,Melanie Fontana,GG Ramirez', 1), ('심은지,Louise Frick Sveen,베르사최 (VERSACHOI)', 1), ('Sophia Pae,이주형 (MonoTree)', 1), ('임기훈,명랑한 운동부,홍성준', 1), ('Benjy Gibson,Lauv,SUGA,Jo Hill,RM,Fred Gibson,j-hope,Ed Sheeran', 1), ('주영,$aimon,$un', 1), ('Andreas Oberg,Daniel Kim,Willie Weeks,Skylar Mones', 1), ('Andreas Oberg,Daniel Caesar,Ludwig Lindell,Caesar & Loui', 1), ('앤드류 최,bintage (빈티지),Albin Nordqvist', 1), ('Jiyeon Park,Daniel Caesar,Daniel Kim,Ludwig Lindell', 1), ('원호 (WONHO),브라더수,신기현 (펀치사운드)', 1), ('황성진,장진영,코코두부아빠', 1), ('용배 (RBW),이기,Mayu Wakisaka,이상호', 1), ('용배 (RBW),이후상', 1), ('류지수,이후상', 1), ('박우상,영', 1), ('박해일 (Yummy Tone),빅싼초 (Yummy Tone),재리포터 (YummyTONE)', 1), ('솔라 (마마무),밍키 (RBW)', 1), ('Moonshine,Cazzi Opeia,KENZIE', 1), ('Louise Frick Sveen,Royal Dive', 1), ('Simon Petren,Maja Keuc,홍소진,Andreas Oberg,황찬희', 1), ('이승주', 1), ('이우민 `collapsedone`,Justin Reinstein', 1), ('GHSTLOOP,SUGA,EL CAPITXN,RM,Pdogg', 1), ('Leland,Troye Sivan,SUGA,Bram Inscore,RM,Allie X,j-hope', 1), ('SUGA,Supreme Boi,Hiss noise,RM,j-hope,icecream drum', 1), ('Ryan Lawrie,Matt Thomson,Ellis Miah,V,Adien Lewis,Max Lynedoch Graham,RM,Pdogg,James F. Reynolds', 1), ('EL CAPITXN,Hiss noise,RM,SUGA', 1), ('Etta Zelmani,Ellen Berg,Antonina Armato,Elohim,SUGA,Sophie `Frances` Cooke,Henrik Michelsen,Wille Tannergard,Gusten Dahlqvist,Audien,Candace Nicole Sosa,Jordan “DJ Swivel” Young,RM,j-hope,Cazzi Opeia', 1), ('Supreme Boi,Hiss noise,j-hope', 1), ('Ollipop,Carlos Okabe,Willie Weeks,Michelle Bastiansen', 1), ('Stereo14,Sean Michael Alexander,Drew Ryan Scott', 1), ('iHwak,Flow Blow', 1), ('Willie Weeks,브라더수', 1), ('Johan Gustafsson,Josefin Glenmark', 1), ('김진형(BADD),빌리진 (BADD),Sophia Pae,SlyBerry', 1), ('Ryan Ashley,Lewis Jankel,Shift K3y,BB Diamond', 1), ('LDN Noise,Greg Bonnick,Hannah Wilson,Chloe Latimer,Hayden Chapman', 1), ('Mack,Imani Williams,Iman Contha Hulthen,Email,Emanuel Abrahamsson', 1), ('Drew Ryan Scott,Gabe Lopez,Sean Michael Alexander', 1)]\n"
          ],
          "name": "stdout"
        }
      ]
    },
    {
      "cell_type": "markdown",
      "metadata": {
        "id": "8dWc62WCZdV7"
      },
      "source": [
        ""
      ]
    },
    {
      "cell_type": "code",
      "metadata": {
        "id": "MsUJF5xNanns"
      },
      "source": [
        "cluster_tags = []\n",
        "cluster_tags.append(['다시 한번','숨은'])\n",
        "cluster_tags.append(['지나간','옛날','추억의'])\n",
        "cluster_tags.append(['그리움','아이돌'])\n",
        "cluster_tags.append(['신나는','메탈'])\n",
        "cluster_tags.append(['드라마틱','발라드','밤'])\n",
        "cluster_tags.append(['대중적','아이돌','다양한'])\n",
        "cluster_tags.append(['2세대','노인돌'])\n",
        "cluster_tags.append(['1세대','들어본'])\n",
        "cluster_tags.append(['힙한','감각적인'])\n",
        "cluster_tags.append(['랩','유영진','이국적인'])\n",
        "\n"
      ],
      "execution_count": null,
      "outputs": []
    },
    {
      "cell_type": "code",
      "metadata": {
        "id": "7XkzfLdSfs4-"
      },
      "source": [
        "\n",
        "cluster_tags_save = np.array(cluster_tags)\n",
        "np.save('./cluster_tags_save',cluster_tags_save)\n",
        "np.save('./cluster_dict',cluster_dict1)\n"
      ],
      "execution_count": null,
      "outputs": []
    },
    {
      "cell_type": "markdown",
      "metadata": {
        "id": "xNihOeapfuSc"
      },
      "source": [
        "n"
      ]
    },
    {
      "cell_type": "code",
      "metadata": {
        "colab": {
          "base_uri": "https://localhost:8080/"
        },
        "id": "lfEKafq9fvWz",
        "outputId": "070eee90-98d1-4217-d4b4-f514d46a3f2f"
      },
      "source": [
        "!gdown --id 1cIZmkllhoNDu5011_qia1YpswNVRckUT\n",
        "!gdown --id /1EUBeEHMPDBkfLTK9Hq0aMXwzrjDKJ48l\n",
        "\n",
        "cluster_tags_save1 = np.load('./cluster_tags_save.npy',allow_pickle=True)\n",
        "if np.array_equal(cluster_tags_save1,cluster_tags_save):\n",
        "    print('Wa')"
      ],
      "execution_count": null,
      "outputs": [
        {
          "output_type": "stream",
          "text": [
            "Wa\n"
          ],
          "name": "stdout"
        }
      ]
    },
    {
      "cell_type": "code",
      "metadata": {
        "colab": {
          "base_uri": "https://localhost:8080/"
        },
        "id": "lhGrEe9qe6uj",
        "outputId": "a1e6c243-662c-4936-8712-e9b83f004b3b"
      },
      "source": [
        "cluster_tags"
      ],
      "execution_count": null,
      "outputs": [
        {
          "output_type": "execute_result",
          "data": {
            "text/plain": [
              "[['다시 한번', '숨은'],\n",
              " ['지나간', '옛날', '추억의'],\n",
              " ['그리움', '아이돌'],\n",
              " ['신나는', '메탈'],\n",
              " ['드라마틱', '발라드', '밤'],\n",
              " ['1세대', '아이돌'],\n",
              " ['힙한', '감각적인'],\n",
              " ['랩', '유영진', '이국적인']]"
            ]
          },
          "metadata": {
            "tags": []
          },
          "execution_count": 184
        }
      ]
    },
    {
      "cell_type": "code",
      "metadata": {
        "id": "Kip4peSyZflL"
      },
      "source": [
        "cluster_dict[0][0][1]"
      ],
      "execution_count": null,
      "outputs": []
    },
    {
      "cell_type": "code",
      "metadata": {
        "id": "wnB5wTfJO17f",
        "colab": {
          "base_uri": "https://localhost:8080/"
        },
        "outputId": "9d216cff-b7c4-4826-db37-66df05b9f723"
      },
      "source": [
        "sys.setrecursionlimit(10000)\n",
        "\n",
        "print(\"hierarchical Clustering\")\n",
        "\n",
        "X = model.docvecs.vectors_docs\n",
        "\n",
        "linked = linkage(X, 'ward')\n"
      ],
      "execution_count": null,
      "outputs": [
        {
          "output_type": "stream",
          "text": [
            "hierarchical Clustering\n"
          ],
          "name": "stdout"
        }
      ]
    },
    {
      "cell_type": "code",
      "metadata": {
        "id": "-buTJQkJUi4K",
        "colab": {
          "base_uri": "https://localhost:8080/"
        },
        "outputId": "e057cb44-633c-4176-a657-0ca4b37d2ab9"
      },
      "source": [
        "linked"
      ],
      "execution_count": null,
      "outputs": [
        {
          "output_type": "execute_result",
          "data": {
            "text/plain": [
              "array([[5.19700000e+03, 5.19800000e+03, 3.31226872e-02, 2.00000000e+00],\n",
              "       [4.73900000e+03, 4.74000000e+03, 3.34883817e-02, 2.00000000e+00],\n",
              "       [4.79400000e+03, 4.79500000e+03, 3.40015215e-02, 2.00000000e+00],\n",
              "       ...,\n",
              "       [1.03840000e+04, 1.04160000e+04, 1.28452031e+02, 2.45900000e+03],\n",
              "       [1.04140000e+04, 1.04180000e+04, 1.36193555e+02, 4.31800000e+03],\n",
              "       [1.04170000e+04, 1.04190000e+04, 2.46732698e+02, 5.21100000e+03]])"
            ]
          },
          "metadata": {
            "tags": []
          },
          "execution_count": 45
        }
      ]
    },
    {
      "cell_type": "code",
      "metadata": {
        "id": "23DfiJ7kUS3W",
        "colab": {
          "base_uri": "https://localhost:8080/",
          "height": 417
        },
        "outputId": "0dde2525-b584-4ac6-efba-4c3f9bd52b9d"
      },
      "source": [
        "labelList = range(1, 11)\n",
        "\n",
        "plt.figure(figsize=(10, 7))\n",
        "dendrogram(linked,no_labels=True)\n",
        "plt.show()"
      ],
      "execution_count": null,
      "outputs": [
        {
          "output_type": "display_data",
          "data": {
            "image/png": "[encoded data removed]",
            "text/plain": [
              "<Figure size 720x504 with 1 Axes>"
            ]
          },
          "metadata": {
            "tags": [],
            "needs_background": "light"
          }
        }
      ]
    },
    {
      "cell_type": "markdown",
      "metadata": {
        "id": "w1FPS-xlUb2X"
      },
      "source": [
        "# 완료된 클러스터링 데이터 불러오기"
      ]
    },
    {
      "cell_type": "code",
      "metadata": {
        "colab": {
          "base_uri": "https://localhost:8080/"
        },
        "id": "mxt8CHXJUfhv",
        "outputId": "ed951947-181d-4577-b854-99fc583f6ec2"
      },
      "source": [
        "#클러스터링 태그\n",
        "!gdown --id 1cIZmkllhoNDu5011_qia1YpswNVRckUT \n",
        "\n",
        "#클러스터링 데이터\n",
        "!gdown --id 1EUBeEHMPDBkfLTK9Hq0aMXwzrjDKJ48l\n",
        "\n",
        "\n",
        "cluster_tags_save = np.load('./cluster_tags_save.npy',allow_pickle=True)\n",
        "cluster_dict = np.load('./cluster_dict.npy',allow_pickle=True)"
      ],
      "execution_count": 42,
      "outputs": [
        {
          "output_type": "stream",
          "text": [
            "Downloading...\n",
            "From: https://drive.google.com/uc?id=1cIZmkllhoNDu5011_qia1YpswNVRckUT\n",
            "To: /content/cluster_tags_save.npy\n",
            "100% 703/703 [00:00<00:00, 527kB/s]\n",
            "Downloading...\n",
            "From: https://drive.google.com/uc?id=1EUBeEHMPDBkfLTK9Hq0aMXwzrjDKJ48l\n",
            "To: /content/cluster_dict.npy\n",
            "22.2MB [00:00, 70.5MB/s]\n"
          ],
          "name": "stdout"
        }
      ]
    },
    {
      "cell_type": "markdown",
      "metadata": {
        "id": "w4HFN3uQTK3o"
      },
      "source": [
        "# 기능 1 : 노래 입력받아서 재생목록 추천"
      ]
    },
    {
      "cell_type": "markdown",
      "metadata": {
        "id": "-Lr0PQahTvxv"
      },
      "source": [
        "노래 제목을 입력받습니다."
      ]
    },
    {
      "cell_type": "code",
      "metadata": {
        "id": "TfqgkmVJThNb"
      },
      "source": [
        "input = [\"Blueming\"]"
      ],
      "execution_count": 54,
      "outputs": []
    },
    {
      "cell_type": "markdown",
      "metadata": {
        "id": "4XVsJjSIT2UB"
      },
      "source": [
        "입력받은 노래가 보유하고 있는 데이터베이스 안에 있는지 확인합니다."
      ]
    },
    {
      "cell_type": "markdown",
      "metadata": {
        "id": "Et5nHqPNbz0S"
      },
      "source": [
        "없는 경우 검색 조건을 완화 (feat 제거 등)하여 검색하고, 그래도 없으면 google, melon 등에서 검색합니다."
      ]
    },
    {
      "cell_type": "code",
      "metadata": {
        "id": "Sydyme07T0Uv"
      },
      "source": [
        "input_lyrics = []\n",
        "for i in input:\n",
        "    try : \n",
        "        input_lyrics.append(train_data_all['가사'][train_data_all['제목']==i].values[0])\n",
        "    except : \n",
        "        try : \n",
        "            # 검색 조건을 완화하여 검색\n",
        "            print(\"입력한 제목과 정확히 일치하는 곡이 데이터베이스에 없습니다.\")\n",
        "            print(\"검색 조건을 완화하여 가사를 검색합니다.\")\n",
        "        except :\n",
        "            print(\"입력한 제목과 일치하는 곡이 데이터베이스에 없습니다.\")\n",
        "            print(\"외부 데이터베이스에서 가사를 검색합니다.\")\n"
      ],
      "execution_count": 55,
      "outputs": []
    },
    {
      "cell_type": "code",
      "metadata": {
        "colab": {
          "base_uri": "https://localhost:8080/",
          "height": 158
        },
        "id": "NMLdjFql0YWu",
        "outputId": "647be3e4-17c7-411a-9432-145913439d6a"
      },
      "source": [
        "input_lyrics[0]"
      ],
      "execution_count": 60,
      "outputs": [
        {
          "output_type": "execute_result",
          "data": {
            "application/vnd.google.colaboratory.intrinsic+json": {
              "type": "string"
            },
            "text/plain": [
              "'‘뭐해?‘라는 두 글자에 ‘네가 보고 싶어’ 나의 속마음을 담아 우 이모티콘 하나하나 속에 달라지는 내 미묘한 심리를 알까 우  아니 바쁘지 않아 nothing no no 잠들어 있지 않아 insomnia nia nia 지금 다른 사람과 함께이지 않아 응, 나도 너를 생각 중  우리의 네모 칸은 bloom 엄지손가락으로 장미꽃을 피워 향기에 취할 것 같아 우 오직 둘만의 비밀의 정원  I feel bloom I feel bloom I feel bloom 너에게 한 송이를 더 보내  밤샘 작업으로 업데이트 흥미로운 이 작품의 지은이 that’s me 우 어쩜 이 관계의 클라이맥스 2막으로 넘어가기엔 지금이 good timing 우  같은 맘인 걸 알아 realize la lize 말을 고르지 말아 just reply la la ly 조금 장난스러운 나의 은유에 네 해석이 궁금해  우리의 색은 gray and blue 엄지손가락으로 말풍선을 띄워 금세 터질 것 같아 우 호흡이 가빠져 어지러워  I feel blue. I feel blue. I feel blue. 너에게 가득히 채워  띄어쓰기없이보낼게사랑인것같애 백만송이장미꽃을, 나랑피워볼래? 꽃잎의 색은 우리 마음 가는 대로 칠해 시들 때도 예쁘게  우리의 네모 칸은 bloom 엄지손가락으로 장미꽃을 피워 향기에 취할 것 같아 우 오직 둘만의 비밀의 정원  I feel bloom I feel bloom I feel bloom 너에게 한 송이를 더 보내'"
            ]
          },
          "metadata": {
            "tags": []
          },
          "execution_count": 60
        }
      ]
    },
    {
      "cell_type": "code",
      "metadata": {
        "id": "0m26ORU9c1Sz"
      },
      "source": [
        "input_lyrics_tokenized = []\n",
        "for i in input_lyrics:\n",
        "    temp_X = []\n",
        "    temp_X = okt.morphs(i, stem=True) # 토큰화\n",
        "    temp_X = [word for word in temp_X if not word in stopwords] # 불용어 제거\n",
        "input_lyrics_tokenized.append(temp_X)"
      ],
      "execution_count": 62,
      "outputs": []
    },
    {
      "cell_type": "code",
      "metadata": {
        "id": "w0rZuhCq2DDd"
      },
      "source": [
        "input_lyrics_tokenized"
      ],
      "execution_count": null,
      "outputs": []
    },
    {
      "cell_type": "markdown",
      "metadata": {
        "id": "N11LqveEc0DG"
      },
      "source": [
        "doc2vec 모델을 불러와 데이터베이스 내의 곡들과 유사도 비교를 실행합니다."
      ]
    },
    {
      "cell_type": "code",
      "metadata": {
        "colab": {
          "base_uri": "https://localhost:8080/"
        },
        "id": "FK-33cg3VNd7",
        "outputId": "fa036007-b031-473b-ac0f-6addaab6c027"
      },
      "source": [
        "similarity_list = []\n",
        "for text in input_lyrics_tokenized:\n",
        "    inferred_v = model.infer_vector(text)\n",
        "    # print(f\"vector of {text}: {inferred_v}\")\n",
        "    \n",
        "    most_similar_docs = model.docvecs.most_similar([inferred_v], topn=5)\n",
        "    for index, similarity in most_similar_docs:\n",
        "        similarity_list.append(index)\n"
      ],
      "execution_count": 67,
      "outputs": [
        {
          "output_type": "stream",
          "text": [
            "/usr/local/lib/python3.6/dist-packages/gensim/matutils.py:737: FutureWarning: Conversion of the second argument of issubdtype from `int` to `np.signedinteger` is deprecated. In future, it will be treated as `np.int64 == np.dtype(int).type`.\n",
            "  if np.issubdtype(vec.dtype, np.int):\n"
          ],
          "name": "stderr"
        }
      ]
    },
    {
      "cell_type": "markdown",
      "metadata": {
        "id": "ZdeOWrUDnHcS"
      },
      "source": [
        "각 곡이 속한 클러스터를 찾습니다."
      ]
    },
    {
      "cell_type": "code",
      "metadata": {
        "id": "F8lhPE6ZVXQ6"
      },
      "source": [
        "similarity_cluster = []\n",
        "\n",
        "cluster_find = -1\n",
        "for each_song in similarity_list:\n",
        "    for n, cluster in enumerate(cluster_dict):\n",
        "        for songs in cluster:\n",
        "            try:\n",
        "                if each_song in songs[0]:\n",
        "                    cluster_find = n\n",
        "            except:\n",
        "                break\n",
        "    similarity_cluster.append(cluster_find)\n",
        "    "
      ],
      "execution_count": 68,
      "outputs": []
    },
    {
      "cell_type": "code",
      "metadata": {
        "colab": {
          "base_uri": "https://localhost:8080/"
        },
        "id": "OiAIyBEsmU-j",
        "outputId": "f1d5d66e-ff8f-4aac-e69e-fd84c36b141b"
      },
      "source": [
        "similarity_cluster"
      ],
      "execution_count": 69,
      "outputs": [
        {
          "output_type": "execute_result",
          "data": {
            "text/plain": [
              "[5, 5, 0, 5, 1]"
            ]
          },
          "metadata": {
            "tags": []
          },
          "execution_count": 69
        }
      ]
    },
    {
      "cell_type": "code",
      "metadata": {
        "colab": {
          "base_uri": "https://localhost:8080/"
        },
        "id": "Kkl58HvgnSOy",
        "outputId": "a3ef14c9-400a-4731-a34a-456cb28ee31b"
      },
      "source": [
        "cluster_cnt = [0,0,0,0,0,0,0,0,0,0]\n",
        "for i in similarity_cluster:\n",
        "    cluster_cnt[i] += 1\n",
        "\n",
        "max = -1\n",
        "max_n = -1\n",
        "for n, i in enumerate(cluster_cnt):\n",
        "    if i > max:\n",
        "        max = i\n",
        "        max_n = n\n",
        "\n",
        "print(max_n)"
      ],
      "execution_count": 70,
      "outputs": [
        {
          "output_type": "stream",
          "text": [
            "5\n"
          ],
          "name": "stdout"
        }
      ]
    },
    {
      "cell_type": "markdown",
      "metadata": {
        "id": "50gjj2gco36H"
      },
      "source": [
        "5번 클러스터에 속한 노래들 중 랜덤으로 추출된 곡을 선택합니다."
      ]
    },
    {
      "cell_type": "code",
      "metadata": {
        "colab": {
          "base_uri": "https://localhost:8080/"
        },
        "id": "XefIQthdpCar",
        "outputId": "b4df1860-6efe-4620-d67c-c4968371a76d"
      },
      "source": [
        "songint = []\n",
        "for i in range(10):\n",
        "    num = random.randrange(len(cluster_dict[0]))\n",
        "    while(num in songint):\n",
        "        num = random.randrange(len(cluster_dict[0]))\n",
        "    songint.append(train_data_all['제목'][num])\n",
        "print(songint)"
      ],
      "execution_count": 71,
      "outputs": [
        {
          "output_type": "stream",
          "text": [
            "['결심', '내안의 너', 'No Time To Lose', 'Run Away', '홀로서기', 'Eraser = Born To Kill', 'Black Beat', '세상에 던지는 한마디', '가면의 시간', '굴레를 벗어나 (Mo Funk Ver.)']\n"
          ],
          "name": "stdout"
        }
      ]
    },
    {
      "cell_type": "markdown",
      "metadata": {
        "id": "wAmFV_kKSYEh"
      },
      "source": [
        ""
      ]
    },
    {
      "cell_type": "code",
      "metadata": {
        "id": "wGFUA3c3SXfL"
      },
      "source": [
        ""
      ],
      "execution_count": null,
      "outputs": []
    },
    {
      "cell_type": "markdown",
      "metadata": {
        "id": "Fn6ySXz8nPRC"
      },
      "source": [
        "# 기능 2. 재생목록을 입력받아 재생목록의 이름 생성"
      ]
    },
    {
      "cell_type": "markdown",
      "metadata": {
        "id": "VQM1ofOFtDXt"
      },
      "source": [
        "다음 셀은 기능 1의 내용과 동일합니다"
      ]
    },
    {
      "cell_type": "markdown",
      "metadata": {
        "id": "vfwFrkLwvDVz"
      },
      "source": [
        "추가로, 10년 이상 된 곡들로 이루어진 재생목록을 예시로 넣었습니다."
      ]
    },
    {
      "cell_type": "code",
      "metadata": {
        "colab": {
          "base_uri": "https://localhost:8080/"
        },
        "id": "FLswHi7Ps8S8",
        "outputId": "7d962672-41bd-4f7e-bc0b-c7ed6cad8806"
      },
      "source": [
        "# \n",
        "input = [\"10점 만점에 10점\", \"남자를 몰라\", \"You\", \"여름안에서\", \"거짓말\"]\n",
        "\n",
        "input_lyrics = []\n",
        "for i in input:\n",
        "    try : \n",
        "        input_lyrics.append(train_data_all['가사'][train_data_all['제목']==i].values[0])\n",
        "    except : \n",
        "        try : \n",
        "            # 검색 조건을 완화하여 검색\n",
        "            print(\"입력한 제목과 정확히 일치하는 곡이 데이터베이스에 없습니다.\")\n",
        "            print(\"검색 조건을 완화하여 가사를 검색합니다.\")\n",
        "        except :\n",
        "            print(\"입력한 제목과 일치하는 곡이 데이터베이스에 없습니다.\")\n",
        "            print(\"외부 데이터베이스에서 가사를 검색합니다.\")\n",
        "\n",
        "input_lyrics_tokenized = []\n",
        "for i in input_lyrics:\n",
        "    temp_X = []\n",
        "    temp_X = okt.morphs(i, stem=True) # 토큰화\n",
        "    temp_X = [word for word in temp_X if not word in stopwords] # 불용어 제거\n",
        "input_lyrics_tokenized.append(temp_X)\n",
        "\n",
        "similarity_list = []\n",
        "for text in input_lyrics_tokenized:\n",
        "    inferred_v = model.infer_vector(text)\n",
        "    # print(f\"vector of {text}: {inferred_v}\")\n",
        "    most_similar_docs = model.docvecs.most_similar([inferred_v], topn=5)\n",
        "    for index, similarity in most_similar_docs:\n",
        "        similarity_list.append(index)\n",
        "        # print(index)\n",
        "\n",
        "similarity_cluster = []\n",
        "\n",
        "cluster_find = -1\n",
        "for each_song in similarity_list:\n",
        "    for n, cluster in enumerate(cluster_dict):\n",
        "        for songs in cluster:\n",
        "            try:\n",
        "                if each_song in songs[0]:\n",
        "                    cluster_find = n\n",
        "            except:\n",
        "                break\n",
        "    similarity_cluster.append(cluster_find)\n",
        "    \n",
        "cluster_cnt = [0,0,0,0,0,0,0,0,0,0]\n",
        "for i in similarity_cluster:\n",
        "    cluster_cnt[i] += 1\n",
        "\n",
        "max = -1\n",
        "max_n = -1\n",
        "for n, i in enumerate(cluster_cnt):\n",
        "    if i > max:\n",
        "        max = i\n",
        "        max_n = n\n",
        "\n",
        "print(max_n)"
      ],
      "execution_count": 73,
      "outputs": [
        {
          "output_type": "stream",
          "text": [
            "1\n"
          ],
          "name": "stdout"
        },
        {
          "output_type": "stream",
          "text": [
            "/usr/local/lib/python3.6/dist-packages/gensim/matutils.py:737: FutureWarning: Conversion of the second argument of issubdtype from `int` to `np.signedinteger` is deprecated. In future, it will be treated as `np.int64 == np.dtype(int).type`.\n",
            "  if np.issubdtype(vec.dtype, np.int):\n"
          ],
          "name": "stderr"
        }
      ]
    },
    {
      "cell_type": "markdown",
      "metadata": {
        "id": "tRh7fYcBvObE"
      },
      "source": [
        "1번 클러스터링이 선택되었음을 알 수 있습니다."
      ]
    },
    {
      "cell_type": "markdown",
      "metadata": {
        "id": "K_HstDeOvmrB"
      },
      "source": [
        "클러스터링의 태그를 불러옵니다"
      ]
    },
    {
      "cell_type": "code",
      "metadata": {
        "colab": {
          "base_uri": "https://localhost:8080/"
        },
        "id": "nv_E-TRxu4AP",
        "outputId": "2f1d6d3f-658e-4c2e-9bd4-b372ae7d3c1e"
      },
      "source": [
        "cluster_tags_save"
      ],
      "execution_count": 74,
      "outputs": [
        {
          "output_type": "execute_result",
          "data": {
            "text/plain": [
              "array([list(['다시 한번', '숨은']), list(['지나간', '옛날', '추억의']),\n",
              "       list(['그리움', '아이돌']), list(['신나는', '메탈']),\n",
              "       list(['드라마틱', '발라드', '밤']), list(['대중적', '아이돌', '다양한']),\n",
              "       list(['2세대', '노인돌']), list(['1세대', '들어본']), list(['힙한', '감각적인']),\n",
              "       list(['랩', '유영진', '이국적인'])], dtype=object)"
            ]
          },
          "metadata": {
            "tags": []
          },
          "execution_count": 74
        }
      ]
    },
    {
      "cell_type": "markdown",
      "metadata": {
        "id": "d8ec0BSis7yI"
      },
      "source": [
        "클러스터링의 태그 중 하나를 무작위로 선택합니다.\n"
      ]
    },
    {
      "cell_type": "code",
      "metadata": {
        "id": "-iM31w4ynOl4"
      },
      "source": [
        "title_tag = cluster_tags_save[max_n][random.randrange(len(cluster_tags_save[max_n]))]"
      ],
      "execution_count": 75,
      "outputs": []
    },
    {
      "cell_type": "code",
      "metadata": {
        "colab": {
          "base_uri": "https://localhost:8080/",
          "height": 35
        },
        "id": "Bg-idW2JwU25",
        "outputId": "43f044cd-ab61-4012-a106-6181d986c321"
      },
      "source": [
        "title_tag"
      ],
      "execution_count": 76,
      "outputs": [
        {
          "output_type": "execute_result",
          "data": {
            "application/vnd.google.colaboratory.intrinsic+json": {
              "type": "string"
            },
            "text/plain": [
              "'추억의'"
            ]
          },
          "metadata": {
            "tags": []
          },
          "execution_count": 76
        }
      ]
    },
    {
      "cell_type": "markdown",
      "metadata": {
        "id": "-ds9bFKAQ34S"
      },
      "source": [
        "선택된 태그로 제목을 생성합니다"
      ]
    },
    {
      "cell_type": "code",
      "metadata": {
        "id": "iXOpJyYsi64S"
      },
      "source": [
        "x = !python3 /content/drive/MyDrive/생성/generator.py --load_path='/content/drive/MyDrive/생성/checkpoint/KoGPT2_checkpoint_480000.tar' --tmp_sent=추억 --loops=20"
      ],
      "execution_count": 85,
      "outputs": []
    },
    {
      "cell_type": "markdown",
      "metadata": {
        "id": "rrFDpxZc9zcx"
      },
      "source": [
        "생성된 제목들 중 랜덤으로 하나를 선택하여 출력합니다"
      ]
    },
    {
      "cell_type": "code",
      "metadata": {
        "id": "OYAqBS01h1na"
      },
      "source": [
        "for n, index in enumerate(x):\n",
        "    if title_tag in index:\n",
        "        start = n\n",
        "        break\n",
        "\n",
        "for n, index in enumerate(x):\n",
        "    if title_tag in index:\n",
        "        end = n\n",
        "\n",
        "x1 = x[start:end]"
      ],
      "execution_count": 89,
      "outputs": []
    },
    {
      "cell_type": "code",
      "metadata": {
        "colab": {
          "base_uri": "https://localhost:8080/",
          "height": 35
        },
        "id": "pMeInsGt-q--",
        "outputId": "5e7b3aa0-28f3-437c-f301-c347fb09d0b0"
      },
      "source": [
        "random.choice(x1)"
      ],
      "execution_count": 98,
      "outputs": [
        {
          "output_type": "execute_result",
          "data": {
            "application/vnd.google.colaboratory.intrinsic+json": {
              "type": "string"
            },
            "text/plain": [
              "'추억의 아이돌 명곡들'"
            ]
          },
          "metadata": {
            "tags": []
          },
          "execution_count": 98
        }
      ]
    },
    {
      "cell_type": "code",
      "metadata": {
        "id": "loS-2nzG_5Ar"
      },
      "source": [
        ""
      ],
      "execution_count": null,
      "outputs": []
    }
  ]
}